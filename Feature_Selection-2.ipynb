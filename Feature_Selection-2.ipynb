{
 "cells": [
  {
   "cell_type": "code",
   "execution_count": 1,
   "metadata": {},
   "outputs": [],
   "source": [
    "from __future__ import absolute_import, division, print_function, unicode_literals\n",
    "\n",
    "# TensorFlow and tf.keras\n",
    "import tensorflow as tf\n",
    "from tensorflow import keras\n",
    "# Helper libraries\n",
    "import numpy as np\n",
    "import matplotlib.pyplot as plt\n",
    "import scipy.io\n",
    "import numpy as np\n",
    "import numpy as np\n",
    "from scipy.sparse import load_npz"
   ]
  },
  {
   "cell_type": "code",
   "execution_count": 2,
   "metadata": {
    "scrolled": true
   },
   "outputs": [
    {
     "data": {
      "text/plain": [
       "<tensorflow.python.client.session.Session at 0x7fd7ff3b6240>"
      ]
     },
     "execution_count": 2,
     "metadata": {},
     "output_type": "execute_result"
    }
   ],
   "source": [
    "config_tf = tf.ConfigProto(device_count={'GPU': 0, 'CPU': 5})\n",
    "config_tf.intra_op_parallelism_threads = 15\n",
    "config_tf.inter_op_parallelism_threads = 15\n",
    "tf.Session(config=config_tf)"
   ]
  },
  {
   "cell_type": "code",
   "execution_count": 77,
   "metadata": {},
   "outputs": [],
   "source": [
    "class_labels = [\"1\", \"2\", \"3\", \"4\",\"5\",\"6\"]\n",
    "class_names= {'HAP1':1, 'HeLa':2, 'MEF':3, 'Patski','K562','GM12878'}"
   ]
  },
  {
   "cell_type": "code",
   "execution_count": 11,
   "metadata": {},
   "outputs": [
    {
     "data": {
      "text/plain": [
       "(5029, 5167)"
      ]
     },
     "execution_count": 11,
     "metadata": {},
     "output_type": "execute_result"
    }
   ],
   "source": [
    "np.shape(data)"
   ]
  },
  {
   "cell_type": "markdown",
   "metadata": {},
   "source": [
    "## Load GSE84920-cell lines"
   ]
  },
  {
   "cell_type": "code",
   "execution_count": 2,
   "metadata": {},
   "outputs": [],
   "source": [
    "import os\n",
    "import pandas as pd\n",
    "#DataMain=np.load(\"/home/nanni/Projects/SingleCellHiC/DI_indices/human_DIs.npy\")\n",
    "DataMain=np.load(\"/home/amirreza/DI_indices22/human_DIs-cL_FULL.npy\")\n",
    "data=DataMain\n",
    "cell_line={'HAP1':1, 'HeLa':2,'GM12878':3, 'K562':4}\n",
    "human_meta = pd.read_csv(os.path.join(\"./DI_indices\", '/home/nanni/Projects/SingleCellHiC/DI_indices/human_meta.tsv'), sep=\"\\t\")\n",
    "human_meta.cell_line=[cell_line[item] for item in human_meta.cell_line]\n",
    "label=human_meta['cell_line']\n",
    "label=np.array(label)"
   ]
  },
  {
   "cell_type": "code",
   "execution_count": 6,
   "metadata": {},
   "outputs": [],
   "source": [
    "#load summation Data\n",
    "DataMain=scipy.sparse.load_npz('/home/amirreza/Dataset/GSE84920_RAW/sparse/TOT/DataMainNew-GSE84920-humanTOT-normalized.npz')\n",
    "mat= DataMain.toarray()\n",
    "X=mat\n",
    "data1=X[1:,0:-1]\n",
    "label1=X[1:,-1]\n",
    "data=data1[np.where((label1 != 3.) & (label1 != 4.))]\n",
    "label=label1[np.where((label1 != 3.) & (label1 != 4.))]\n",
    "label=np.array(label)"
   ]
  },
  {
   "cell_type": "code",
   "execution_count": 31,
   "metadata": {},
   "outputs": [
    {
     "data": {
      "text/plain": [
       "(5029, 6087)"
      ]
     },
     "execution_count": 31,
     "metadata": {},
     "output_type": "execute_result"
    }
   ],
   "source": [
    "data.shape"
   ]
  },
  {
   "cell_type": "code",
   "execution_count": null,
   "metadata": {},
   "outputs": [],
   "source": [
    "data1.shape"
   ]
  },
  {
   "cell_type": "code",
   "execution_count": null,
   "metadata": {},
   "outputs": [],
   "source": [
    "data=data[np.where((label != 3.) & (label != 4.))]\n",
    "label=label[np.where((label != 3.) & (label != 4.))]"
   ]
  },
  {
   "cell_type": "code",
   "execution_count": null,
   "metadata": {},
   "outputs": [],
   "source": [
    "#load sum/#nonzero Data\n",
    "#DataM\n",
    "DataMain=np.loadtxt(open(\"/home/amirreza/Dataset/GSE84920_RAW/sparse/TOT/DataMainNew-GSE84920-humanTOT-normalized.npz\", \"rb\"), delimiter=\",\", skiprows=0)[1:,:]\n",
    "label=DataMain[:,-1]\n",
    "data=DataMain[:,:-1]\n",
    "data=data[np.where((label != 3.) & (label != 4.))]\n",
    "label=label[np.where((label != 3.) & (label != 4.))]"
   ]
  },
  {
   "cell_type": "code",
   "execution_count": 147,
   "metadata": {},
   "outputs": [],
   "source": [
    "#load sum/#nonzero Data\n",
    "#DataM\n",
    "DataMain=np.loadtxt(open(\"/home/amirreza/Dataset/GSE84920_RAW/sparse/TOT-intra/Directionality-OK-6086LOG-normalized-human-intra-GSE20\", \"rb\"), delimiter=\",\", skiprows=0)[1:,:]\n",
    "label=DataMain[:,-1]\n",
    "data=DataMain[:,:-1]\n",
    "data=data[np.where((label != 3.) & (label != 4.))]\n",
    "label=label[np.where((label != 3.) & (label != 4.))]"
   ]
  },
  {
   "cell_type": "code",
   "execution_count": 2,
   "metadata": {},
   "outputs": [],
   "source": [
    "#load sum/#nonzero Data\n",
    "#DataM\n",
    "DataMain=np.loadtxt(open(\"/home/amirreza/Dataset/GSE84920_RAW/sparse/TOT-intra/Directionality-OK-6086-normalized-human-intra-GSE20\", \"rb\"), delimiter=\",\", skiprows=0)[1:,:]\n",
    "label=DataMain[:,-1]\n",
    "data=DataMain[:,:-1]\n",
    "data=data[np.where((label != 3.) & (label != 4.))]\n",
    "label=label[np.where((label != 3.) & (label != 4.))]"
   ]
  },
  {
   "cell_type": "code",
   "execution_count": 3,
   "metadata": {},
   "outputs": [],
   "source": [
    "label[label==4]=6\n",
    "label[label==3]=5"
   ]
  },
  {
   "cell_type": "code",
   "execution_count": 18,
   "metadata": {},
   "outputs": [
    {
     "data": {
      "text/plain": [
       "{'HAP1': 1, 'HeLa': 2, 'GM12878': 3, 'K562': 4}"
      ]
     },
     "execution_count": 18,
     "metadata": {},
     "output_type": "execute_result"
    }
   ],
   "source": [
    "cell_line"
   ]
  },
  {
   "cell_type": "code",
   "execution_count": 76,
   "metadata": {},
   "outputs": [],
   "source": [
    "#load sum/#nonzero Data\n",
    "#DataM\n",
    "DataMain=np.loadtxt(open(\"/home/amirreza/Dataset/GSE84920_RAW/sparse/TOT/Directionality-OK-20-normalized-human-GSE20\", \"rb\"), delimiter=\",\", skiprows=0)[1:,:]\n",
    "label=DataMain[:,-1]\n",
    "data=DataMain[:,:-1]\n",
    "data=data[np.where((label != 3.) & (label != 4.))]\n",
    "label=label[np.where((label != 3.) & (label != 4.))]"
   ]
  },
  {
   "cell_type": "markdown",
   "metadata": {},
   "source": [
    "## Load Nagano DB-Cell Cycle"
   ]
  },
  {
   "cell_type": "code",
   "execution_count": 2,
   "metadata": {},
   "outputs": [],
   "source": [
    "import os\n",
    "import pandas as pd \n",
    "DataMain=np.load(\"/home/amirreza/Dataset/MAIN/Dataset/human_DIs-cc.npy\")\n",
    "data=DataMain\n",
    "cell_cycle={'G1':1, 'ES':2,'MS':3, 'G2':4}\n",
    "human_meta = pd.read_csv( '/home/amirreza/Dataset/MAIN/Dataset/human_meta_cellcycle.tsv', sep=\"\\t\")\n",
    "human_meta.cell_cycle=[cell_cycle[item] for item in human_meta.cell_cycle]\n",
    "label=human_meta['cell_cycle']\n",
    "label=np.array(label)"
   ]
  },
  {
   "cell_type": "code",
   "execution_count": 3,
   "metadata": {},
   "outputs": [
    {
     "data": {
      "text/plain": [
       "(1171, 4489)"
      ]
     },
     "execution_count": 3,
     "metadata": {},
     "output_type": "execute_result"
    }
   ],
   "source": []
  },
  {
   "cell_type": "code",
   "execution_count": 4,
   "metadata": {
    "scrolled": true
   },
   "outputs": [],
   "source": [
    "#load summation Data\n",
    "DataMain=scipy.sparse.load_npz('DataMainNewl.npz')\n",
    "mat= DataMain.toarray()\n",
    "X=mat\n",
    "data=X[1:,0:-1]\n",
    "label=X[1:,-1]"
   ]
  },
  {
   "cell_type": "code",
   "execution_count": null,
   "metadata": {
    "scrolled": true
   },
   "outputs": [],
   "source": [
    "data[np.isnan(data)]=0"
   ]
  },
  {
   "cell_type": "code",
   "execution_count": null,
   "metadata": {
    "scrolled": true
   },
   "outputs": [],
   "source": [
    "\n",
    "#load summation Data\n",
    "DataMain=scipy.sparse.load_npz('DataMainNewMIl.npz')\n",
    "mat= DataMain.toarray()\n",
    "X=mat\n",
    "data=X[1:,0:-1]\n",
    "label=X[1:,-1]"
   ]
  },
  {
   "cell_type": "code",
   "execution_count": null,
   "metadata": {
    "scrolled": true
   },
   "outputs": [],
   "source": [
    "#load sum/#nonzero Data\n",
    "#DataMMF\n",
    "DataMain=np.loadtxt(open(\"DataMMF-new\", \"rb\"), delimiter=\",\", skiprows=0)\n",
    "data=DataMain[:,0:-1]\n",
    "label=DataMain[:,-1]"
   ]
  },
  {
   "cell_type": "code",
   "execution_count": null,
   "metadata": {
    "scrolled": true
   },
   "outputs": [],
   "source": [
    "#load sum/#nonzero Data\n",
    "#DataM\n",
    "DataMain=np.loadtxt(open(\"FOR-Back\", \"rb\"), delimiter=\",\", skiprows=0)\n",
    "data=DataMain\n",
    "label=np.loadtxt(open(\"merginx2var2labels\", \"rb\"), delimiter=\",\", skiprows=0)"
   ]
  },
  {
   "cell_type": "code",
   "execution_count": null,
   "metadata": {},
   "outputs": [],
   "source": [
    "#load sum/#nonzero Data\n",
    "#DataM\n",
    "DataMain=np.loadtxt(open(\"FOR-BACK-ADS1.csv\", \"rb\"), delimiter=\",\", skiprows=0)\n",
    "data=DataMain\n",
    "label=np.loadtxt(open(\"merginx2var2labels\", \"rb\"), delimiter=\",\", skiprows=0)\n",
    "DataMain[np.where(np.isnan(DataMain))]=0"
   ]
  },
  {
   "cell_type": "code",
   "execution_count": 2,
   "metadata": {},
   "outputs": [],
   "source": [
    "#load sum/#nonzero Data\n",
    "#DataM-LAP5\n",
    "DataMain=np.loadtxt(open(\"FOR-Back-intra.csv\", \"rb\"), delimiter=\",\", skiprows=0)\n",
    "data=DataMain[:,0:-1]\n",
    "label=DataMain[:,-1]"
   ]
  },
  {
   "cell_type": "code",
   "execution_count": null,
   "metadata": {},
   "outputs": [],
   "source": [
    "#load sum/#nonzero Data\n",
    "#DataM-LAP5\n",
    "DataMain=np.loadtxt(open(\"FOR-Back2000.csv\", \"rb\"), delimiter=\",\", skiprows=0)\n",
    "data=DataMain[:,0:-1]\n",
    "label=DataMain[:,-1]"
   ]
  },
  {
   "cell_type": "code",
   "execution_count": 3,
   "metadata": {
    "scrolled": true
   },
   "outputs": [],
   "source": [
    "#load sum/#nonzero Data\n",
    "DataMain=np.loadtxt(open(\"DataMainNew-LOG-ECOU.csv\", \"rb\"), delimiter=\",\", skiprows=0)[1:,:]\n",
    "data=DataMain[:,0:-1]\n",
    "label=DataMain[:,-1]"
   ]
  },
  {
   "cell_type": "code",
   "execution_count": null,
   "metadata": {
    "scrolled": true
   },
   "outputs": [],
   "source": [
    "data=np.loadtxt(open(\"merginx2var2\", \"rb\"), delimiter=\",\", skiprows=0)\n",
    "label=np.loadtxt(open(\"merginx2var2labels\", \"rb\"), delimiter=\",\", skiprows=0)"
   ]
  },
  {
   "cell_type": "code",
   "execution_count": null,
   "metadata": {},
   "outputs": [],
   "source": [
    "data=np.loadtxt(open(\"merginxtan8\", \"rb\"), delimiter=\",\", skiprows=0)\n",
    "label=np.loadtxt(open(\"merginxtan8labels\", \"rb\"), delimiter=\",\", skiprows=0)"
   ]
  },
  {
   "cell_type": "code",
   "execution_count": null,
   "metadata": {
    "scrolled": true
   },
   "outputs": [],
   "source": [
    "data3=np.hstack([data, data2]) "
   ]
  },
  {
   "cell_type": "code",
   "execution_count": null,
   "metadata": {},
   "outputs": [],
   "source": [
    "Data=data"
   ]
  },
  {
   "cell_type": "code",
   "execution_count": null,
   "metadata": {},
   "outputs": [],
   "source": [
    "Counter({1.0: 267, 6.0: 482, 2.0: 299, 5.0: 304, 4.0: 70, 3.0: 9})\n",
    "['HAP1', 'HeLa', 'MEF', 'Patski','K562','GM12878']"
   ]
  },
  {
   "cell_type": "markdown",
   "metadata": {},
   "source": [
    "## Var Process"
   ]
  },
  {
   "cell_type": "code",
   "execution_count": 5,
   "metadata": {
    "scrolled": true
   },
   "outputs": [],
   "source": [
    "#ok\n",
    "from sklearn.feature_selection import VarianceThreshold\n",
    "selector = VarianceThreshold()\n",
    "vv=selector.fit_transform(data)\n",
    "data=vv"
   ]
  },
  {
   "cell_type": "code",
   "execution_count": 4,
   "metadata": {},
   "outputs": [
    {
     "data": {
      "text/plain": [
       "(1171, 4463)"
      ]
     },
     "execution_count": 4,
     "metadata": {},
     "output_type": "execute_result"
    }
   ],
   "source": [
    "data.shape"
   ]
  },
  {
   "cell_type": "code",
   "execution_count": null,
   "metadata": {
    "scrolled": true
   },
   "outputs": [],
   "source": [
    "#%store -r x \n",
    "#%store -r label\n",
    "#data=x\n",
    "#label=label"
   ]
  },
  {
   "cell_type": "code",
   "execution_count": null,
   "metadata": {
    "scrolled": true
   },
   "outputs": [],
   "source": [
    "n_samples, n_features = np.shape(data)\n",
    "print(n_samples, n_features)"
   ]
  },
  {
   "cell_type": "markdown",
   "metadata": {},
   "source": [
    "# Test/Train div"
   ]
  },
  {
   "cell_type": "code",
   "execution_count": 3,
   "metadata": {
    "scrolled": true
   },
   "outputs": [],
   "source": [
    "from sklearn.model_selection import train_test_split\n",
    "X_train, X_test, y_train, y_test = train_test_split(data, label, test_size=0.2, random_state=40)\n",
    "y_train=y_train.astype(int)\n",
    "y_test=y_test.astype(int)"
   ]
  },
  {
   "cell_type": "markdown",
   "metadata": {},
   "source": [
    "# Data Preprocessin\n"
   ]
  },
  {
   "cell_type": "code",
   "execution_count": 4,
   "metadata": {
    "scrolled": true
   },
   "outputs": [],
   "source": [
    "from sklearn.impute import SimpleImputer\n",
    "imputer=SimpleImputer(strategy=\"median\")\n",
    "imputer.fit(X_train)\n",
    "X_train=imputer.transform(X_train)\n",
    "imputer.fit(X_test)\n",
    "X_test=imputer.transform(X_test)"
   ]
  },
  {
   "cell_type": "code",
   "execution_count": 5,
   "metadata": {
    "scrolled": true
   },
   "outputs": [],
   "source": [
    "from sklearn.preprocessing import StandardScaler\n",
    "sc = StandardScaler()\n",
    "X_train = sc.fit_transform(X_train)\n",
    " \n",
    "X_test = sc.transform(X_test)"
   ]
  },
  {
   "cell_type": "code",
   "execution_count": 6,
   "metadata": {
    "scrolled": true
   },
   "outputs": [],
   "source": [
    "from sklearn.preprocessing import StandardScaler\n",
    "from sklearn.impute import SimpleImputer\n",
    "from sklearn.pipeline import Pipeline\n",
    "num_pip=Pipeline([\n",
    "    ('imputer',SimpleImputer(strategy=\"median\")),\n",
    "    ('std_scaler',StandardScaler()),\n",
    "])"
   ]
  },
  {
   "cell_type": "code",
   "execution_count": 7,
   "metadata": {
    "scrolled": true
   },
   "outputs": [],
   "source": [
    "X_train=num_pip.fit_transform(X_train)\n",
    "X_test = num_pip.transform(X_test)"
   ]
  },
  {
   "cell_type": "code",
   "execution_count": 14,
   "metadata": {
    "scrolled": true
   },
   "outputs": [],
   "source": [
    "#%store X_train\n",
    "#%store X_test\n",
    "#idx=idx.astype(int)\n",
    "Data=num_pip.fit_transform(data)"
   ]
  },
  {
   "cell_type": "code",
   "execution_count": 10,
   "metadata": {},
   "outputs": [
    {
     "data": {
      "text/plain": [
       "(array([], dtype=int64), array([], dtype=int64))"
      ]
     },
     "execution_count": 10,
     "metadata": {},
     "output_type": "execute_result"
    }
   ],
   "source": [
    "np.where(np.isinf(data))"
   ]
  },
  {
   "cell_type": "code",
   "execution_count": 11,
   "metadata": {
    "scrolled": true
   },
   "outputs": [
    {
     "data": {
      "text/plain": [
       "(936, 4463)"
      ]
     },
     "execution_count": 11,
     "metadata": {},
     "output_type": "execute_result"
    }
   ],
   "source": [
    "#%store y_train\n",
    "np.shape(X_train)\n",
    "#%store y_test"
   ]
  },
  {
   "cell_type": "markdown",
   "metadata": {},
   "source": [
    "# Feature Selection"
   ]
  },
  {
   "cell_type": "code",
   "execution_count": 34,
   "metadata": {},
   "outputs": [
    {
     "data": {
      "text/plain": [
       "array([ 2312.11422918, 31631.1912578 , 36534.91603223, ...,\n",
       "       44116.23778913, 38525.8153755 ,     0.        ])"
      ]
     },
     "execution_count": 34,
     "metadata": {},
     "output_type": "execute_result"
    }
   ],
   "source": [
    "score_rel"
   ]
  },
  {
   "cell_type": "code",
   "execution_count": 7,
   "metadata": {
    "scrolled": true
   },
   "outputs": [],
   "source": [
    "#ReliefF\n",
    "#bst\n",
    "\n",
    "from skfeature.function.similarity_based import reliefF\n",
    "score_rel = reliefF.reliefF(X_train, y_train)\n",
    "idx_rel = reliefF.feature_ranking(score_rel)\n",
    "\n",
    "#idx_rel[:500]"
   ]
  },
  {
   "cell_type": "code",
   "execution_count": 9,
   "metadata": {},
   "outputs": [
    {
     "data": {
      "text/plain": [
       "array([[ 0.56587406, -0.88056618],\n",
       "       [-0.75579171, -0.42291357],\n",
       "       [-0.86898758,  1.94500992],\n",
       "       ...,\n",
       "       [-0.86898758, -0.68590572],\n",
       "       [ 0.43552814, -0.12893914],\n",
       "       [-0.71085392, -1.49783514]])"
      ]
     },
     "execution_count": 9,
     "metadata": {},
     "output_type": "execute_result"
    }
   ],
   "source": [
    "from ReliefF import ReliefF\n",
    "fs = ReliefF(n_neighbors=10, n_features_to_keep=2)\n",
    "fs.fit_transform(X_train, y_train)"
   ]
  },
  {
   "cell_type": "code",
   "execution_count": 8,
   "metadata": {
    "scrolled": true
   },
   "outputs": [
    {
     "name": "stderr",
     "output_type": "stream",
     "text": [
      "/home/amirreza/anaconda3/envs/IMD/lib/python3.6/site-packages/sklearn/feature_selection/univariate_selection.py:114: UserWarning: Features [ 151  152  153  806 3001 3518 3521 3522 3555 3556 3557 3558 3559 3560\n",
      " 3561 3562 3563 3564 3565 3566 3567 3783 3784 3785 3855 3856 4228 4418] are constant.\n",
      "  UserWarning)\n",
      "/home/amirreza/anaconda3/envs/IMD/lib/python3.6/site-packages/sklearn/feature_selection/univariate_selection.py:115: RuntimeWarning: invalid value encountered in true_divide\n",
      "  f = msb / msw\n"
     ]
    }
   ],
   "source": [
    "#F-score\n",
    "from skfeature.function.statistical_based import f_score\n",
    "score = f_score.f_score(X_train, y_train)\n",
    "idx_fscore = f_score.feature_ranking(score)\n",
    "#idx_fscore[0:500]"
   ]
  },
  {
   "cell_type": "code",
   "execution_count": 9,
   "metadata": {
    "scrolled": true
   },
   "outputs": [],
   "source": [
    "#lap-score\n",
    "from skfeature.function.similarity_based import lap_score\n",
    "from skfeature.utility import construct_W\n",
    "from skfeature.utility import unsupervised_evaluation\n",
    "kwargs_W = {\"metric\": \"euclidean\", \"neighbor_mode\": \"knn\", \"weight_mode\": \"heat_kernel\", \"k\": 7, 't': 1,'reliefF':True}\n",
    "W = construct_W.construct_W(X_train, **kwargs_W)\n",
    "\n",
    "# obtain the scores of features\n",
    "score_lap = lap_score.lap_score(X_train, W=W)\n",
    "\n",
    "# sort the feature scores in an ascending order according to the feature scores\n",
    "idx_lap = lap_score.feature_ranking(score_lap)\n",
    "#idx_lap[0:500]"
   ]
  },
  {
   "cell_type": "code",
   "execution_count": 10,
   "metadata": {
    "scrolled": true
   },
   "outputs": [
    {
     "name": "stdout",
     "output_type": "stream",
     "text": [
      "[0.01904085 0.00276241 0.00157407 ... 0.01291607 0.0119678  0.0023227 ]\n"
     ]
    }
   ],
   "source": [
    "#Fisher Score\n",
    "from skfeature.function.similarity_based import fisher_score\n",
    "score_fish = fisher_score.fisher_score(X_train, y_train)\n",
    "print(score_fish)\n",
    "idx_fish = fisher_score.feature_ranking(score_fish)\n"
   ]
  },
  {
   "cell_type": "code",
   "execution_count": 10,
   "metadata": {},
   "outputs": [],
   "source": [
    "Data={'ReliefF':[],'Laplacian':[],'Fisher':[]}"
   ]
  },
  {
   "cell_type": "code",
   "execution_count": 11,
   "metadata": {},
   "outputs": [],
   "source": [
    "Dataf=pd.DataFrame(Data,columns=['ReliefF','Laplacian','Fisher'])"
   ]
  },
  {
   "cell_type": "code",
   "execution_count": 17,
   "metadata": {},
   "outputs": [],
   "source": [
    "Data={'ReliefF':[],'Laplacian':[],'Fisher':[]}"
   ]
  },
  {
   "cell_type": "code",
   "execution_count": 15,
   "metadata": {},
   "outputs": [],
   "source": [
    "Dataf['Laplacian']=score_lap"
   ]
  },
  {
   "cell_type": "code",
   "execution_count": 21,
   "metadata": {},
   "outputs": [],
   "source": [
    "bins = pd.read_csv('Dataset/MAIN/bins.tsv', sep='\\t')\n",
    "\n"
   ]
  },
  {
   "cell_type": "code",
   "execution_count": 20,
   "metadata": {},
   "outputs": [],
   "source": [
    "bins = np.load('bins_human_celllines.npy',allow_pickle=True)"
   ]
  },
  {
   "cell_type": "code",
   "execution_count": 22,
   "metadata": {},
   "outputs": [
    {
     "data": {
      "text/html": [
       "<div>\n",
       "<style scoped>\n",
       "    .dataframe tbody tr th:only-of-type {\n",
       "        vertical-align: middle;\n",
       "    }\n",
       "\n",
       "    .dataframe tbody tr th {\n",
       "        vertical-align: top;\n",
       "    }\n",
       "\n",
       "    .dataframe thead th {\n",
       "        text-align: right;\n",
       "    }\n",
       "</style>\n",
       "<table border=\"1\" class=\"dataframe\">\n",
       "  <thead>\n",
       "    <tr style=\"text-align: right;\">\n",
       "      <th></th>\n",
       "      <th>chr</th>\n",
       "      <th>start</th>\n",
       "      <th>end</th>\n",
       "      <th>bin_id</th>\n",
       "    </tr>\n",
       "  </thead>\n",
       "  <tbody>\n",
       "    <tr>\n",
       "      <th>0</th>\n",
       "      <td>chr1</td>\n",
       "      <td>0</td>\n",
       "      <td>500000</td>\n",
       "      <td>0</td>\n",
       "    </tr>\n",
       "    <tr>\n",
       "      <th>1</th>\n",
       "      <td>chr1</td>\n",
       "      <td>500000</td>\n",
       "      <td>1000000</td>\n",
       "      <td>1</td>\n",
       "    </tr>\n",
       "    <tr>\n",
       "      <th>2</th>\n",
       "      <td>chr1</td>\n",
       "      <td>1000000</td>\n",
       "      <td>1500000</td>\n",
       "      <td>2</td>\n",
       "    </tr>\n",
       "    <tr>\n",
       "      <th>3</th>\n",
       "      <td>chr1</td>\n",
       "      <td>1500000</td>\n",
       "      <td>2000000</td>\n",
       "      <td>3</td>\n",
       "    </tr>\n",
       "    <tr>\n",
       "      <th>4</th>\n",
       "      <td>chr1</td>\n",
       "      <td>2000000</td>\n",
       "      <td>2500000</td>\n",
       "      <td>4</td>\n",
       "    </tr>\n",
       "    <tr>\n",
       "      <th>5</th>\n",
       "      <td>chr1</td>\n",
       "      <td>2500000</td>\n",
       "      <td>3000000</td>\n",
       "      <td>5</td>\n",
       "    </tr>\n",
       "    <tr>\n",
       "      <th>6</th>\n",
       "      <td>chr1</td>\n",
       "      <td>3000000</td>\n",
       "      <td>3500000</td>\n",
       "      <td>6</td>\n",
       "    </tr>\n",
       "    <tr>\n",
       "      <th>7</th>\n",
       "      <td>chr1</td>\n",
       "      <td>3500000</td>\n",
       "      <td>4000000</td>\n",
       "      <td>7</td>\n",
       "    </tr>\n",
       "    <tr>\n",
       "      <th>8</th>\n",
       "      <td>chr1</td>\n",
       "      <td>4000000</td>\n",
       "      <td>4500000</td>\n",
       "      <td>8</td>\n",
       "    </tr>\n",
       "    <tr>\n",
       "      <th>9</th>\n",
       "      <td>chr1</td>\n",
       "      <td>4500000</td>\n",
       "      <td>5000000</td>\n",
       "      <td>9</td>\n",
       "    </tr>\n",
       "    <tr>\n",
       "      <th>10</th>\n",
       "      <td>chr1</td>\n",
       "      <td>5000000</td>\n",
       "      <td>5500000</td>\n",
       "      <td>10</td>\n",
       "    </tr>\n",
       "    <tr>\n",
       "      <th>11</th>\n",
       "      <td>chr1</td>\n",
       "      <td>5500000</td>\n",
       "      <td>6000000</td>\n",
       "      <td>11</td>\n",
       "    </tr>\n",
       "    <tr>\n",
       "      <th>12</th>\n",
       "      <td>chr1</td>\n",
       "      <td>6000000</td>\n",
       "      <td>6500000</td>\n",
       "      <td>12</td>\n",
       "    </tr>\n",
       "    <tr>\n",
       "      <th>13</th>\n",
       "      <td>chr1</td>\n",
       "      <td>6500000</td>\n",
       "      <td>7000000</td>\n",
       "      <td>13</td>\n",
       "    </tr>\n",
       "    <tr>\n",
       "      <th>14</th>\n",
       "      <td>chr1</td>\n",
       "      <td>7000000</td>\n",
       "      <td>7500000</td>\n",
       "      <td>14</td>\n",
       "    </tr>\n",
       "    <tr>\n",
       "      <th>15</th>\n",
       "      <td>chr1</td>\n",
       "      <td>7500000</td>\n",
       "      <td>8000000</td>\n",
       "      <td>15</td>\n",
       "    </tr>\n",
       "    <tr>\n",
       "      <th>16</th>\n",
       "      <td>chr1</td>\n",
       "      <td>8000000</td>\n",
       "      <td>8500000</td>\n",
       "      <td>16</td>\n",
       "    </tr>\n",
       "    <tr>\n",
       "      <th>17</th>\n",
       "      <td>chr1</td>\n",
       "      <td>8500000</td>\n",
       "      <td>9000000</td>\n",
       "      <td>17</td>\n",
       "    </tr>\n",
       "    <tr>\n",
       "      <th>18</th>\n",
       "      <td>chr1</td>\n",
       "      <td>9000000</td>\n",
       "      <td>9500000</td>\n",
       "      <td>18</td>\n",
       "    </tr>\n",
       "    <tr>\n",
       "      <th>19</th>\n",
       "      <td>chr1</td>\n",
       "      <td>9500000</td>\n",
       "      <td>10000000</td>\n",
       "      <td>19</td>\n",
       "    </tr>\n",
       "    <tr>\n",
       "      <th>20</th>\n",
       "      <td>chr1</td>\n",
       "      <td>10000000</td>\n",
       "      <td>10500000</td>\n",
       "      <td>20</td>\n",
       "    </tr>\n",
       "    <tr>\n",
       "      <th>21</th>\n",
       "      <td>chr1</td>\n",
       "      <td>10500000</td>\n",
       "      <td>11000000</td>\n",
       "      <td>21</td>\n",
       "    </tr>\n",
       "    <tr>\n",
       "      <th>22</th>\n",
       "      <td>chr1</td>\n",
       "      <td>11000000</td>\n",
       "      <td>11500000</td>\n",
       "      <td>22</td>\n",
       "    </tr>\n",
       "    <tr>\n",
       "      <th>23</th>\n",
       "      <td>chr1</td>\n",
       "      <td>11500000</td>\n",
       "      <td>12000000</td>\n",
       "      <td>23</td>\n",
       "    </tr>\n",
       "    <tr>\n",
       "      <th>24</th>\n",
       "      <td>chr1</td>\n",
       "      <td>12000000</td>\n",
       "      <td>12500000</td>\n",
       "      <td>24</td>\n",
       "    </tr>\n",
       "    <tr>\n",
       "      <th>25</th>\n",
       "      <td>chr1</td>\n",
       "      <td>12500000</td>\n",
       "      <td>13000000</td>\n",
       "      <td>25</td>\n",
       "    </tr>\n",
       "    <tr>\n",
       "      <th>26</th>\n",
       "      <td>chr1</td>\n",
       "      <td>13000000</td>\n",
       "      <td>13500000</td>\n",
       "      <td>26</td>\n",
       "    </tr>\n",
       "    <tr>\n",
       "      <th>27</th>\n",
       "      <td>chr1</td>\n",
       "      <td>13500000</td>\n",
       "      <td>14000000</td>\n",
       "      <td>27</td>\n",
       "    </tr>\n",
       "    <tr>\n",
       "      <th>28</th>\n",
       "      <td>chr1</td>\n",
       "      <td>14000000</td>\n",
       "      <td>14500000</td>\n",
       "      <td>28</td>\n",
       "    </tr>\n",
       "    <tr>\n",
       "      <th>29</th>\n",
       "      <td>chr1</td>\n",
       "      <td>14500000</td>\n",
       "      <td>15000000</td>\n",
       "      <td>29</td>\n",
       "    </tr>\n",
       "    <tr>\n",
       "      <th>...</th>\n",
       "      <td>...</td>\n",
       "      <td>...</td>\n",
       "      <td>...</td>\n",
       "      <td>...</td>\n",
       "    </tr>\n",
       "    <tr>\n",
       "      <th>5292</th>\n",
       "      <td>chrY</td>\n",
       "      <td>1000000</td>\n",
       "      <td>1500000</td>\n",
       "      <td>5292</td>\n",
       "    </tr>\n",
       "    <tr>\n",
       "      <th>5293</th>\n",
       "      <td>chrY</td>\n",
       "      <td>1500000</td>\n",
       "      <td>2000000</td>\n",
       "      <td>5293</td>\n",
       "    </tr>\n",
       "    <tr>\n",
       "      <th>5294</th>\n",
       "      <td>chrY</td>\n",
       "      <td>2000000</td>\n",
       "      <td>2500000</td>\n",
       "      <td>5294</td>\n",
       "    </tr>\n",
       "    <tr>\n",
       "      <th>5295</th>\n",
       "      <td>chrY</td>\n",
       "      <td>2500000</td>\n",
       "      <td>3000000</td>\n",
       "      <td>5295</td>\n",
       "    </tr>\n",
       "    <tr>\n",
       "      <th>5296</th>\n",
       "      <td>chrY</td>\n",
       "      <td>3000000</td>\n",
       "      <td>3500000</td>\n",
       "      <td>5296</td>\n",
       "    </tr>\n",
       "    <tr>\n",
       "      <th>5297</th>\n",
       "      <td>chrY</td>\n",
       "      <td>3500000</td>\n",
       "      <td>4000000</td>\n",
       "      <td>5297</td>\n",
       "    </tr>\n",
       "    <tr>\n",
       "      <th>5298</th>\n",
       "      <td>chrY</td>\n",
       "      <td>4000000</td>\n",
       "      <td>4500000</td>\n",
       "      <td>5298</td>\n",
       "    </tr>\n",
       "    <tr>\n",
       "      <th>5299</th>\n",
       "      <td>chrY</td>\n",
       "      <td>4500000</td>\n",
       "      <td>5000000</td>\n",
       "      <td>5299</td>\n",
       "    </tr>\n",
       "    <tr>\n",
       "      <th>5300</th>\n",
       "      <td>chrY</td>\n",
       "      <td>5000000</td>\n",
       "      <td>5500000</td>\n",
       "      <td>5300</td>\n",
       "    </tr>\n",
       "    <tr>\n",
       "      <th>5301</th>\n",
       "      <td>chrY</td>\n",
       "      <td>5500000</td>\n",
       "      <td>6000000</td>\n",
       "      <td>5301</td>\n",
       "    </tr>\n",
       "    <tr>\n",
       "      <th>5302</th>\n",
       "      <td>chrY</td>\n",
       "      <td>6000000</td>\n",
       "      <td>6500000</td>\n",
       "      <td>5302</td>\n",
       "    </tr>\n",
       "    <tr>\n",
       "      <th>5303</th>\n",
       "      <td>chrY</td>\n",
       "      <td>6500000</td>\n",
       "      <td>7000000</td>\n",
       "      <td>5303</td>\n",
       "    </tr>\n",
       "    <tr>\n",
       "      <th>5304</th>\n",
       "      <td>chrY</td>\n",
       "      <td>7000000</td>\n",
       "      <td>7500000</td>\n",
       "      <td>5304</td>\n",
       "    </tr>\n",
       "    <tr>\n",
       "      <th>5305</th>\n",
       "      <td>chrY</td>\n",
       "      <td>7500000</td>\n",
       "      <td>8000000</td>\n",
       "      <td>5305</td>\n",
       "    </tr>\n",
       "    <tr>\n",
       "      <th>5306</th>\n",
       "      <td>chrY</td>\n",
       "      <td>8000000</td>\n",
       "      <td>8500000</td>\n",
       "      <td>5306</td>\n",
       "    </tr>\n",
       "    <tr>\n",
       "      <th>5307</th>\n",
       "      <td>chrY</td>\n",
       "      <td>8500000</td>\n",
       "      <td>9000000</td>\n",
       "      <td>5307</td>\n",
       "    </tr>\n",
       "    <tr>\n",
       "      <th>5308</th>\n",
       "      <td>chrY</td>\n",
       "      <td>9000000</td>\n",
       "      <td>9500000</td>\n",
       "      <td>5308</td>\n",
       "    </tr>\n",
       "    <tr>\n",
       "      <th>5309</th>\n",
       "      <td>chrY</td>\n",
       "      <td>9500000</td>\n",
       "      <td>10000000</td>\n",
       "      <td>5309</td>\n",
       "    </tr>\n",
       "    <tr>\n",
       "      <th>5310</th>\n",
       "      <td>chrY</td>\n",
       "      <td>10000000</td>\n",
       "      <td>10500000</td>\n",
       "      <td>5310</td>\n",
       "    </tr>\n",
       "    <tr>\n",
       "      <th>5311</th>\n",
       "      <td>chrY</td>\n",
       "      <td>10500000</td>\n",
       "      <td>11000000</td>\n",
       "      <td>5311</td>\n",
       "    </tr>\n",
       "    <tr>\n",
       "      <th>5312</th>\n",
       "      <td>chrY</td>\n",
       "      <td>11000000</td>\n",
       "      <td>11500000</td>\n",
       "      <td>5312</td>\n",
       "    </tr>\n",
       "    <tr>\n",
       "      <th>5313</th>\n",
       "      <td>chrY</td>\n",
       "      <td>11500000</td>\n",
       "      <td>12000000</td>\n",
       "      <td>5313</td>\n",
       "    </tr>\n",
       "    <tr>\n",
       "      <th>5314</th>\n",
       "      <td>chrY</td>\n",
       "      <td>12000000</td>\n",
       "      <td>12500000</td>\n",
       "      <td>5314</td>\n",
       "    </tr>\n",
       "    <tr>\n",
       "      <th>5315</th>\n",
       "      <td>chrY</td>\n",
       "      <td>12500000</td>\n",
       "      <td>13000000</td>\n",
       "      <td>5315</td>\n",
       "    </tr>\n",
       "    <tr>\n",
       "      <th>5316</th>\n",
       "      <td>chrY</td>\n",
       "      <td>13000000</td>\n",
       "      <td>13500000</td>\n",
       "      <td>5316</td>\n",
       "    </tr>\n",
       "    <tr>\n",
       "      <th>5317</th>\n",
       "      <td>chrY</td>\n",
       "      <td>13500000</td>\n",
       "      <td>14000000</td>\n",
       "      <td>5317</td>\n",
       "    </tr>\n",
       "    <tr>\n",
       "      <th>5318</th>\n",
       "      <td>chrY</td>\n",
       "      <td>14000000</td>\n",
       "      <td>14500000</td>\n",
       "      <td>5318</td>\n",
       "    </tr>\n",
       "    <tr>\n",
       "      <th>5319</th>\n",
       "      <td>chrY</td>\n",
       "      <td>14500000</td>\n",
       "      <td>15000000</td>\n",
       "      <td>5319</td>\n",
       "    </tr>\n",
       "    <tr>\n",
       "      <th>5320</th>\n",
       "      <td>chrY</td>\n",
       "      <td>15000000</td>\n",
       "      <td>15500000</td>\n",
       "      <td>5320</td>\n",
       "    </tr>\n",
       "    <tr>\n",
       "      <th>5321</th>\n",
       "      <td>chrY</td>\n",
       "      <td>15500000</td>\n",
       "      <td>15902555</td>\n",
       "      <td>5321</td>\n",
       "    </tr>\n",
       "  </tbody>\n",
       "</table>\n",
       "<p>5322 rows × 4 columns</p>\n",
       "</div>"
      ],
      "text/plain": [
       "       chr     start       end  bin_id\n",
       "0     chr1         0    500000       0\n",
       "1     chr1    500000   1000000       1\n",
       "2     chr1   1000000   1500000       2\n",
       "3     chr1   1500000   2000000       3\n",
       "4     chr1   2000000   2500000       4\n",
       "5     chr1   2500000   3000000       5\n",
       "6     chr1   3000000   3500000       6\n",
       "7     chr1   3500000   4000000       7\n",
       "8     chr1   4000000   4500000       8\n",
       "9     chr1   4500000   5000000       9\n",
       "10    chr1   5000000   5500000      10\n",
       "11    chr1   5500000   6000000      11\n",
       "12    chr1   6000000   6500000      12\n",
       "13    chr1   6500000   7000000      13\n",
       "14    chr1   7000000   7500000      14\n",
       "15    chr1   7500000   8000000      15\n",
       "16    chr1   8000000   8500000      16\n",
       "17    chr1   8500000   9000000      17\n",
       "18    chr1   9000000   9500000      18\n",
       "19    chr1   9500000  10000000      19\n",
       "20    chr1  10000000  10500000      20\n",
       "21    chr1  10500000  11000000      21\n",
       "22    chr1  11000000  11500000      22\n",
       "23    chr1  11500000  12000000      23\n",
       "24    chr1  12000000  12500000      24\n",
       "25    chr1  12500000  13000000      25\n",
       "26    chr1  13000000  13500000      26\n",
       "27    chr1  13500000  14000000      27\n",
       "28    chr1  14000000  14500000      28\n",
       "29    chr1  14500000  15000000      29\n",
       "...    ...       ...       ...     ...\n",
       "5292  chrY   1000000   1500000    5292\n",
       "5293  chrY   1500000   2000000    5293\n",
       "5294  chrY   2000000   2500000    5294\n",
       "5295  chrY   2500000   3000000    5295\n",
       "5296  chrY   3000000   3500000    5296\n",
       "5297  chrY   3500000   4000000    5297\n",
       "5298  chrY   4000000   4500000    5298\n",
       "5299  chrY   4500000   5000000    5299\n",
       "5300  chrY   5000000   5500000    5300\n",
       "5301  chrY   5500000   6000000    5301\n",
       "5302  chrY   6000000   6500000    5302\n",
       "5303  chrY   6500000   7000000    5303\n",
       "5304  chrY   7000000   7500000    5304\n",
       "5305  chrY   7500000   8000000    5305\n",
       "5306  chrY   8000000   8500000    5306\n",
       "5307  chrY   8500000   9000000    5307\n",
       "5308  chrY   9000000   9500000    5308\n",
       "5309  chrY   9500000  10000000    5309\n",
       "5310  chrY  10000000  10500000    5310\n",
       "5311  chrY  10500000  11000000    5311\n",
       "5312  chrY  11000000  11500000    5312\n",
       "5313  chrY  11500000  12000000    5313\n",
       "5314  chrY  12000000  12500000    5314\n",
       "5315  chrY  12500000  13000000    5315\n",
       "5316  chrY  13000000  13500000    5316\n",
       "5317  chrY  13500000  14000000    5317\n",
       "5318  chrY  14000000  14500000    5318\n",
       "5319  chrY  14500000  15000000    5319\n",
       "5320  chrY  15000000  15500000    5320\n",
       "5321  chrY  15500000  15902555    5321\n",
       "\n",
       "[5322 rows x 4 columns]"
      ]
     },
     "execution_count": 22,
     "metadata": {},
     "output_type": "execute_result"
    }
   ],
   "source": [
    "bins=pd.DataFrame(bins)"
   ]
  },
  {
   "cell_type": "code",
   "execution_count": 24,
   "metadata": {},
   "outputs": [],
   "source": [
    "main_score=pd.concat([bins,Dataf],axis=1)"
   ]
  },
  {
   "cell_type": "code",
   "execution_count": 25,
   "metadata": {},
   "outputs": [
    {
     "data": {
      "text/html": [
       "<div>\n",
       "<style scoped>\n",
       "    .dataframe tbody tr th:only-of-type {\n",
       "        vertical-align: middle;\n",
       "    }\n",
       "\n",
       "    .dataframe tbody tr th {\n",
       "        vertical-align: top;\n",
       "    }\n",
       "\n",
       "    .dataframe thead th {\n",
       "        text-align: right;\n",
       "    }\n",
       "</style>\n",
       "<table border=\"1\" class=\"dataframe\">\n",
       "  <thead>\n",
       "    <tr style=\"text-align: right;\">\n",
       "      <th></th>\n",
       "      <th>chr</th>\n",
       "      <th>start</th>\n",
       "      <th>end</th>\n",
       "      <th>bin_id</th>\n",
       "      <th>ReliefF</th>\n",
       "      <th>Laplacian</th>\n",
       "      <th>Fisher</th>\n",
       "    </tr>\n",
       "  </thead>\n",
       "  <tbody>\n",
       "    <tr>\n",
       "      <th>0</th>\n",
       "      <td>chr1</td>\n",
       "      <td>0</td>\n",
       "      <td>500000</td>\n",
       "      <td>0</td>\n",
       "      <td>7711.613280</td>\n",
       "      <td>0.000000e+00</td>\n",
       "      <td>0.019041</td>\n",
       "    </tr>\n",
       "    <tr>\n",
       "      <th>1</th>\n",
       "      <td>chr1</td>\n",
       "      <td>500000</td>\n",
       "      <td>1000000</td>\n",
       "      <td>1</td>\n",
       "      <td>7454.943816</td>\n",
       "      <td>0.000000e+00</td>\n",
       "      <td>0.002762</td>\n",
       "    </tr>\n",
       "    <tr>\n",
       "      <th>2</th>\n",
       "      <td>chr1</td>\n",
       "      <td>1000000</td>\n",
       "      <td>1500000</td>\n",
       "      <td>2</td>\n",
       "      <td>7898.921034</td>\n",
       "      <td>1.110223e-16</td>\n",
       "      <td>0.001574</td>\n",
       "    </tr>\n",
       "    <tr>\n",
       "      <th>3</th>\n",
       "      <td>chr1</td>\n",
       "      <td>1500000</td>\n",
       "      <td>2000000</td>\n",
       "      <td>3</td>\n",
       "      <td>7592.517156</td>\n",
       "      <td>0.000000e+00</td>\n",
       "      <td>0.018488</td>\n",
       "    </tr>\n",
       "    <tr>\n",
       "      <th>4</th>\n",
       "      <td>chr1</td>\n",
       "      <td>2000000</td>\n",
       "      <td>2500000</td>\n",
       "      <td>4</td>\n",
       "      <td>7524.594450</td>\n",
       "      <td>1.110223e-16</td>\n",
       "      <td>0.020063</td>\n",
       "    </tr>\n",
       "    <tr>\n",
       "      <th>5</th>\n",
       "      <td>chr1</td>\n",
       "      <td>2500000</td>\n",
       "      <td>3000000</td>\n",
       "      <td>5</td>\n",
       "      <td>7203.781808</td>\n",
       "      <td>0.000000e+00</td>\n",
       "      <td>0.003970</td>\n",
       "    </tr>\n",
       "    <tr>\n",
       "      <th>6</th>\n",
       "      <td>chr1</td>\n",
       "      <td>3000000</td>\n",
       "      <td>3500000</td>\n",
       "      <td>6</td>\n",
       "      <td>7283.515462</td>\n",
       "      <td>0.000000e+00</td>\n",
       "      <td>0.002404</td>\n",
       "    </tr>\n",
       "    <tr>\n",
       "      <th>7</th>\n",
       "      <td>chr1</td>\n",
       "      <td>3500000</td>\n",
       "      <td>4000000</td>\n",
       "      <td>7</td>\n",
       "      <td>7571.646956</td>\n",
       "      <td>0.000000e+00</td>\n",
       "      <td>0.027784</td>\n",
       "    </tr>\n",
       "    <tr>\n",
       "      <th>8</th>\n",
       "      <td>chr1</td>\n",
       "      <td>4000000</td>\n",
       "      <td>4500000</td>\n",
       "      <td>8</td>\n",
       "      <td>7459.858116</td>\n",
       "      <td>1.110223e-16</td>\n",
       "      <td>0.006845</td>\n",
       "    </tr>\n",
       "    <tr>\n",
       "      <th>9</th>\n",
       "      <td>chr1</td>\n",
       "      <td>4500000</td>\n",
       "      <td>5000000</td>\n",
       "      <td>9</td>\n",
       "      <td>7672.282789</td>\n",
       "      <td>1.110223e-16</td>\n",
       "      <td>0.009475</td>\n",
       "    </tr>\n",
       "    <tr>\n",
       "      <th>10</th>\n",
       "      <td>chr1</td>\n",
       "      <td>5000000</td>\n",
       "      <td>5500000</td>\n",
       "      <td>10</td>\n",
       "      <td>7382.738343</td>\n",
       "      <td>1.110223e-16</td>\n",
       "      <td>0.006906</td>\n",
       "    </tr>\n",
       "    <tr>\n",
       "      <th>11</th>\n",
       "      <td>chr1</td>\n",
       "      <td>5500000</td>\n",
       "      <td>6000000</td>\n",
       "      <td>11</td>\n",
       "      <td>7803.007126</td>\n",
       "      <td>0.000000e+00</td>\n",
       "      <td>0.014457</td>\n",
       "    </tr>\n",
       "    <tr>\n",
       "      <th>12</th>\n",
       "      <td>chr1</td>\n",
       "      <td>6000000</td>\n",
       "      <td>6500000</td>\n",
       "      <td>12</td>\n",
       "      <td>7456.471206</td>\n",
       "      <td>0.000000e+00</td>\n",
       "      <td>0.003323</td>\n",
       "    </tr>\n",
       "    <tr>\n",
       "      <th>13</th>\n",
       "      <td>chr1</td>\n",
       "      <td>6500000</td>\n",
       "      <td>7000000</td>\n",
       "      <td>13</td>\n",
       "      <td>7802.223483</td>\n",
       "      <td>0.000000e+00</td>\n",
       "      <td>0.025807</td>\n",
       "    </tr>\n",
       "    <tr>\n",
       "      <th>14</th>\n",
       "      <td>chr1</td>\n",
       "      <td>7000000</td>\n",
       "      <td>7500000</td>\n",
       "      <td>14</td>\n",
       "      <td>7672.942941</td>\n",
       "      <td>1.110223e-16</td>\n",
       "      <td>0.011203</td>\n",
       "    </tr>\n",
       "    <tr>\n",
       "      <th>15</th>\n",
       "      <td>chr1</td>\n",
       "      <td>7500000</td>\n",
       "      <td>8000000</td>\n",
       "      <td>15</td>\n",
       "      <td>7538.915028</td>\n",
       "      <td>1.110223e-16</td>\n",
       "      <td>0.001611</td>\n",
       "    </tr>\n",
       "    <tr>\n",
       "      <th>16</th>\n",
       "      <td>chr1</td>\n",
       "      <td>8000000</td>\n",
       "      <td>8500000</td>\n",
       "      <td>16</td>\n",
       "      <td>7681.083964</td>\n",
       "      <td>0.000000e+00</td>\n",
       "      <td>0.016888</td>\n",
       "    </tr>\n",
       "    <tr>\n",
       "      <th>17</th>\n",
       "      <td>chr1</td>\n",
       "      <td>8500000</td>\n",
       "      <td>9000000</td>\n",
       "      <td>17</td>\n",
       "      <td>7575.681940</td>\n",
       "      <td>0.000000e+00</td>\n",
       "      <td>0.000790</td>\n",
       "    </tr>\n",
       "    <tr>\n",
       "      <th>18</th>\n",
       "      <td>chr1</td>\n",
       "      <td>9000000</td>\n",
       "      <td>9500000</td>\n",
       "      <td>18</td>\n",
       "      <td>8188.991110</td>\n",
       "      <td>1.110223e-16</td>\n",
       "      <td>0.007483</td>\n",
       "    </tr>\n",
       "    <tr>\n",
       "      <th>19</th>\n",
       "      <td>chr1</td>\n",
       "      <td>9500000</td>\n",
       "      <td>10000000</td>\n",
       "      <td>19</td>\n",
       "      <td>7477.821412</td>\n",
       "      <td>0.000000e+00</td>\n",
       "      <td>0.003339</td>\n",
       "    </tr>\n",
       "    <tr>\n",
       "      <th>20</th>\n",
       "      <td>chr1</td>\n",
       "      <td>10000000</td>\n",
       "      <td>10500000</td>\n",
       "      <td>20</td>\n",
       "      <td>7769.191255</td>\n",
       "      <td>1.110223e-16</td>\n",
       "      <td>0.070200</td>\n",
       "    </tr>\n",
       "    <tr>\n",
       "      <th>21</th>\n",
       "      <td>chr1</td>\n",
       "      <td>10500000</td>\n",
       "      <td>11000000</td>\n",
       "      <td>21</td>\n",
       "      <td>7071.817846</td>\n",
       "      <td>1.110223e-16</td>\n",
       "      <td>0.021049</td>\n",
       "    </tr>\n",
       "    <tr>\n",
       "      <th>22</th>\n",
       "      <td>chr1</td>\n",
       "      <td>11000000</td>\n",
       "      <td>11500000</td>\n",
       "      <td>22</td>\n",
       "      <td>8197.408387</td>\n",
       "      <td>0.000000e+00</td>\n",
       "      <td>0.038871</td>\n",
       "    </tr>\n",
       "    <tr>\n",
       "      <th>23</th>\n",
       "      <td>chr1</td>\n",
       "      <td>11500000</td>\n",
       "      <td>12000000</td>\n",
       "      <td>23</td>\n",
       "      <td>8245.421040</td>\n",
       "      <td>0.000000e+00</td>\n",
       "      <td>0.029828</td>\n",
       "    </tr>\n",
       "    <tr>\n",
       "      <th>24</th>\n",
       "      <td>chr1</td>\n",
       "      <td>12000000</td>\n",
       "      <td>12500000</td>\n",
       "      <td>24</td>\n",
       "      <td>7096.138985</td>\n",
       "      <td>0.000000e+00</td>\n",
       "      <td>0.006223</td>\n",
       "    </tr>\n",
       "    <tr>\n",
       "      <th>25</th>\n",
       "      <td>chr1</td>\n",
       "      <td>12500000</td>\n",
       "      <td>13000000</td>\n",
       "      <td>25</td>\n",
       "      <td>7970.796262</td>\n",
       "      <td>0.000000e+00</td>\n",
       "      <td>0.001863</td>\n",
       "    </tr>\n",
       "    <tr>\n",
       "      <th>26</th>\n",
       "      <td>chr1</td>\n",
       "      <td>13000000</td>\n",
       "      <td>13500000</td>\n",
       "      <td>26</td>\n",
       "      <td>8256.959588</td>\n",
       "      <td>0.000000e+00</td>\n",
       "      <td>0.010366</td>\n",
       "    </tr>\n",
       "    <tr>\n",
       "      <th>27</th>\n",
       "      <td>chr1</td>\n",
       "      <td>13500000</td>\n",
       "      <td>14000000</td>\n",
       "      <td>27</td>\n",
       "      <td>7848.127228</td>\n",
       "      <td>1.110223e-16</td>\n",
       "      <td>0.003442</td>\n",
       "    </tr>\n",
       "    <tr>\n",
       "      <th>28</th>\n",
       "      <td>chr1</td>\n",
       "      <td>14000000</td>\n",
       "      <td>14500000</td>\n",
       "      <td>28</td>\n",
       "      <td>7216.600768</td>\n",
       "      <td>0.000000e+00</td>\n",
       "      <td>0.010823</td>\n",
       "    </tr>\n",
       "    <tr>\n",
       "      <th>29</th>\n",
       "      <td>chr1</td>\n",
       "      <td>14500000</td>\n",
       "      <td>15000000</td>\n",
       "      <td>29</td>\n",
       "      <td>7649.531738</td>\n",
       "      <td>0.000000e+00</td>\n",
       "      <td>0.041411</td>\n",
       "    </tr>\n",
       "    <tr>\n",
       "      <th>...</th>\n",
       "      <td>...</td>\n",
       "      <td>...</td>\n",
       "      <td>...</td>\n",
       "      <td>...</td>\n",
       "      <td>...</td>\n",
       "      <td>...</td>\n",
       "      <td>...</td>\n",
       "    </tr>\n",
       "    <tr>\n",
       "      <th>5292</th>\n",
       "      <td>chrY</td>\n",
       "      <td>1000000</td>\n",
       "      <td>1500000</td>\n",
       "      <td>5292</td>\n",
       "      <td>NaN</td>\n",
       "      <td>NaN</td>\n",
       "      <td>NaN</td>\n",
       "    </tr>\n",
       "    <tr>\n",
       "      <th>5293</th>\n",
       "      <td>chrY</td>\n",
       "      <td>1500000</td>\n",
       "      <td>2000000</td>\n",
       "      <td>5293</td>\n",
       "      <td>NaN</td>\n",
       "      <td>NaN</td>\n",
       "      <td>NaN</td>\n",
       "    </tr>\n",
       "    <tr>\n",
       "      <th>5294</th>\n",
       "      <td>chrY</td>\n",
       "      <td>2000000</td>\n",
       "      <td>2500000</td>\n",
       "      <td>5294</td>\n",
       "      <td>NaN</td>\n",
       "      <td>NaN</td>\n",
       "      <td>NaN</td>\n",
       "    </tr>\n",
       "    <tr>\n",
       "      <th>5295</th>\n",
       "      <td>chrY</td>\n",
       "      <td>2500000</td>\n",
       "      <td>3000000</td>\n",
       "      <td>5295</td>\n",
       "      <td>NaN</td>\n",
       "      <td>NaN</td>\n",
       "      <td>NaN</td>\n",
       "    </tr>\n",
       "    <tr>\n",
       "      <th>5296</th>\n",
       "      <td>chrY</td>\n",
       "      <td>3000000</td>\n",
       "      <td>3500000</td>\n",
       "      <td>5296</td>\n",
       "      <td>NaN</td>\n",
       "      <td>NaN</td>\n",
       "      <td>NaN</td>\n",
       "    </tr>\n",
       "    <tr>\n",
       "      <th>5297</th>\n",
       "      <td>chrY</td>\n",
       "      <td>3500000</td>\n",
       "      <td>4000000</td>\n",
       "      <td>5297</td>\n",
       "      <td>NaN</td>\n",
       "      <td>NaN</td>\n",
       "      <td>NaN</td>\n",
       "    </tr>\n",
       "    <tr>\n",
       "      <th>5298</th>\n",
       "      <td>chrY</td>\n",
       "      <td>4000000</td>\n",
       "      <td>4500000</td>\n",
       "      <td>5298</td>\n",
       "      <td>NaN</td>\n",
       "      <td>NaN</td>\n",
       "      <td>NaN</td>\n",
       "    </tr>\n",
       "    <tr>\n",
       "      <th>5299</th>\n",
       "      <td>chrY</td>\n",
       "      <td>4500000</td>\n",
       "      <td>5000000</td>\n",
       "      <td>5299</td>\n",
       "      <td>NaN</td>\n",
       "      <td>NaN</td>\n",
       "      <td>NaN</td>\n",
       "    </tr>\n",
       "    <tr>\n",
       "      <th>5300</th>\n",
       "      <td>chrY</td>\n",
       "      <td>5000000</td>\n",
       "      <td>5500000</td>\n",
       "      <td>5300</td>\n",
       "      <td>NaN</td>\n",
       "      <td>NaN</td>\n",
       "      <td>NaN</td>\n",
       "    </tr>\n",
       "    <tr>\n",
       "      <th>5301</th>\n",
       "      <td>chrY</td>\n",
       "      <td>5500000</td>\n",
       "      <td>6000000</td>\n",
       "      <td>5301</td>\n",
       "      <td>NaN</td>\n",
       "      <td>NaN</td>\n",
       "      <td>NaN</td>\n",
       "    </tr>\n",
       "    <tr>\n",
       "      <th>5302</th>\n",
       "      <td>chrY</td>\n",
       "      <td>6000000</td>\n",
       "      <td>6500000</td>\n",
       "      <td>5302</td>\n",
       "      <td>NaN</td>\n",
       "      <td>NaN</td>\n",
       "      <td>NaN</td>\n",
       "    </tr>\n",
       "    <tr>\n",
       "      <th>5303</th>\n",
       "      <td>chrY</td>\n",
       "      <td>6500000</td>\n",
       "      <td>7000000</td>\n",
       "      <td>5303</td>\n",
       "      <td>NaN</td>\n",
       "      <td>NaN</td>\n",
       "      <td>NaN</td>\n",
       "    </tr>\n",
       "    <tr>\n",
       "      <th>5304</th>\n",
       "      <td>chrY</td>\n",
       "      <td>7000000</td>\n",
       "      <td>7500000</td>\n",
       "      <td>5304</td>\n",
       "      <td>NaN</td>\n",
       "      <td>NaN</td>\n",
       "      <td>NaN</td>\n",
       "    </tr>\n",
       "    <tr>\n",
       "      <th>5305</th>\n",
       "      <td>chrY</td>\n",
       "      <td>7500000</td>\n",
       "      <td>8000000</td>\n",
       "      <td>5305</td>\n",
       "      <td>NaN</td>\n",
       "      <td>NaN</td>\n",
       "      <td>NaN</td>\n",
       "    </tr>\n",
       "    <tr>\n",
       "      <th>5306</th>\n",
       "      <td>chrY</td>\n",
       "      <td>8000000</td>\n",
       "      <td>8500000</td>\n",
       "      <td>5306</td>\n",
       "      <td>NaN</td>\n",
       "      <td>NaN</td>\n",
       "      <td>NaN</td>\n",
       "    </tr>\n",
       "    <tr>\n",
       "      <th>5307</th>\n",
       "      <td>chrY</td>\n",
       "      <td>8500000</td>\n",
       "      <td>9000000</td>\n",
       "      <td>5307</td>\n",
       "      <td>NaN</td>\n",
       "      <td>NaN</td>\n",
       "      <td>NaN</td>\n",
       "    </tr>\n",
       "    <tr>\n",
       "      <th>5308</th>\n",
       "      <td>chrY</td>\n",
       "      <td>9000000</td>\n",
       "      <td>9500000</td>\n",
       "      <td>5308</td>\n",
       "      <td>NaN</td>\n",
       "      <td>NaN</td>\n",
       "      <td>NaN</td>\n",
       "    </tr>\n",
       "    <tr>\n",
       "      <th>5309</th>\n",
       "      <td>chrY</td>\n",
       "      <td>9500000</td>\n",
       "      <td>10000000</td>\n",
       "      <td>5309</td>\n",
       "      <td>NaN</td>\n",
       "      <td>NaN</td>\n",
       "      <td>NaN</td>\n",
       "    </tr>\n",
       "    <tr>\n",
       "      <th>5310</th>\n",
       "      <td>chrY</td>\n",
       "      <td>10000000</td>\n",
       "      <td>10500000</td>\n",
       "      <td>5310</td>\n",
       "      <td>NaN</td>\n",
       "      <td>NaN</td>\n",
       "      <td>NaN</td>\n",
       "    </tr>\n",
       "    <tr>\n",
       "      <th>5311</th>\n",
       "      <td>chrY</td>\n",
       "      <td>10500000</td>\n",
       "      <td>11000000</td>\n",
       "      <td>5311</td>\n",
       "      <td>NaN</td>\n",
       "      <td>NaN</td>\n",
       "      <td>NaN</td>\n",
       "    </tr>\n",
       "    <tr>\n",
       "      <th>5312</th>\n",
       "      <td>chrY</td>\n",
       "      <td>11000000</td>\n",
       "      <td>11500000</td>\n",
       "      <td>5312</td>\n",
       "      <td>NaN</td>\n",
       "      <td>NaN</td>\n",
       "      <td>NaN</td>\n",
       "    </tr>\n",
       "    <tr>\n",
       "      <th>5313</th>\n",
       "      <td>chrY</td>\n",
       "      <td>11500000</td>\n",
       "      <td>12000000</td>\n",
       "      <td>5313</td>\n",
       "      <td>NaN</td>\n",
       "      <td>NaN</td>\n",
       "      <td>NaN</td>\n",
       "    </tr>\n",
       "    <tr>\n",
       "      <th>5314</th>\n",
       "      <td>chrY</td>\n",
       "      <td>12000000</td>\n",
       "      <td>12500000</td>\n",
       "      <td>5314</td>\n",
       "      <td>NaN</td>\n",
       "      <td>NaN</td>\n",
       "      <td>NaN</td>\n",
       "    </tr>\n",
       "    <tr>\n",
       "      <th>5315</th>\n",
       "      <td>chrY</td>\n",
       "      <td>12500000</td>\n",
       "      <td>13000000</td>\n",
       "      <td>5315</td>\n",
       "      <td>NaN</td>\n",
       "      <td>NaN</td>\n",
       "      <td>NaN</td>\n",
       "    </tr>\n",
       "    <tr>\n",
       "      <th>5316</th>\n",
       "      <td>chrY</td>\n",
       "      <td>13000000</td>\n",
       "      <td>13500000</td>\n",
       "      <td>5316</td>\n",
       "      <td>NaN</td>\n",
       "      <td>NaN</td>\n",
       "      <td>NaN</td>\n",
       "    </tr>\n",
       "    <tr>\n",
       "      <th>5317</th>\n",
       "      <td>chrY</td>\n",
       "      <td>13500000</td>\n",
       "      <td>14000000</td>\n",
       "      <td>5317</td>\n",
       "      <td>NaN</td>\n",
       "      <td>NaN</td>\n",
       "      <td>NaN</td>\n",
       "    </tr>\n",
       "    <tr>\n",
       "      <th>5318</th>\n",
       "      <td>chrY</td>\n",
       "      <td>14000000</td>\n",
       "      <td>14500000</td>\n",
       "      <td>5318</td>\n",
       "      <td>NaN</td>\n",
       "      <td>NaN</td>\n",
       "      <td>NaN</td>\n",
       "    </tr>\n",
       "    <tr>\n",
       "      <th>5319</th>\n",
       "      <td>chrY</td>\n",
       "      <td>14500000</td>\n",
       "      <td>15000000</td>\n",
       "      <td>5319</td>\n",
       "      <td>NaN</td>\n",
       "      <td>NaN</td>\n",
       "      <td>NaN</td>\n",
       "    </tr>\n",
       "    <tr>\n",
       "      <th>5320</th>\n",
       "      <td>chrY</td>\n",
       "      <td>15000000</td>\n",
       "      <td>15500000</td>\n",
       "      <td>5320</td>\n",
       "      <td>NaN</td>\n",
       "      <td>NaN</td>\n",
       "      <td>NaN</td>\n",
       "    </tr>\n",
       "    <tr>\n",
       "      <th>5321</th>\n",
       "      <td>chrY</td>\n",
       "      <td>15500000</td>\n",
       "      <td>15902555</td>\n",
       "      <td>5321</td>\n",
       "      <td>NaN</td>\n",
       "      <td>NaN</td>\n",
       "      <td>NaN</td>\n",
       "    </tr>\n",
       "  </tbody>\n",
       "</table>\n",
       "<p>5322 rows × 7 columns</p>\n",
       "</div>"
      ],
      "text/plain": [
       "       chr     start       end  bin_id      ReliefF     Laplacian    Fisher\n",
       "0     chr1         0    500000       0  7711.613280  0.000000e+00  0.019041\n",
       "1     chr1    500000   1000000       1  7454.943816  0.000000e+00  0.002762\n",
       "2     chr1   1000000   1500000       2  7898.921034  1.110223e-16  0.001574\n",
       "3     chr1   1500000   2000000       3  7592.517156  0.000000e+00  0.018488\n",
       "4     chr1   2000000   2500000       4  7524.594450  1.110223e-16  0.020063\n",
       "5     chr1   2500000   3000000       5  7203.781808  0.000000e+00  0.003970\n",
       "6     chr1   3000000   3500000       6  7283.515462  0.000000e+00  0.002404\n",
       "7     chr1   3500000   4000000       7  7571.646956  0.000000e+00  0.027784\n",
       "8     chr1   4000000   4500000       8  7459.858116  1.110223e-16  0.006845\n",
       "9     chr1   4500000   5000000       9  7672.282789  1.110223e-16  0.009475\n",
       "10    chr1   5000000   5500000      10  7382.738343  1.110223e-16  0.006906\n",
       "11    chr1   5500000   6000000      11  7803.007126  0.000000e+00  0.014457\n",
       "12    chr1   6000000   6500000      12  7456.471206  0.000000e+00  0.003323\n",
       "13    chr1   6500000   7000000      13  7802.223483  0.000000e+00  0.025807\n",
       "14    chr1   7000000   7500000      14  7672.942941  1.110223e-16  0.011203\n",
       "15    chr1   7500000   8000000      15  7538.915028  1.110223e-16  0.001611\n",
       "16    chr1   8000000   8500000      16  7681.083964  0.000000e+00  0.016888\n",
       "17    chr1   8500000   9000000      17  7575.681940  0.000000e+00  0.000790\n",
       "18    chr1   9000000   9500000      18  8188.991110  1.110223e-16  0.007483\n",
       "19    chr1   9500000  10000000      19  7477.821412  0.000000e+00  0.003339\n",
       "20    chr1  10000000  10500000      20  7769.191255  1.110223e-16  0.070200\n",
       "21    chr1  10500000  11000000      21  7071.817846  1.110223e-16  0.021049\n",
       "22    chr1  11000000  11500000      22  8197.408387  0.000000e+00  0.038871\n",
       "23    chr1  11500000  12000000      23  8245.421040  0.000000e+00  0.029828\n",
       "24    chr1  12000000  12500000      24  7096.138985  0.000000e+00  0.006223\n",
       "25    chr1  12500000  13000000      25  7970.796262  0.000000e+00  0.001863\n",
       "26    chr1  13000000  13500000      26  8256.959588  0.000000e+00  0.010366\n",
       "27    chr1  13500000  14000000      27  7848.127228  1.110223e-16  0.003442\n",
       "28    chr1  14000000  14500000      28  7216.600768  0.000000e+00  0.010823\n",
       "29    chr1  14500000  15000000      29  7649.531738  0.000000e+00  0.041411\n",
       "...    ...       ...       ...     ...          ...           ...       ...\n",
       "5292  chrY   1000000   1500000    5292          NaN           NaN       NaN\n",
       "5293  chrY   1500000   2000000    5293          NaN           NaN       NaN\n",
       "5294  chrY   2000000   2500000    5294          NaN           NaN       NaN\n",
       "5295  chrY   2500000   3000000    5295          NaN           NaN       NaN\n",
       "5296  chrY   3000000   3500000    5296          NaN           NaN       NaN\n",
       "5297  chrY   3500000   4000000    5297          NaN           NaN       NaN\n",
       "5298  chrY   4000000   4500000    5298          NaN           NaN       NaN\n",
       "5299  chrY   4500000   5000000    5299          NaN           NaN       NaN\n",
       "5300  chrY   5000000   5500000    5300          NaN           NaN       NaN\n",
       "5301  chrY   5500000   6000000    5301          NaN           NaN       NaN\n",
       "5302  chrY   6000000   6500000    5302          NaN           NaN       NaN\n",
       "5303  chrY   6500000   7000000    5303          NaN           NaN       NaN\n",
       "5304  chrY   7000000   7500000    5304          NaN           NaN       NaN\n",
       "5305  chrY   7500000   8000000    5305          NaN           NaN       NaN\n",
       "5306  chrY   8000000   8500000    5306          NaN           NaN       NaN\n",
       "5307  chrY   8500000   9000000    5307          NaN           NaN       NaN\n",
       "5308  chrY   9000000   9500000    5308          NaN           NaN       NaN\n",
       "5309  chrY   9500000  10000000    5309          NaN           NaN       NaN\n",
       "5310  chrY  10000000  10500000    5310          NaN           NaN       NaN\n",
       "5311  chrY  10500000  11000000    5311          NaN           NaN       NaN\n",
       "5312  chrY  11000000  11500000    5312          NaN           NaN       NaN\n",
       "5313  chrY  11500000  12000000    5313          NaN           NaN       NaN\n",
       "5314  chrY  12000000  12500000    5314          NaN           NaN       NaN\n",
       "5315  chrY  12500000  13000000    5315          NaN           NaN       NaN\n",
       "5316  chrY  13000000  13500000    5316          NaN           NaN       NaN\n",
       "5317  chrY  13500000  14000000    5317          NaN           NaN       NaN\n",
       "5318  chrY  14000000  14500000    5318          NaN           NaN       NaN\n",
       "5319  chrY  14500000  15000000    5319          NaN           NaN       NaN\n",
       "5320  chrY  15000000  15500000    5320          NaN           NaN       NaN\n",
       "5321  chrY  15500000  15902555    5321          NaN           NaN       NaN\n",
       "\n",
       "[5322 rows x 7 columns]"
      ]
     },
     "execution_count": 25,
     "metadata": {},
     "output_type": "execute_result"
    }
   ],
   "source": [
    "main_score"
   ]
  },
  {
   "cell_type": "code",
   "execution_count": 29,
   "metadata": {},
   "outputs": [],
   "source": [
    "main_score.to_csv('Ranks/Cell_Cycles.csv',header=True)"
   ]
  },
  {
   "cell_type": "code",
   "execution_count": 86,
   "metadata": {
    "scrolled": true
   },
   "outputs": [
    {
     "ename": "KeyboardInterrupt",
     "evalue": "",
     "output_type": "error",
     "traceback": [
      "\u001b[0;31m---------------------------------------------------------------------------\u001b[0m",
      "\u001b[0;31mKeyboardInterrupt\u001b[0m                         Traceback (most recent call last)",
      "\u001b[0;32m<ipython-input-86-79b8981c6935>\u001b[0m in \u001b[0;36m<module>\u001b[0;34m\u001b[0m\n\u001b[1;32m      5\u001b[0m \u001b[0mestimator\u001b[0m \u001b[0;34m=\u001b[0m \u001b[0mSVR\u001b[0m\u001b[0;34m(\u001b[0m\u001b[0mkernel\u001b[0m\u001b[0;34m=\u001b[0m\u001b[0;34m\"linear\"\u001b[0m\u001b[0;34m)\u001b[0m\u001b[0;34m\u001b[0m\u001b[0;34m\u001b[0m\u001b[0m\n\u001b[1;32m      6\u001b[0m \u001b[0mselector\u001b[0m \u001b[0;34m=\u001b[0m \u001b[0mRFE\u001b[0m\u001b[0;34m(\u001b[0m\u001b[0mestimator\u001b[0m\u001b[0;34m,\u001b[0m \u001b[0;36m5\u001b[0m\u001b[0;34m,\u001b[0m \u001b[0mstep\u001b[0m\u001b[0;34m=\u001b[0m\u001b[0;36m1\u001b[0m\u001b[0;34m)\u001b[0m\u001b[0;34m\u001b[0m\u001b[0;34m\u001b[0m\u001b[0m\n\u001b[0;32m----> 7\u001b[0;31m \u001b[0mselector\u001b[0m \u001b[0;34m=\u001b[0m \u001b[0mselector\u001b[0m\u001b[0;34m.\u001b[0m\u001b[0mfit\u001b[0m\u001b[0;34m(\u001b[0m\u001b[0mX_train\u001b[0m\u001b[0;34m,\u001b[0m\u001b[0my_train\u001b[0m\u001b[0;34m)\u001b[0m\u001b[0;34m\u001b[0m\u001b[0;34m\u001b[0m\u001b[0m\n\u001b[0m\u001b[1;32m      8\u001b[0m \u001b[0mselector\u001b[0m\u001b[0;34m.\u001b[0m\u001b[0msupport_\u001b[0m\u001b[0;34m\u001b[0m\u001b[0;34m\u001b[0m\u001b[0m\n",
      "\u001b[0;32m~/anaconda3/envs/IMD/lib/python3.6/site-packages/sklearn/feature_selection/rfe.py\u001b[0m in \u001b[0;36mfit\u001b[0;34m(self, X, y)\u001b[0m\n\u001b[1;32m    138\u001b[0m             \u001b[0mThe\u001b[0m \u001b[0mtarget\u001b[0m \u001b[0mvalues\u001b[0m\u001b[0;34m.\u001b[0m\u001b[0;34m\u001b[0m\u001b[0;34m\u001b[0m\u001b[0m\n\u001b[1;32m    139\u001b[0m         \"\"\"\n\u001b[0;32m--> 140\u001b[0;31m         \u001b[0;32mreturn\u001b[0m \u001b[0mself\u001b[0m\u001b[0;34m.\u001b[0m\u001b[0m_fit\u001b[0m\u001b[0;34m(\u001b[0m\u001b[0mX\u001b[0m\u001b[0;34m,\u001b[0m \u001b[0my\u001b[0m\u001b[0;34m)\u001b[0m\u001b[0;34m\u001b[0m\u001b[0;34m\u001b[0m\u001b[0m\n\u001b[0m\u001b[1;32m    141\u001b[0m \u001b[0;34m\u001b[0m\u001b[0m\n\u001b[1;32m    142\u001b[0m     \u001b[0;32mdef\u001b[0m \u001b[0m_fit\u001b[0m\u001b[0;34m(\u001b[0m\u001b[0mself\u001b[0m\u001b[0;34m,\u001b[0m \u001b[0mX\u001b[0m\u001b[0;34m,\u001b[0m \u001b[0my\u001b[0m\u001b[0;34m,\u001b[0m \u001b[0mstep_score\u001b[0m\u001b[0;34m=\u001b[0m\u001b[0;32mNone\u001b[0m\u001b[0;34m)\u001b[0m\u001b[0;34m:\u001b[0m\u001b[0;34m\u001b[0m\u001b[0;34m\u001b[0m\u001b[0m\n",
      "\u001b[0;32m~/anaconda3/envs/IMD/lib/python3.6/site-packages/sklearn/feature_selection/rfe.py\u001b[0m in \u001b[0;36m_fit\u001b[0;34m(self, X, y, step_score)\u001b[0m\n\u001b[1;32m    177\u001b[0m                 \u001b[0mprint\u001b[0m\u001b[0;34m(\u001b[0m\u001b[0;34m\"Fitting estimator with %d features.\"\u001b[0m \u001b[0;34m%\u001b[0m \u001b[0mnp\u001b[0m\u001b[0;34m.\u001b[0m\u001b[0msum\u001b[0m\u001b[0;34m(\u001b[0m\u001b[0msupport_\u001b[0m\u001b[0;34m)\u001b[0m\u001b[0;34m)\u001b[0m\u001b[0;34m\u001b[0m\u001b[0;34m\u001b[0m\u001b[0m\n\u001b[1;32m    178\u001b[0m \u001b[0;34m\u001b[0m\u001b[0m\n\u001b[0;32m--> 179\u001b[0;31m             \u001b[0mestimator\u001b[0m\u001b[0;34m.\u001b[0m\u001b[0mfit\u001b[0m\u001b[0;34m(\u001b[0m\u001b[0mX\u001b[0m\u001b[0;34m[\u001b[0m\u001b[0;34m:\u001b[0m\u001b[0;34m,\u001b[0m \u001b[0mfeatures\u001b[0m\u001b[0;34m]\u001b[0m\u001b[0;34m,\u001b[0m \u001b[0my\u001b[0m\u001b[0;34m)\u001b[0m\u001b[0;34m\u001b[0m\u001b[0;34m\u001b[0m\u001b[0m\n\u001b[0m\u001b[1;32m    180\u001b[0m \u001b[0;34m\u001b[0m\u001b[0m\n\u001b[1;32m    181\u001b[0m             \u001b[0;31m# Get coefs\u001b[0m\u001b[0;34m\u001b[0m\u001b[0;34m\u001b[0m\u001b[0;34m\u001b[0m\u001b[0m\n",
      "\u001b[0;32m~/anaconda3/envs/IMD/lib/python3.6/site-packages/sklearn/svm/base.py\u001b[0m in \u001b[0;36mfit\u001b[0;34m(self, X, y, sample_weight)\u001b[0m\n\u001b[1;32m    210\u001b[0m \u001b[0;34m\u001b[0m\u001b[0m\n\u001b[1;32m    211\u001b[0m         \u001b[0mseed\u001b[0m \u001b[0;34m=\u001b[0m \u001b[0mrnd\u001b[0m\u001b[0;34m.\u001b[0m\u001b[0mrandint\u001b[0m\u001b[0;34m(\u001b[0m\u001b[0mnp\u001b[0m\u001b[0;34m.\u001b[0m\u001b[0miinfo\u001b[0m\u001b[0;34m(\u001b[0m\u001b[0;34m'i'\u001b[0m\u001b[0;34m)\u001b[0m\u001b[0;34m.\u001b[0m\u001b[0mmax\u001b[0m\u001b[0;34m)\u001b[0m\u001b[0;34m\u001b[0m\u001b[0;34m\u001b[0m\u001b[0m\n\u001b[0;32m--> 212\u001b[0;31m         \u001b[0mfit\u001b[0m\u001b[0;34m(\u001b[0m\u001b[0mX\u001b[0m\u001b[0;34m,\u001b[0m \u001b[0my\u001b[0m\u001b[0;34m,\u001b[0m \u001b[0msample_weight\u001b[0m\u001b[0;34m,\u001b[0m \u001b[0msolver_type\u001b[0m\u001b[0;34m,\u001b[0m \u001b[0mkernel\u001b[0m\u001b[0;34m,\u001b[0m \u001b[0mrandom_seed\u001b[0m\u001b[0;34m=\u001b[0m\u001b[0mseed\u001b[0m\u001b[0;34m)\u001b[0m\u001b[0;34m\u001b[0m\u001b[0;34m\u001b[0m\u001b[0m\n\u001b[0m\u001b[1;32m    213\u001b[0m         \u001b[0;31m# see comment on the other call to np.iinfo in this file\u001b[0m\u001b[0;34m\u001b[0m\u001b[0;34m\u001b[0m\u001b[0;34m\u001b[0m\u001b[0m\n\u001b[1;32m    214\u001b[0m \u001b[0;34m\u001b[0m\u001b[0m\n",
      "\u001b[0;32m~/anaconda3/envs/IMD/lib/python3.6/site-packages/sklearn/svm/base.py\u001b[0m in \u001b[0;36m_dense_fit\u001b[0;34m(self, X, y, sample_weight, solver_type, kernel, random_seed)\u001b[0m\n\u001b[1;32m    269\u001b[0m                 \u001b[0mcache_size\u001b[0m\u001b[0;34m=\u001b[0m\u001b[0mself\u001b[0m\u001b[0;34m.\u001b[0m\u001b[0mcache_size\u001b[0m\u001b[0;34m,\u001b[0m \u001b[0mcoef0\u001b[0m\u001b[0;34m=\u001b[0m\u001b[0mself\u001b[0m\u001b[0;34m.\u001b[0m\u001b[0mcoef0\u001b[0m\u001b[0;34m,\u001b[0m\u001b[0;34m\u001b[0m\u001b[0;34m\u001b[0m\u001b[0m\n\u001b[1;32m    270\u001b[0m                 \u001b[0mgamma\u001b[0m\u001b[0;34m=\u001b[0m\u001b[0mself\u001b[0m\u001b[0;34m.\u001b[0m\u001b[0m_gamma\u001b[0m\u001b[0;34m,\u001b[0m \u001b[0mepsilon\u001b[0m\u001b[0;34m=\u001b[0m\u001b[0mself\u001b[0m\u001b[0;34m.\u001b[0m\u001b[0mepsilon\u001b[0m\u001b[0;34m,\u001b[0m\u001b[0;34m\u001b[0m\u001b[0;34m\u001b[0m\u001b[0m\n\u001b[0;32m--> 271\u001b[0;31m                 max_iter=self.max_iter, random_seed=random_seed)\n\u001b[0m\u001b[1;32m    272\u001b[0m \u001b[0;34m\u001b[0m\u001b[0m\n\u001b[1;32m    273\u001b[0m         \u001b[0mself\u001b[0m\u001b[0;34m.\u001b[0m\u001b[0m_warn_from_fit_status\u001b[0m\u001b[0;34m(\u001b[0m\u001b[0;34m)\u001b[0m\u001b[0;34m\u001b[0m\u001b[0;34m\u001b[0m\u001b[0m\n",
      "\u001b[0;31mKeyboardInterrupt\u001b[0m: "
     ]
    }
   ],
   "source": [
    ">>> from sklearn.datasets import make_friedman1\n",
    ">>> from sklearn.feature_selection import RFE\n",
    ">>> from sklearn.svm import SVR\n",
    ">>> #X, y = make_friedman1(n_samples=50, n_features=10, random_state=0)\n",
    ">>> estimator = SVR(kernel=\"linear\")\n",
    ">>> selector = RFE(estimator, 5, step=1)\n",
    ">>> selector = selector.fit(X_train,y_train)\n",
    ">>> selector.support_"
   ]
  },
  {
   "cell_type": "code",
   "execution_count": 19,
   "metadata": {},
   "outputs": [
    {
     "data": {
      "text/html": [
       "<div>\n",
       "<style scoped>\n",
       "    .dataframe tbody tr th:only-of-type {\n",
       "        vertical-align: middle;\n",
       "    }\n",
       "\n",
       "    .dataframe tbody tr th {\n",
       "        vertical-align: top;\n",
       "    }\n",
       "\n",
       "    .dataframe thead th {\n",
       "        text-align: right;\n",
       "    }\n",
       "</style>\n",
       "<table border=\"1\" class=\"dataframe\">\n",
       "  <thead>\n",
       "    <tr style=\"text-align: right;\">\n",
       "      <th></th>\n",
       "      <th>ReliefF</th>\n",
       "      <th>Laplacian</th>\n",
       "      <th>Fisher</th>\n",
       "    </tr>\n",
       "  </thead>\n",
       "  <tbody>\n",
       "    <tr>\n",
       "      <th>0</th>\n",
       "      <td>4417</td>\n",
       "      <td>2244</td>\n",
       "      <td>3363</td>\n",
       "    </tr>\n",
       "    <tr>\n",
       "      <th>1</th>\n",
       "      <td>795</td>\n",
       "      <td>2327</td>\n",
       "      <td>2757</td>\n",
       "    </tr>\n",
       "    <tr>\n",
       "      <th>2</th>\n",
       "      <td>2029</td>\n",
       "      <td>2328</td>\n",
       "      <td>791</td>\n",
       "    </tr>\n",
       "    <tr>\n",
       "      <th>3</th>\n",
       "      <td>3216</td>\n",
       "      <td>2329</td>\n",
       "      <td>4244</td>\n",
       "    </tr>\n",
       "    <tr>\n",
       "      <th>4</th>\n",
       "      <td>955</td>\n",
       "      <td>3892</td>\n",
       "      <td>1173</td>\n",
       "    </tr>\n",
       "    <tr>\n",
       "      <th>5</th>\n",
       "      <td>144</td>\n",
       "      <td>2331</td>\n",
       "      <td>1518</td>\n",
       "    </tr>\n",
       "    <tr>\n",
       "      <th>6</th>\n",
       "      <td>3203</td>\n",
       "      <td>2332</td>\n",
       "      <td>1107</td>\n",
       "    </tr>\n",
       "    <tr>\n",
       "      <th>7</th>\n",
       "      <td>4425</td>\n",
       "      <td>2333</td>\n",
       "      <td>4214</td>\n",
       "    </tr>\n",
       "    <tr>\n",
       "      <th>8</th>\n",
       "      <td>3809</td>\n",
       "      <td>2334</td>\n",
       "      <td>1850</td>\n",
       "    </tr>\n",
       "    <tr>\n",
       "      <th>9</th>\n",
       "      <td>867</td>\n",
       "      <td>2335</td>\n",
       "      <td>2962</td>\n",
       "    </tr>\n",
       "    <tr>\n",
       "      <th>10</th>\n",
       "      <td>3305</td>\n",
       "      <td>2336</td>\n",
       "      <td>4252</td>\n",
       "    </tr>\n",
       "    <tr>\n",
       "      <th>11</th>\n",
       "      <td>3906</td>\n",
       "      <td>2326</td>\n",
       "      <td>2722</td>\n",
       "    </tr>\n",
       "    <tr>\n",
       "      <th>12</th>\n",
       "      <td>1593</td>\n",
       "      <td>2337</td>\n",
       "      <td>2087</td>\n",
       "    </tr>\n",
       "    <tr>\n",
       "      <th>13</th>\n",
       "      <td>740</td>\n",
       "      <td>2339</td>\n",
       "      <td>3778</td>\n",
       "    </tr>\n",
       "    <tr>\n",
       "      <th>14</th>\n",
       "      <td>3258</td>\n",
       "      <td>2340</td>\n",
       "      <td>4264</td>\n",
       "    </tr>\n",
       "    <tr>\n",
       "      <th>15</th>\n",
       "      <td>3979</td>\n",
       "      <td>2341</td>\n",
       "      <td>1734</td>\n",
       "    </tr>\n",
       "    <tr>\n",
       "      <th>16</th>\n",
       "      <td>3499</td>\n",
       "      <td>2342</td>\n",
       "      <td>2498</td>\n",
       "    </tr>\n",
       "    <tr>\n",
       "      <th>17</th>\n",
       "      <td>2562</td>\n",
       "      <td>3891</td>\n",
       "      <td>442</td>\n",
       "    </tr>\n",
       "    <tr>\n",
       "      <th>18</th>\n",
       "      <td>2800</td>\n",
       "      <td>2344</td>\n",
       "      <td>258</td>\n",
       "    </tr>\n",
       "    <tr>\n",
       "      <th>19</th>\n",
       "      <td>4409</td>\n",
       "      <td>3890</td>\n",
       "      <td>3094</td>\n",
       "    </tr>\n",
       "    <tr>\n",
       "      <th>20</th>\n",
       "      <td>2107</td>\n",
       "      <td>2346</td>\n",
       "      <td>818</td>\n",
       "    </tr>\n",
       "    <tr>\n",
       "      <th>21</th>\n",
       "      <td>2955</td>\n",
       "      <td>2347</td>\n",
       "      <td>2865</td>\n",
       "    </tr>\n",
       "    <tr>\n",
       "      <th>22</th>\n",
       "      <td>1380</td>\n",
       "      <td>2348</td>\n",
       "      <td>2547</td>\n",
       "    </tr>\n",
       "    <tr>\n",
       "      <th>23</th>\n",
       "      <td>1503</td>\n",
       "      <td>2338</td>\n",
       "      <td>1493</td>\n",
       "    </tr>\n",
       "    <tr>\n",
       "      <th>24</th>\n",
       "      <td>1504</td>\n",
       "      <td>3893</td>\n",
       "      <td>1597</td>\n",
       "    </tr>\n",
       "    <tr>\n",
       "      <th>25</th>\n",
       "      <td>179</td>\n",
       "      <td>2324</td>\n",
       "      <td>1995</td>\n",
       "    </tr>\n",
       "    <tr>\n",
       "      <th>26</th>\n",
       "      <td>2910</td>\n",
       "      <td>2323</td>\n",
       "      <td>483</td>\n",
       "    </tr>\n",
       "    <tr>\n",
       "      <th>27</th>\n",
       "      <td>2505</td>\n",
       "      <td>3902</td>\n",
       "      <td>1782</td>\n",
       "    </tr>\n",
       "    <tr>\n",
       "      <th>28</th>\n",
       "      <td>2866</td>\n",
       "      <td>2301</td>\n",
       "      <td>2748</td>\n",
       "    </tr>\n",
       "    <tr>\n",
       "      <th>29</th>\n",
       "      <td>3581</td>\n",
       "      <td>2302</td>\n",
       "      <td>466</td>\n",
       "    </tr>\n",
       "    <tr>\n",
       "      <th>...</th>\n",
       "      <td>...</td>\n",
       "      <td>...</td>\n",
       "      <td>...</td>\n",
       "    </tr>\n",
       "    <tr>\n",
       "      <th>4459</th>\n",
       "      <td>4234</td>\n",
       "      <td>2447</td>\n",
       "      <td>2729</td>\n",
       "    </tr>\n",
       "    <tr>\n",
       "      <th>4460</th>\n",
       "      <td>4233</td>\n",
       "      <td>2442</td>\n",
       "      <td>1641</td>\n",
       "    </tr>\n",
       "    <tr>\n",
       "      <th>4461</th>\n",
       "      <td>4418</td>\n",
       "      <td>3562</td>\n",
       "      <td>3560</td>\n",
       "    </tr>\n",
       "    <tr>\n",
       "      <th>4462</th>\n",
       "      <td>3555</td>\n",
       "      <td>3557</td>\n",
       "      <td>151</td>\n",
       "    </tr>\n",
       "    <tr>\n",
       "      <th>4463</th>\n",
       "      <td>153</td>\n",
       "      <td>3563</td>\n",
       "      <td>3559</td>\n",
       "    </tr>\n",
       "    <tr>\n",
       "      <th>4464</th>\n",
       "      <td>3562</td>\n",
       "      <td>3558</td>\n",
       "      <td>3856</td>\n",
       "    </tr>\n",
       "    <tr>\n",
       "      <th>4465</th>\n",
       "      <td>3784</td>\n",
       "      <td>3559</td>\n",
       "      <td>3567</td>\n",
       "    </tr>\n",
       "    <tr>\n",
       "      <th>4466</th>\n",
       "      <td>3563</td>\n",
       "      <td>3556</td>\n",
       "      <td>3562</td>\n",
       "    </tr>\n",
       "    <tr>\n",
       "      <th>4467</th>\n",
       "      <td>3566</td>\n",
       "      <td>3565</td>\n",
       "      <td>3561</td>\n",
       "    </tr>\n",
       "    <tr>\n",
       "      <th>4468</th>\n",
       "      <td>3001</td>\n",
       "      <td>3566</td>\n",
       "      <td>3001</td>\n",
       "    </tr>\n",
       "    <tr>\n",
       "      <th>4469</th>\n",
       "      <td>152</td>\n",
       "      <td>3567</td>\n",
       "      <td>3555</td>\n",
       "    </tr>\n",
       "    <tr>\n",
       "      <th>4470</th>\n",
       "      <td>3557</td>\n",
       "      <td>3555</td>\n",
       "      <td>3521</td>\n",
       "    </tr>\n",
       "    <tr>\n",
       "      <th>4471</th>\n",
       "      <td>3561</td>\n",
       "      <td>3561</td>\n",
       "      <td>3558</td>\n",
       "    </tr>\n",
       "    <tr>\n",
       "      <th>4472</th>\n",
       "      <td>151</td>\n",
       "      <td>3560</td>\n",
       "      <td>152</td>\n",
       "    </tr>\n",
       "    <tr>\n",
       "      <th>4473</th>\n",
       "      <td>806</td>\n",
       "      <td>3564</td>\n",
       "      <td>3563</td>\n",
       "    </tr>\n",
       "    <tr>\n",
       "      <th>4474</th>\n",
       "      <td>3522</td>\n",
       "      <td>806</td>\n",
       "      <td>4228</td>\n",
       "    </tr>\n",
       "    <tr>\n",
       "      <th>4475</th>\n",
       "      <td>3783</td>\n",
       "      <td>3521</td>\n",
       "      <td>4418</td>\n",
       "    </tr>\n",
       "    <tr>\n",
       "      <th>4476</th>\n",
       "      <td>3565</td>\n",
       "      <td>3518</td>\n",
       "      <td>3522</td>\n",
       "    </tr>\n",
       "    <tr>\n",
       "      <th>4477</th>\n",
       "      <td>3560</td>\n",
       "      <td>3785</td>\n",
       "      <td>3518</td>\n",
       "    </tr>\n",
       "    <tr>\n",
       "      <th>4478</th>\n",
       "      <td>4228</td>\n",
       "      <td>3784</td>\n",
       "      <td>806</td>\n",
       "    </tr>\n",
       "    <tr>\n",
       "      <th>4479</th>\n",
       "      <td>3558</td>\n",
       "      <td>4228</td>\n",
       "      <td>3565</td>\n",
       "    </tr>\n",
       "    <tr>\n",
       "      <th>4480</th>\n",
       "      <td>3855</td>\n",
       "      <td>3001</td>\n",
       "      <td>3784</td>\n",
       "    </tr>\n",
       "    <tr>\n",
       "      <th>4481</th>\n",
       "      <td>3559</td>\n",
       "      <td>151</td>\n",
       "      <td>3785</td>\n",
       "    </tr>\n",
       "    <tr>\n",
       "      <th>4482</th>\n",
       "      <td>3785</td>\n",
       "      <td>152</td>\n",
       "      <td>3566</td>\n",
       "    </tr>\n",
       "    <tr>\n",
       "      <th>4483</th>\n",
       "      <td>3556</td>\n",
       "      <td>153</td>\n",
       "      <td>3564</td>\n",
       "    </tr>\n",
       "    <tr>\n",
       "      <th>4484</th>\n",
       "      <td>3567</td>\n",
       "      <td>4418</td>\n",
       "      <td>3556</td>\n",
       "    </tr>\n",
       "    <tr>\n",
       "      <th>4485</th>\n",
       "      <td>3518</td>\n",
       "      <td>3856</td>\n",
       "      <td>153</td>\n",
       "    </tr>\n",
       "    <tr>\n",
       "      <th>4486</th>\n",
       "      <td>3564</td>\n",
       "      <td>3855</td>\n",
       "      <td>3855</td>\n",
       "    </tr>\n",
       "    <tr>\n",
       "      <th>4487</th>\n",
       "      <td>3521</td>\n",
       "      <td>3522</td>\n",
       "      <td>3557</td>\n",
       "    </tr>\n",
       "    <tr>\n",
       "      <th>4488</th>\n",
       "      <td>3856</td>\n",
       "      <td>3783</td>\n",
       "      <td>3783</td>\n",
       "    </tr>\n",
       "  </tbody>\n",
       "</table>\n",
       "<p>4489 rows × 3 columns</p>\n",
       "</div>"
      ],
      "text/plain": [
       "      ReliefF  Laplacian  Fisher\n",
       "0        4417       2244    3363\n",
       "1         795       2327    2757\n",
       "2        2029       2328     791\n",
       "3        3216       2329    4244\n",
       "4         955       3892    1173\n",
       "5         144       2331    1518\n",
       "6        3203       2332    1107\n",
       "7        4425       2333    4214\n",
       "8        3809       2334    1850\n",
       "9         867       2335    2962\n",
       "10       3305       2336    4252\n",
       "11       3906       2326    2722\n",
       "12       1593       2337    2087\n",
       "13        740       2339    3778\n",
       "14       3258       2340    4264\n",
       "15       3979       2341    1734\n",
       "16       3499       2342    2498\n",
       "17       2562       3891     442\n",
       "18       2800       2344     258\n",
       "19       4409       3890    3094\n",
       "20       2107       2346     818\n",
       "21       2955       2347    2865\n",
       "22       1380       2348    2547\n",
       "23       1503       2338    1493\n",
       "24       1504       3893    1597\n",
       "25        179       2324    1995\n",
       "26       2910       2323     483\n",
       "27       2505       3902    1782\n",
       "28       2866       2301    2748\n",
       "29       3581       2302     466\n",
       "...       ...        ...     ...\n",
       "4459     4234       2447    2729\n",
       "4460     4233       2442    1641\n",
       "4461     4418       3562    3560\n",
       "4462     3555       3557     151\n",
       "4463      153       3563    3559\n",
       "4464     3562       3558    3856\n",
       "4465     3784       3559    3567\n",
       "4466     3563       3556    3562\n",
       "4467     3566       3565    3561\n",
       "4468     3001       3566    3001\n",
       "4469      152       3567    3555\n",
       "4470     3557       3555    3521\n",
       "4471     3561       3561    3558\n",
       "4472      151       3560     152\n",
       "4473      806       3564    3563\n",
       "4474     3522        806    4228\n",
       "4475     3783       3521    4418\n",
       "4476     3565       3518    3522\n",
       "4477     3560       3785    3518\n",
       "4478     4228       3784     806\n",
       "4479     3558       4228    3565\n",
       "4480     3855       3001    3784\n",
       "4481     3559        151    3785\n",
       "4482     3785        152    3566\n",
       "4483     3556        153    3564\n",
       "4484     3567       4418    3556\n",
       "4485     3518       3856     153\n",
       "4486     3564       3855    3855\n",
       "4487     3521       3522    3557\n",
       "4488     3856       3783    3783\n",
       "\n",
       "[4489 rows x 3 columns]"
      ]
     },
     "execution_count": 19,
     "metadata": {},
     "output_type": "execute_result"
    }
   ],
   "source": [
    "Dataf"
   ]
  },
  {
   "cell_type": "code",
   "execution_count": null,
   "metadata": {
    "scrolled": false
   },
   "outputs": [],
   "source": [
    "\n",
    "import matplotlib.pyplot as plt\n",
    "from sklearn.svm import SVC\n",
    "from sklearn.model_selection import StratifiedKFold\n",
    "from sklearn.feature_selection import RFECV\n",
    "from sklearn.datasets import make_classification\n",
    "\n",
    "# Build a classification task using 3 informative features\n",
    "\n",
    "\n",
    "# Create the RFE object and compute a cross-validated score.\n",
    "svc = SVC(kernel=\"linear\")\n",
    "# The \"accuracy\" scoring is proportional to the number of correct\n",
    "# classifications\n",
    "rfecv = RFECV(estimator=svc, step=1, cv=StratifiedKFold(2),\n",
    "              scoring='accuracy')\n",
    "rfecv.fit(X_train, y_train)\n",
    "\n",
    "print(\"Optimal number of features : %d\" % rfecv.n_features_)\n",
    "\n",
    "# Plot number of features VS. cross-validation scores\n",
    "plt.figure()\n",
    "plt.xlabel(\"Number of features selected\")\n",
    "plt.ylabel(\"Cross validation score (nb of correct classifications)\")\n",
    "plt.plot(range(1, len(rfecv.grid_scores_) + 1), rfecv.grid_scores_)\n",
    "plt.show()"
   ]
  },
  {
   "cell_type": "code",
   "execution_count": null,
   "metadata": {
    "scrolled": true
   },
   "outputs": [],
   "source": [
    "\n",
    "a=rfecv.support_\n",
    "\n",
    "idx=np.where(a==True)\n",
    "idx=np.array(idx)\n",
    "idx=idx[0,:]"
   ]
  },
  {
   "cell_type": "code",
   "execution_count": null,
   "metadata": {
    "scrolled": true
   },
   "outputs": [],
   "source": [
    "from skfeature.function.information_theoretical_based import CMIM\n",
    "idx = CMIM.cmim(X_train, y_train, n_selected_features=1500)"
   ]
  },
  {
   "cell_type": "code",
   "execution_count": 11,
   "metadata": {
    "scrolled": true
   },
   "outputs": [
    {
     "ename": "KeyboardInterrupt",
     "evalue": "",
     "output_type": "error",
     "traceback": [
      "\u001b[0;31m---------------------------------------------------------------------------\u001b[0m",
      "\u001b[0;31mKeyboardInterrupt\u001b[0m                         Traceback (most recent call last)",
      "\u001b[0;32m<ipython-input-11-c5c42c43ee0a>\u001b[0m in \u001b[0;36m<module>\u001b[0;34m\u001b[0m\n\u001b[1;32m      3\u001b[0m \u001b[0;32mfrom\u001b[0m \u001b[0mskfeature\u001b[0m\u001b[0;34m.\u001b[0m\u001b[0mutility\u001b[0m \u001b[0;32mimport\u001b[0m \u001b[0munsupervised_evaluation\u001b[0m\u001b[0;34m\u001b[0m\u001b[0;34m\u001b[0m\u001b[0m\n\u001b[1;32m      4\u001b[0m \u001b[0;32mfrom\u001b[0m \u001b[0mskfeature\u001b[0m\u001b[0;34m.\u001b[0m\u001b[0mutility\u001b[0m\u001b[0;34m.\u001b[0m\u001b[0msparse_learning\u001b[0m \u001b[0;32mimport\u001b[0m \u001b[0mfeature_ranking\u001b[0m\u001b[0;34m\u001b[0m\u001b[0;34m\u001b[0m\u001b[0m\n\u001b[0;32m----> 5\u001b[0;31m \u001b[0mWeight\u001b[0m \u001b[0;34m=\u001b[0m \u001b[0mUDFS\u001b[0m\u001b[0;34m.\u001b[0m\u001b[0mudfs\u001b[0m\u001b[0;34m(\u001b[0m\u001b[0mX_train\u001b[0m\u001b[0;34m,\u001b[0m \u001b[0mgamma\u001b[0m\u001b[0;34m=\u001b[0m\u001b[0;36m0.1\u001b[0m\u001b[0;34m,\u001b[0m \u001b[0mn_clusters\u001b[0m\u001b[0;34m=\u001b[0m\u001b[0;36m4\u001b[0m\u001b[0;34m)\u001b[0m\u001b[0;34m\u001b[0m\u001b[0;34m\u001b[0m\u001b[0m\n\u001b[0m\u001b[1;32m      6\u001b[0m \u001b[0midx_udfs\u001b[0m \u001b[0;34m=\u001b[0m \u001b[0mfeature_ranking\u001b[0m\u001b[0;34m(\u001b[0m\u001b[0mWeight\u001b[0m\u001b[0;34m)\u001b[0m\u001b[0;34m\u001b[0m\u001b[0;34m\u001b[0m\u001b[0m\n\u001b[1;32m      7\u001b[0m \u001b[0;31m#np.savetxt(\"idx.csv\", idx, delimiter=\",\")\u001b[0m\u001b[0;34m\u001b[0m\u001b[0;34m\u001b[0m\u001b[0;34m\u001b[0m\u001b[0m\n",
      "\u001b[0;32m~/anaconda3/envs/IMD/lib/python3.6/site-packages/skfeature/function/sparse_learning_based/UDFS.py\u001b[0m in \u001b[0;36mudfs\u001b[0;34m(X, **kwargs)\u001b[0m\n\u001b[1;32m     55\u001b[0m     \u001b[0;31m# construct M\u001b[0m\u001b[0;34m\u001b[0m\u001b[0;34m\u001b[0m\u001b[0;34m\u001b[0m\u001b[0m\n\u001b[1;32m     56\u001b[0m     \u001b[0mn_sample\u001b[0m\u001b[0;34m,\u001b[0m \u001b[0mn_feature\u001b[0m \u001b[0;34m=\u001b[0m \u001b[0mX\u001b[0m\u001b[0;34m.\u001b[0m\u001b[0mshape\u001b[0m\u001b[0;34m\u001b[0m\u001b[0;34m\u001b[0m\u001b[0m\n\u001b[0;32m---> 57\u001b[0;31m     \u001b[0mM\u001b[0m \u001b[0;34m=\u001b[0m \u001b[0mconstruct_M\u001b[0m\u001b[0;34m(\u001b[0m\u001b[0mX\u001b[0m\u001b[0;34m,\u001b[0m \u001b[0mk\u001b[0m\u001b[0;34m,\u001b[0m \u001b[0mgamma\u001b[0m\u001b[0;34m)\u001b[0m\u001b[0;34m\u001b[0m\u001b[0;34m\u001b[0m\u001b[0m\n\u001b[0m\u001b[1;32m     58\u001b[0m \u001b[0;34m\u001b[0m\u001b[0m\n\u001b[1;32m     59\u001b[0m     \u001b[0mD\u001b[0m \u001b[0;34m=\u001b[0m \u001b[0mnp\u001b[0m\u001b[0;34m.\u001b[0m\u001b[0meye\u001b[0m\u001b[0;34m(\u001b[0m\u001b[0mn_feature\u001b[0m\u001b[0;34m)\u001b[0m\u001b[0;34m\u001b[0m\u001b[0;34m\u001b[0m\u001b[0m\n",
      "\u001b[0;32m~/anaconda3/envs/IMD/lib/python3.6/site-packages/skfeature/function/sparse_learning_based/UDFS.py\u001b[0m in \u001b[0;36mconstruct_M\u001b[0;34m(X, k, gamma)\u001b[0m\n\u001b[1;32m     99\u001b[0m         \u001b[0;32mfor\u001b[0m \u001b[0mq\u001b[0m \u001b[0;32min\u001b[0m \u001b[0mrange\u001b[0m\u001b[0;34m(\u001b[0m\u001b[0mk\u001b[0m\u001b[0;34m+\u001b[0m\u001b[0;36m1\u001b[0m\u001b[0;34m)\u001b[0m\u001b[0;34m:\u001b[0m\u001b[0;34m\u001b[0m\u001b[0;34m\u001b[0m\u001b[0m\n\u001b[1;32m    100\u001b[0m             \u001b[0mSi\u001b[0m\u001b[0;34m[\u001b[0m\u001b[0midx_new\u001b[0m\u001b[0;34m[\u001b[0m\u001b[0mq\u001b[0m\u001b[0;34m]\u001b[0m\u001b[0;34m,\u001b[0m \u001b[0mq\u001b[0m\u001b[0;34m]\u001b[0m \u001b[0;34m=\u001b[0m \u001b[0;36m1\u001b[0m\u001b[0;34m\u001b[0m\u001b[0;34m\u001b[0m\u001b[0m\n\u001b[0;32m--> 101\u001b[0;31m         \u001b[0mMi\u001b[0m \u001b[0;34m=\u001b[0m \u001b[0mMi\u001b[0m \u001b[0;34m+\u001b[0m \u001b[0mnp\u001b[0m\u001b[0;34m.\u001b[0m\u001b[0mdot\u001b[0m\u001b[0;34m(\u001b[0m\u001b[0mnp\u001b[0m\u001b[0;34m.\u001b[0m\u001b[0mdot\u001b[0m\u001b[0;34m(\u001b[0m\u001b[0mSi\u001b[0m\u001b[0;34m,\u001b[0m \u001b[0mnp\u001b[0m\u001b[0;34m.\u001b[0m\u001b[0mdot\u001b[0m\u001b[0;34m(\u001b[0m\u001b[0mnp\u001b[0m\u001b[0;34m.\u001b[0m\u001b[0mdot\u001b[0m\u001b[0;34m(\u001b[0m\u001b[0mH\u001b[0m\u001b[0;34m,\u001b[0m \u001b[0mBi\u001b[0m\u001b[0;34m)\u001b[0m\u001b[0;34m,\u001b[0m \u001b[0mH\u001b[0m\u001b[0;34m)\u001b[0m\u001b[0;34m)\u001b[0m\u001b[0;34m,\u001b[0m \u001b[0mSi\u001b[0m\u001b[0;34m.\u001b[0m\u001b[0mT\u001b[0m\u001b[0;34m)\u001b[0m\u001b[0;34m\u001b[0m\u001b[0;34m\u001b[0m\u001b[0m\n\u001b[0m\u001b[1;32m    102\u001b[0m     \u001b[0mM\u001b[0m \u001b[0;34m=\u001b[0m \u001b[0mnp\u001b[0m\u001b[0;34m.\u001b[0m\u001b[0mdot\u001b[0m\u001b[0;34m(\u001b[0m\u001b[0mnp\u001b[0m\u001b[0;34m.\u001b[0m\u001b[0mdot\u001b[0m\u001b[0;34m(\u001b[0m\u001b[0mX\u001b[0m\u001b[0;34m.\u001b[0m\u001b[0mT\u001b[0m\u001b[0;34m,\u001b[0m \u001b[0mMi\u001b[0m\u001b[0;34m)\u001b[0m\u001b[0;34m,\u001b[0m \u001b[0mX\u001b[0m\u001b[0;34m)\u001b[0m\u001b[0;34m\u001b[0m\u001b[0;34m\u001b[0m\u001b[0m\n\u001b[1;32m    103\u001b[0m     \u001b[0;32mreturn\u001b[0m \u001b[0mM\u001b[0m\u001b[0;34m\u001b[0m\u001b[0;34m\u001b[0m\u001b[0m\n",
      "\u001b[0;31mKeyboardInterrupt\u001b[0m: "
     ]
    }
   ],
   "source": [
    "##UDFS\n",
    "from skfeature.function.sparse_learning_based import UDFS\n",
    "from skfeature.utility import unsupervised_evaluation\n",
    "from skfeature.utility.sparse_learning import feature_ranking\n",
    "Weight = UDFS.udfs(X_train, gamma=0.1, n_clusters=4)\n",
    "idx_udfs = feature_ranking(Weight)\n",
    "#np.savetxt(\"idx.csv\", idx, delimiter=\",\")"
   ]
  },
  {
   "cell_type": "code",
   "execution_count": 19,
   "metadata": {
    "scrolled": true
   },
   "outputs": [
    {
     "ename": "KeyboardInterrupt",
     "evalue": "",
     "output_type": "error",
     "traceback": [
      "\u001b[0;31m---------------------------------------------------------------------------\u001b[0m",
      "\u001b[0;31mKeyboardInterrupt\u001b[0m                         Traceback (most recent call last)",
      "\u001b[0;32m<ipython-input-19-af08286df88a>\u001b[0m in \u001b[0;36m<module>\u001b[0;34m\u001b[0m\n\u001b[1;32m      1\u001b[0m \u001b[0;32mfrom\u001b[0m \u001b[0mskfeature\u001b[0m\u001b[0;34m.\u001b[0m\u001b[0mfunction\u001b[0m\u001b[0;34m.\u001b[0m\u001b[0mstatistical_based\u001b[0m \u001b[0;32mimport\u001b[0m \u001b[0mCFS\u001b[0m\u001b[0;34m\u001b[0m\u001b[0;34m\u001b[0m\u001b[0m\n\u001b[0;32m----> 2\u001b[0;31m \u001b[0midx\u001b[0m \u001b[0;34m=\u001b[0m \u001b[0mCFS\u001b[0m\u001b[0;34m.\u001b[0m\u001b[0mcfs\u001b[0m\u001b[0;34m(\u001b[0m\u001b[0mX_train\u001b[0m\u001b[0;34m,\u001b[0m \u001b[0my_train\u001b[0m\u001b[0;34m)\u001b[0m\u001b[0;34m\u001b[0m\u001b[0;34m\u001b[0m\u001b[0m\n\u001b[0m",
      "\u001b[0;32m~/anaconda3/envs/IMD/lib/python3.6/site-packages/skfeature/function/statistical_based/CFS.py\u001b[0m in \u001b[0;36mcfs\u001b[0;34m(X, y)\u001b[0m\n\u001b[1;32m     70\u001b[0m                 \u001b[0mF\u001b[0m\u001b[0;34m.\u001b[0m\u001b[0mappend\u001b[0m\u001b[0;34m(\u001b[0m\u001b[0mi\u001b[0m\u001b[0;34m)\u001b[0m\u001b[0;34m\u001b[0m\u001b[0;34m\u001b[0m\u001b[0m\n\u001b[1;32m     71\u001b[0m                 \u001b[0;31m# calculate the merit of current selected features\u001b[0m\u001b[0;34m\u001b[0m\u001b[0;34m\u001b[0m\u001b[0;34m\u001b[0m\u001b[0m\n\u001b[0;32m---> 72\u001b[0;31m                 \u001b[0mt\u001b[0m \u001b[0;34m=\u001b[0m \u001b[0mmerit_calculation\u001b[0m\u001b[0;34m(\u001b[0m\u001b[0mX\u001b[0m\u001b[0;34m[\u001b[0m\u001b[0;34m:\u001b[0m\u001b[0;34m,\u001b[0m \u001b[0mF\u001b[0m\u001b[0;34m]\u001b[0m\u001b[0;34m,\u001b[0m \u001b[0my\u001b[0m\u001b[0;34m)\u001b[0m\u001b[0;34m\u001b[0m\u001b[0;34m\u001b[0m\u001b[0m\n\u001b[0m\u001b[1;32m     73\u001b[0m                 \u001b[0;32mif\u001b[0m \u001b[0mt\u001b[0m \u001b[0;34m>\u001b[0m \u001b[0mmerit\u001b[0m\u001b[0;34m:\u001b[0m\u001b[0;34m\u001b[0m\u001b[0;34m\u001b[0m\u001b[0m\n\u001b[1;32m     74\u001b[0m                     \u001b[0mmerit\u001b[0m \u001b[0;34m=\u001b[0m \u001b[0mt\u001b[0m\u001b[0;34m\u001b[0m\u001b[0;34m\u001b[0m\u001b[0m\n",
      "\u001b[0;32m~/anaconda3/envs/IMD/lib/python3.6/site-packages/skfeature/function/statistical_based/CFS.py\u001b[0m in \u001b[0;36mmerit_calculation\u001b[0;34m(X, y)\u001b[0m\n\u001b[1;32m     32\u001b[0m             \u001b[0;32mif\u001b[0m \u001b[0mj\u001b[0m \u001b[0;34m>\u001b[0m \u001b[0mi\u001b[0m\u001b[0;34m:\u001b[0m\u001b[0;34m\u001b[0m\u001b[0;34m\u001b[0m\u001b[0m\n\u001b[1;32m     33\u001b[0m                 \u001b[0mfj\u001b[0m \u001b[0;34m=\u001b[0m \u001b[0mX\u001b[0m\u001b[0;34m[\u001b[0m\u001b[0;34m:\u001b[0m\u001b[0;34m,\u001b[0m \u001b[0mj\u001b[0m\u001b[0;34m]\u001b[0m\u001b[0;34m\u001b[0m\u001b[0;34m\u001b[0m\u001b[0m\n\u001b[0;32m---> 34\u001b[0;31m                 \u001b[0mrff\u001b[0m \u001b[0;34m+=\u001b[0m \u001b[0msu_calculation\u001b[0m\u001b[0;34m(\u001b[0m\u001b[0mfi\u001b[0m\u001b[0;34m,\u001b[0m \u001b[0mfj\u001b[0m\u001b[0;34m)\u001b[0m\u001b[0;34m\u001b[0m\u001b[0;34m\u001b[0m\u001b[0m\n\u001b[0m\u001b[1;32m     35\u001b[0m     \u001b[0mrff\u001b[0m \u001b[0;34m*=\u001b[0m \u001b[0;36m2\u001b[0m\u001b[0;34m\u001b[0m\u001b[0;34m\u001b[0m\u001b[0m\n\u001b[1;32m     36\u001b[0m     \u001b[0mmerits\u001b[0m \u001b[0;34m=\u001b[0m \u001b[0mrcf\u001b[0m \u001b[0;34m/\u001b[0m \u001b[0mnp\u001b[0m\u001b[0;34m.\u001b[0m\u001b[0msqrt\u001b[0m\u001b[0;34m(\u001b[0m\u001b[0mn_features\u001b[0m \u001b[0;34m+\u001b[0m \u001b[0mrff\u001b[0m\u001b[0;34m)\u001b[0m\u001b[0;34m\u001b[0m\u001b[0;34m\u001b[0m\u001b[0m\n",
      "\u001b[0;32m~/anaconda3/envs/IMD/lib/python3.6/site-packages/skfeature/utility/mutual_information.py\u001b[0m in \u001b[0;36msu_calculation\u001b[0;34m(f1, f2)\u001b[0m\n\u001b[1;32m     56\u001b[0m \u001b[0;34m\u001b[0m\u001b[0m\n\u001b[1;32m     57\u001b[0m     \u001b[0;31m# calculate information gain of f1 and f2, t1 = ig(f1,f2)\u001b[0m\u001b[0;34m\u001b[0m\u001b[0;34m\u001b[0m\u001b[0;34m\u001b[0m\u001b[0m\n\u001b[0;32m---> 58\u001b[0;31m     \u001b[0mt1\u001b[0m \u001b[0;34m=\u001b[0m \u001b[0minformation_gain\u001b[0m\u001b[0;34m(\u001b[0m\u001b[0mf1\u001b[0m\u001b[0;34m,\u001b[0m \u001b[0mf2\u001b[0m\u001b[0;34m)\u001b[0m\u001b[0;34m\u001b[0m\u001b[0;34m\u001b[0m\u001b[0m\n\u001b[0m\u001b[1;32m     59\u001b[0m     \u001b[0;31m# calculate entropy of f1, t2 = H(f1)\u001b[0m\u001b[0;34m\u001b[0m\u001b[0;34m\u001b[0m\u001b[0;34m\u001b[0m\u001b[0m\n\u001b[1;32m     60\u001b[0m     \u001b[0mt2\u001b[0m \u001b[0;34m=\u001b[0m \u001b[0mee\u001b[0m\u001b[0;34m.\u001b[0m\u001b[0mentropyd\u001b[0m\u001b[0;34m(\u001b[0m\u001b[0mf1\u001b[0m\u001b[0;34m)\u001b[0m\u001b[0;34m\u001b[0m\u001b[0;34m\u001b[0m\u001b[0m\n",
      "\u001b[0;32m~/anaconda3/envs/IMD/lib/python3.6/site-packages/skfeature/utility/mutual_information.py\u001b[0m in \u001b[0;36minformation_gain\u001b[0;34m(f1, f2)\u001b[0m\n\u001b[1;32m     16\u001b[0m     \"\"\"\n\u001b[1;32m     17\u001b[0m \u001b[0;34m\u001b[0m\u001b[0m\n\u001b[0;32m---> 18\u001b[0;31m     \u001b[0mig\u001b[0m \u001b[0;34m=\u001b[0m \u001b[0mee\u001b[0m\u001b[0;34m.\u001b[0m\u001b[0mentropyd\u001b[0m\u001b[0;34m(\u001b[0m\u001b[0mf1\u001b[0m\u001b[0;34m)\u001b[0m \u001b[0;34m-\u001b[0m \u001b[0mconditional_entropy\u001b[0m\u001b[0;34m(\u001b[0m\u001b[0mf1\u001b[0m\u001b[0;34m,\u001b[0m \u001b[0mf2\u001b[0m\u001b[0;34m)\u001b[0m\u001b[0;34m\u001b[0m\u001b[0;34m\u001b[0m\u001b[0m\n\u001b[0m\u001b[1;32m     19\u001b[0m     \u001b[0;32mreturn\u001b[0m \u001b[0mig\u001b[0m\u001b[0;34m\u001b[0m\u001b[0;34m\u001b[0m\u001b[0m\n\u001b[1;32m     20\u001b[0m \u001b[0;34m\u001b[0m\u001b[0m\n",
      "\u001b[0;32m~/anaconda3/envs/IMD/lib/python3.6/site-packages/skfeature/utility/mutual_information.py\u001b[0m in \u001b[0;36mconditional_entropy\u001b[0;34m(f1, f2)\u001b[0m\n\u001b[1;32m     35\u001b[0m     \"\"\"\n\u001b[1;32m     36\u001b[0m \u001b[0;34m\u001b[0m\u001b[0m\n\u001b[0;32m---> 37\u001b[0;31m     \u001b[0mce\u001b[0m \u001b[0;34m=\u001b[0m \u001b[0mee\u001b[0m\u001b[0;34m.\u001b[0m\u001b[0mentropyd\u001b[0m\u001b[0;34m(\u001b[0m\u001b[0mf1\u001b[0m\u001b[0;34m)\u001b[0m \u001b[0;34m-\u001b[0m \u001b[0mee\u001b[0m\u001b[0;34m.\u001b[0m\u001b[0mmidd\u001b[0m\u001b[0;34m(\u001b[0m\u001b[0mf1\u001b[0m\u001b[0;34m,\u001b[0m \u001b[0mf2\u001b[0m\u001b[0;34m)\u001b[0m\u001b[0;34m\u001b[0m\u001b[0;34m\u001b[0m\u001b[0m\n\u001b[0m\u001b[1;32m     38\u001b[0m     \u001b[0;32mreturn\u001b[0m \u001b[0mce\u001b[0m\u001b[0;34m\u001b[0m\u001b[0;34m\u001b[0m\u001b[0m\n\u001b[1;32m     39\u001b[0m \u001b[0;34m\u001b[0m\u001b[0m\n",
      "\u001b[0;32m~/anaconda3/envs/IMD/lib/python3.6/site-packages/skfeature/utility/entropy_estimators.py\u001b[0m in \u001b[0;36mmidd\u001b[0;34m(x, y)\u001b[0m\n\u001b[1;32m    101\u001b[0m     \"\"\"\n\u001b[1;32m    102\u001b[0m \u001b[0;34m\u001b[0m\u001b[0m\n\u001b[0;32m--> 103\u001b[0;31m     \u001b[0;32mreturn\u001b[0m \u001b[0;34m-\u001b[0m\u001b[0mentropyd\u001b[0m\u001b[0;34m(\u001b[0m\u001b[0mlist\u001b[0m\u001b[0;34m(\u001b[0m\u001b[0mzip\u001b[0m\u001b[0;34m(\u001b[0m\u001b[0mx\u001b[0m\u001b[0;34m,\u001b[0m \u001b[0my\u001b[0m\u001b[0;34m)\u001b[0m\u001b[0;34m)\u001b[0m\u001b[0;34m)\u001b[0m\u001b[0;34m+\u001b[0m\u001b[0mentropyd\u001b[0m\u001b[0;34m(\u001b[0m\u001b[0mx\u001b[0m\u001b[0;34m)\u001b[0m\u001b[0;34m+\u001b[0m\u001b[0mentropyd\u001b[0m\u001b[0;34m(\u001b[0m\u001b[0my\u001b[0m\u001b[0;34m)\u001b[0m\u001b[0;34m\u001b[0m\u001b[0;34m\u001b[0m\u001b[0m\n\u001b[0m\u001b[1;32m    104\u001b[0m \u001b[0;34m\u001b[0m\u001b[0m\n\u001b[1;32m    105\u001b[0m \u001b[0;34m\u001b[0m\u001b[0m\n",
      "\u001b[0;32m~/anaconda3/envs/IMD/lib/python3.6/site-packages/skfeature/utility/entropy_estimators.py\u001b[0m in \u001b[0;36mentropyd\u001b[0;34m(sx, base)\u001b[0m\n\u001b[1;32m     93\u001b[0m     \"\"\"\n\u001b[1;32m     94\u001b[0m \u001b[0;34m\u001b[0m\u001b[0m\n\u001b[0;32m---> 95\u001b[0;31m     \u001b[0;32mreturn\u001b[0m \u001b[0mentropyfromprobs\u001b[0m\u001b[0;34m(\u001b[0m\u001b[0mhist\u001b[0m\u001b[0;34m(\u001b[0m\u001b[0msx\u001b[0m\u001b[0;34m)\u001b[0m\u001b[0;34m,\u001b[0m \u001b[0mbase\u001b[0m\u001b[0;34m=\u001b[0m\u001b[0mbase\u001b[0m\u001b[0;34m)\u001b[0m\u001b[0;34m\u001b[0m\u001b[0;34m\u001b[0m\u001b[0m\n\u001b[0m\u001b[1;32m     96\u001b[0m \u001b[0;34m\u001b[0m\u001b[0m\n\u001b[1;32m     97\u001b[0m \u001b[0;34m\u001b[0m\u001b[0m\n",
      "\u001b[0;32m~/anaconda3/envs/IMD/lib/python3.6/site-packages/skfeature/utility/entropy_estimators.py\u001b[0m in \u001b[0;36mhist\u001b[0;34m(sx)\u001b[0m\n\u001b[1;32m    116\u001b[0m     \u001b[0md\u001b[0m \u001b[0;34m=\u001b[0m \u001b[0mdict\u001b[0m\u001b[0;34m(\u001b[0m\u001b[0;34m)\u001b[0m\u001b[0;34m\u001b[0m\u001b[0;34m\u001b[0m\u001b[0m\n\u001b[1;32m    117\u001b[0m     \u001b[0;32mfor\u001b[0m \u001b[0ms\u001b[0m \u001b[0;32min\u001b[0m \u001b[0msx\u001b[0m\u001b[0;34m:\u001b[0m\u001b[0;34m\u001b[0m\u001b[0;34m\u001b[0m\u001b[0m\n\u001b[0;32m--> 118\u001b[0;31m         \u001b[0md\u001b[0m\u001b[0;34m[\u001b[0m\u001b[0ms\u001b[0m\u001b[0;34m]\u001b[0m \u001b[0;34m=\u001b[0m \u001b[0md\u001b[0m\u001b[0;34m.\u001b[0m\u001b[0mget\u001b[0m\u001b[0;34m(\u001b[0m\u001b[0ms\u001b[0m\u001b[0;34m,\u001b[0m \u001b[0;36m0\u001b[0m\u001b[0;34m)\u001b[0m \u001b[0;34m+\u001b[0m \u001b[0;36m1\u001b[0m\u001b[0;34m\u001b[0m\u001b[0;34m\u001b[0m\u001b[0m\n\u001b[0m\u001b[1;32m    119\u001b[0m     \u001b[0;32mreturn\u001b[0m \u001b[0mmap\u001b[0m\u001b[0;34m(\u001b[0m\u001b[0;32mlambda\u001b[0m \u001b[0mz\u001b[0m\u001b[0;34m:\u001b[0m \u001b[0mfloat\u001b[0m\u001b[0;34m(\u001b[0m\u001b[0mz\u001b[0m\u001b[0;34m)\u001b[0m\u001b[0;34m/\u001b[0m\u001b[0mlen\u001b[0m\u001b[0;34m(\u001b[0m\u001b[0msx\u001b[0m\u001b[0;34m)\u001b[0m\u001b[0;34m,\u001b[0m \u001b[0md\u001b[0m\u001b[0;34m.\u001b[0m\u001b[0mvalues\u001b[0m\u001b[0;34m(\u001b[0m\u001b[0;34m)\u001b[0m\u001b[0;34m)\u001b[0m\u001b[0;34m\u001b[0m\u001b[0;34m\u001b[0m\u001b[0m\n\u001b[1;32m    120\u001b[0m \u001b[0;34m\u001b[0m\u001b[0m\n",
      "\u001b[0;31mKeyboardInterrupt\u001b[0m: "
     ]
    }
   ],
   "source": [
    "from skfeature.function.statistical_based import CFS\n",
    "idx = CFS.cfs(X_train, y_train)"
   ]
  },
  {
   "cell_type": "code",
   "execution_count": 18,
   "metadata": {
    "scrolled": true
   },
   "outputs": [
    {
     "ename": "ValueError",
     "evalue": "Input X must be non-negative.",
     "output_type": "error",
     "traceback": [
      "\u001b[0;31m---------------------------------------------------------------------------\u001b[0m",
      "\u001b[0;31mValueError\u001b[0m                                Traceback (most recent call last)",
      "\u001b[0;32m<ipython-input-18-490d70e5e5eb>\u001b[0m in \u001b[0;36m<module>\u001b[0;34m\u001b[0m\n\u001b[1;32m      1\u001b[0m \u001b[0;32mfrom\u001b[0m \u001b[0mskfeature\u001b[0m\u001b[0;34m.\u001b[0m\u001b[0mfunction\u001b[0m\u001b[0;34m.\u001b[0m\u001b[0mstatistical_based\u001b[0m \u001b[0;32mimport\u001b[0m \u001b[0mt_score\u001b[0m \u001b[0;34m,\u001b[0m\u001b[0mchi_square\u001b[0m\u001b[0;34m\u001b[0m\u001b[0;34m\u001b[0m\u001b[0m\n\u001b[0;32m----> 2\u001b[0;31m \u001b[0mscore\u001b[0m \u001b[0;34m=\u001b[0m \u001b[0mchi_square\u001b[0m\u001b[0;34m.\u001b[0m\u001b[0mchi_square\u001b[0m\u001b[0;34m(\u001b[0m\u001b[0mX_train\u001b[0m\u001b[0;34m,\u001b[0m \u001b[0my_train\u001b[0m\u001b[0;34m)\u001b[0m\u001b[0;34m\u001b[0m\u001b[0;34m\u001b[0m\u001b[0m\n\u001b[0m\u001b[1;32m      3\u001b[0m \u001b[0midx\u001b[0m \u001b[0;34m=\u001b[0m \u001b[0mt_score\u001b[0m\u001b[0;34m.\u001b[0m\u001b[0mfeature_ranking\u001b[0m\u001b[0;34m(\u001b[0m\u001b[0mscore\u001b[0m\u001b[0;34m)\u001b[0m\u001b[0;34m\u001b[0m\u001b[0;34m\u001b[0m\u001b[0m\n",
      "\u001b[0;32m~/anaconda3/envs/IMD/lib/python3.6/site-packages/skfeature/function/statistical_based/chi_square.py\u001b[0m in \u001b[0;36mchi_square\u001b[0;34m(X, y)\u001b[0m\n\u001b[1;32m     19\u001b[0m         \u001b[0mchi\u001b[0m\u001b[0;34m-\u001b[0m\u001b[0msquare\u001b[0m \u001b[0mscore\u001b[0m \u001b[0;32mfor\u001b[0m \u001b[0meach\u001b[0m \u001b[0mfeature\u001b[0m\u001b[0;34m\u001b[0m\u001b[0;34m\u001b[0m\u001b[0m\n\u001b[1;32m     20\u001b[0m     \"\"\"\n\u001b[0;32m---> 21\u001b[0;31m     \u001b[0mF\u001b[0m\u001b[0;34m,\u001b[0m \u001b[0mpval\u001b[0m \u001b[0;34m=\u001b[0m \u001b[0mchi2\u001b[0m\u001b[0;34m(\u001b[0m\u001b[0mX\u001b[0m\u001b[0;34m,\u001b[0m \u001b[0my\u001b[0m\u001b[0;34m)\u001b[0m\u001b[0;34m\u001b[0m\u001b[0;34m\u001b[0m\u001b[0m\n\u001b[0m\u001b[1;32m     22\u001b[0m     \u001b[0;32mreturn\u001b[0m \u001b[0mF\u001b[0m\u001b[0;34m\u001b[0m\u001b[0;34m\u001b[0m\u001b[0m\n\u001b[1;32m     23\u001b[0m \u001b[0;34m\u001b[0m\u001b[0m\n",
      "\u001b[0;32m~/anaconda3/envs/IMD/lib/python3.6/site-packages/sklearn/feature_selection/univariate_selection.py\u001b[0m in \u001b[0;36mchi2\u001b[0;34m(X, y)\u001b[0m\n\u001b[1;32m    214\u001b[0m     \u001b[0mX\u001b[0m \u001b[0;34m=\u001b[0m \u001b[0mcheck_array\u001b[0m\u001b[0;34m(\u001b[0m\u001b[0mX\u001b[0m\u001b[0;34m,\u001b[0m \u001b[0maccept_sparse\u001b[0m\u001b[0;34m=\u001b[0m\u001b[0;34m'csr'\u001b[0m\u001b[0;34m)\u001b[0m\u001b[0;34m\u001b[0m\u001b[0;34m\u001b[0m\u001b[0m\n\u001b[1;32m    215\u001b[0m     \u001b[0;32mif\u001b[0m \u001b[0mnp\u001b[0m\u001b[0;34m.\u001b[0m\u001b[0many\u001b[0m\u001b[0;34m(\u001b[0m\u001b[0;34m(\u001b[0m\u001b[0mX\u001b[0m\u001b[0;34m.\u001b[0m\u001b[0mdata\u001b[0m \u001b[0;32mif\u001b[0m \u001b[0missparse\u001b[0m\u001b[0;34m(\u001b[0m\u001b[0mX\u001b[0m\u001b[0;34m)\u001b[0m \u001b[0;32melse\u001b[0m \u001b[0mX\u001b[0m\u001b[0;34m)\u001b[0m \u001b[0;34m<\u001b[0m \u001b[0;36m0\u001b[0m\u001b[0;34m)\u001b[0m\u001b[0;34m:\u001b[0m\u001b[0;34m\u001b[0m\u001b[0;34m\u001b[0m\u001b[0m\n\u001b[0;32m--> 216\u001b[0;31m         \u001b[0;32mraise\u001b[0m \u001b[0mValueError\u001b[0m\u001b[0;34m(\u001b[0m\u001b[0;34m\"Input X must be non-negative.\"\u001b[0m\u001b[0;34m)\u001b[0m\u001b[0;34m\u001b[0m\u001b[0;34m\u001b[0m\u001b[0m\n\u001b[0m\u001b[1;32m    217\u001b[0m \u001b[0;34m\u001b[0m\u001b[0m\n\u001b[1;32m    218\u001b[0m     \u001b[0mY\u001b[0m \u001b[0;34m=\u001b[0m \u001b[0mLabelBinarizer\u001b[0m\u001b[0;34m(\u001b[0m\u001b[0;34m)\u001b[0m\u001b[0;34m.\u001b[0m\u001b[0mfit_transform\u001b[0m\u001b[0;34m(\u001b[0m\u001b[0my\u001b[0m\u001b[0;34m)\u001b[0m\u001b[0;34m\u001b[0m\u001b[0;34m\u001b[0m\u001b[0m\n",
      "\u001b[0;31mValueError\u001b[0m: Input X must be non-negative."
     ]
    }
   ],
   "source": [
    "from skfeature.function.statistical_based import t_score ,chi_square\n",
    "score = chi_square.chi_square(X_train, y_train)\n",
    "idx = t_score.feature_ranking(score)"
   ]
  },
  {
   "cell_type": "code",
   "execution_count": 17,
   "metadata": {
    "scrolled": true
   },
   "outputs": [
    {
     "ename": "KeyboardInterrupt",
     "evalue": "",
     "output_type": "error",
     "traceback": [
      "\u001b[0;31m---------------------------------------------------------------------------\u001b[0m",
      "\u001b[0;31mKeyboardInterrupt\u001b[0m                         Traceback (most recent call last)",
      "\u001b[0;32m<ipython-input-17-45b925c3b729>\u001b[0m in \u001b[0;36m<module>\u001b[0;34m\u001b[0m\n\u001b[1;32m      1\u001b[0m \u001b[0;32mfrom\u001b[0m \u001b[0mskfeature\u001b[0m\u001b[0;34m.\u001b[0m\u001b[0mfunction\u001b[0m\u001b[0;34m.\u001b[0m\u001b[0minformation_theoretical_based\u001b[0m \u001b[0;32mimport\u001b[0m \u001b[0mCIFE\u001b[0m\u001b[0;34m\u001b[0m\u001b[0;34m\u001b[0m\u001b[0m\n\u001b[0;32m----> 2\u001b[0;31m \u001b[0midx\u001b[0m \u001b[0;34m=\u001b[0m \u001b[0mCIFE\u001b[0m\u001b[0;34m.\u001b[0m\u001b[0mcife\u001b[0m\u001b[0;34m(\u001b[0m\u001b[0mX_train\u001b[0m\u001b[0;34m,\u001b[0m \u001b[0my_train\u001b[0m\u001b[0;34m,\u001b[0m \u001b[0mn_selected_features\u001b[0m\u001b[0;34m=\u001b[0m\u001b[0;36m4000\u001b[0m\u001b[0;34m)\u001b[0m\u001b[0;34m\u001b[0m\u001b[0;34m\u001b[0m\u001b[0m\n\u001b[0m",
      "\u001b[0;32m~/anaconda3/envs/IMD/lib/python3.6/site-packages/skfeature/function/information_theoretical_based/CIFE.py\u001b[0m in \u001b[0;36mcife\u001b[0;34m(X, y, **kwargs)\u001b[0m\n\u001b[1;32m     32\u001b[0m     \u001b[0;32mif\u001b[0m \u001b[0;34m'n_selected_features'\u001b[0m \u001b[0;32min\u001b[0m \u001b[0mkwargs\u001b[0m\u001b[0;34m.\u001b[0m\u001b[0mkeys\u001b[0m\u001b[0;34m(\u001b[0m\u001b[0;34m)\u001b[0m\u001b[0;34m:\u001b[0m\u001b[0;34m\u001b[0m\u001b[0;34m\u001b[0m\u001b[0m\n\u001b[1;32m     33\u001b[0m         \u001b[0mn_selected_features\u001b[0m \u001b[0;34m=\u001b[0m \u001b[0mkwargs\u001b[0m\u001b[0;34m[\u001b[0m\u001b[0;34m'n_selected_features'\u001b[0m\u001b[0;34m]\u001b[0m\u001b[0;34m\u001b[0m\u001b[0;34m\u001b[0m\u001b[0m\n\u001b[0;32m---> 34\u001b[0;31m         \u001b[0mF\u001b[0m\u001b[0;34m,\u001b[0m \u001b[0mJ_CMI\u001b[0m\u001b[0;34m,\u001b[0m \u001b[0mMIfy\u001b[0m \u001b[0;34m=\u001b[0m \u001b[0mLCSI\u001b[0m\u001b[0;34m.\u001b[0m\u001b[0mlcsi\u001b[0m\u001b[0;34m(\u001b[0m\u001b[0mX\u001b[0m\u001b[0;34m,\u001b[0m \u001b[0my\u001b[0m\u001b[0;34m,\u001b[0m \u001b[0mbeta\u001b[0m\u001b[0;34m=\u001b[0m\u001b[0;36m1\u001b[0m\u001b[0;34m,\u001b[0m \u001b[0mgamma\u001b[0m\u001b[0;34m=\u001b[0m\u001b[0;36m1\u001b[0m\u001b[0;34m,\u001b[0m \u001b[0mn_selected_features\u001b[0m\u001b[0;34m=\u001b[0m\u001b[0mn_selected_features\u001b[0m\u001b[0;34m)\u001b[0m\u001b[0;34m\u001b[0m\u001b[0;34m\u001b[0m\u001b[0m\n\u001b[0m\u001b[1;32m     35\u001b[0m     \u001b[0;32melse\u001b[0m\u001b[0;34m:\u001b[0m\u001b[0;34m\u001b[0m\u001b[0;34m\u001b[0m\u001b[0m\n\u001b[1;32m     36\u001b[0m         \u001b[0mF\u001b[0m\u001b[0;34m,\u001b[0m \u001b[0mJ_CMI\u001b[0m\u001b[0;34m,\u001b[0m \u001b[0mMIfy\u001b[0m \u001b[0;34m=\u001b[0m \u001b[0mLCSI\u001b[0m\u001b[0;34m.\u001b[0m\u001b[0mlcsi\u001b[0m\u001b[0;34m(\u001b[0m\u001b[0mX\u001b[0m\u001b[0;34m,\u001b[0m \u001b[0my\u001b[0m\u001b[0;34m,\u001b[0m \u001b[0mbeta\u001b[0m\u001b[0;34m=\u001b[0m\u001b[0;36m1\u001b[0m\u001b[0;34m,\u001b[0m \u001b[0mgamma\u001b[0m\u001b[0;34m=\u001b[0m\u001b[0;36m1\u001b[0m\u001b[0;34m)\u001b[0m\u001b[0;34m\u001b[0m\u001b[0;34m\u001b[0m\u001b[0m\n",
      "\u001b[0;32m~/anaconda3/envs/IMD/lib/python3.6/site-packages/skfeature/function/information_theoretical_based/LCSI.py\u001b[0m in \u001b[0;36mlcsi\u001b[0;34m(X, y, **kwargs)\u001b[0m\n\u001b[1;32m     98\u001b[0m                 \u001b[0mf\u001b[0m \u001b[0;34m=\u001b[0m \u001b[0mX\u001b[0m\u001b[0;34m[\u001b[0m\u001b[0;34m:\u001b[0m\u001b[0;34m,\u001b[0m \u001b[0mi\u001b[0m\u001b[0;34m]\u001b[0m\u001b[0;34m\u001b[0m\u001b[0;34m\u001b[0m\u001b[0m\n\u001b[1;32m     99\u001b[0m                 \u001b[0mt2\u001b[0m\u001b[0;34m[\u001b[0m\u001b[0mi\u001b[0m\u001b[0;34m]\u001b[0m \u001b[0;34m+=\u001b[0m \u001b[0mmidd\u001b[0m\u001b[0;34m(\u001b[0m\u001b[0mf_select\u001b[0m\u001b[0;34m,\u001b[0m \u001b[0mf\u001b[0m\u001b[0;34m)\u001b[0m\u001b[0;34m\u001b[0m\u001b[0;34m\u001b[0m\u001b[0m\n\u001b[0;32m--> 100\u001b[0;31m                 \u001b[0mt3\u001b[0m\u001b[0;34m[\u001b[0m\u001b[0mi\u001b[0m\u001b[0;34m]\u001b[0m \u001b[0;34m+=\u001b[0m \u001b[0mcmidd\u001b[0m\u001b[0;34m(\u001b[0m\u001b[0mf_select\u001b[0m\u001b[0;34m,\u001b[0m \u001b[0mf\u001b[0m\u001b[0;34m,\u001b[0m \u001b[0my\u001b[0m\u001b[0;34m)\u001b[0m\u001b[0;34m\u001b[0m\u001b[0;34m\u001b[0m\u001b[0m\n\u001b[0m\u001b[1;32m    101\u001b[0m                 \u001b[0;31m# calculate j_cmi for feature i (not in F)\u001b[0m\u001b[0;34m\u001b[0m\u001b[0;34m\u001b[0m\u001b[0;34m\u001b[0m\u001b[0m\n\u001b[1;32m    102\u001b[0m                 \u001b[0mt\u001b[0m \u001b[0;34m=\u001b[0m \u001b[0mt1\u001b[0m\u001b[0;34m[\u001b[0m\u001b[0mi\u001b[0m\u001b[0;34m]\u001b[0m \u001b[0;34m-\u001b[0m \u001b[0mbeta\u001b[0m\u001b[0;34m*\u001b[0m\u001b[0mt2\u001b[0m\u001b[0;34m[\u001b[0m\u001b[0mi\u001b[0m\u001b[0;34m]\u001b[0m \u001b[0;34m+\u001b[0m \u001b[0mgamma\u001b[0m\u001b[0;34m*\u001b[0m\u001b[0mt3\u001b[0m\u001b[0;34m[\u001b[0m\u001b[0mi\u001b[0m\u001b[0;34m]\u001b[0m\u001b[0;34m\u001b[0m\u001b[0;34m\u001b[0m\u001b[0m\n",
      "\u001b[0;32m~/anaconda3/envs/IMD/lib/python3.6/site-packages/skfeature/utility/entropy_estimators.py\u001b[0m in \u001b[0;36mcmidd\u001b[0;34m(x, y, z)\u001b[0m\n\u001b[1;32m    109\u001b[0m     \"\"\"\n\u001b[1;32m    110\u001b[0m \u001b[0;34m\u001b[0m\u001b[0m\n\u001b[0;32m--> 111\u001b[0;31m     \u001b[0;32mreturn\u001b[0m \u001b[0mentropyd\u001b[0m\u001b[0;34m(\u001b[0m\u001b[0mlist\u001b[0m\u001b[0;34m(\u001b[0m\u001b[0mzip\u001b[0m\u001b[0;34m(\u001b[0m\u001b[0my\u001b[0m\u001b[0;34m,\u001b[0m \u001b[0mz\u001b[0m\u001b[0;34m)\u001b[0m\u001b[0;34m)\u001b[0m\u001b[0;34m)\u001b[0m\u001b[0;34m+\u001b[0m\u001b[0mentropyd\u001b[0m\u001b[0;34m(\u001b[0m\u001b[0mlist\u001b[0m\u001b[0;34m(\u001b[0m\u001b[0mzip\u001b[0m\u001b[0;34m(\u001b[0m\u001b[0mx\u001b[0m\u001b[0;34m,\u001b[0m \u001b[0mz\u001b[0m\u001b[0;34m)\u001b[0m\u001b[0;34m)\u001b[0m\u001b[0;34m)\u001b[0m\u001b[0;34m-\u001b[0m\u001b[0mentropyd\u001b[0m\u001b[0;34m(\u001b[0m\u001b[0mlist\u001b[0m\u001b[0;34m(\u001b[0m\u001b[0mzip\u001b[0m\u001b[0;34m(\u001b[0m\u001b[0mx\u001b[0m\u001b[0;34m,\u001b[0m \u001b[0my\u001b[0m\u001b[0;34m,\u001b[0m \u001b[0mz\u001b[0m\u001b[0;34m)\u001b[0m\u001b[0;34m)\u001b[0m\u001b[0;34m)\u001b[0m\u001b[0;34m-\u001b[0m\u001b[0mentropyd\u001b[0m\u001b[0;34m(\u001b[0m\u001b[0mz\u001b[0m\u001b[0;34m)\u001b[0m\u001b[0;34m\u001b[0m\u001b[0;34m\u001b[0m\u001b[0m\n\u001b[0m\u001b[1;32m    112\u001b[0m \u001b[0;34m\u001b[0m\u001b[0m\n\u001b[1;32m    113\u001b[0m \u001b[0;34m\u001b[0m\u001b[0m\n",
      "\u001b[0;32m~/anaconda3/envs/IMD/lib/python3.6/site-packages/skfeature/utility/entropy_estimators.py\u001b[0m in \u001b[0;36mentropyd\u001b[0;34m(sx, base)\u001b[0m\n\u001b[1;32m     93\u001b[0m     \"\"\"\n\u001b[1;32m     94\u001b[0m \u001b[0;34m\u001b[0m\u001b[0m\n\u001b[0;32m---> 95\u001b[0;31m     \u001b[0;32mreturn\u001b[0m \u001b[0mentropyfromprobs\u001b[0m\u001b[0;34m(\u001b[0m\u001b[0mhist\u001b[0m\u001b[0;34m(\u001b[0m\u001b[0msx\u001b[0m\u001b[0;34m)\u001b[0m\u001b[0;34m,\u001b[0m \u001b[0mbase\u001b[0m\u001b[0;34m=\u001b[0m\u001b[0mbase\u001b[0m\u001b[0;34m)\u001b[0m\u001b[0;34m\u001b[0m\u001b[0;34m\u001b[0m\u001b[0m\n\u001b[0m\u001b[1;32m     96\u001b[0m \u001b[0;34m\u001b[0m\u001b[0m\n\u001b[1;32m     97\u001b[0m \u001b[0;34m\u001b[0m\u001b[0m\n",
      "\u001b[0;32m~/anaconda3/envs/IMD/lib/python3.6/site-packages/skfeature/utility/entropy_estimators.py\u001b[0m in \u001b[0;36mentropyfromprobs\u001b[0;34m(probs, base)\u001b[0m\n\u001b[1;32m    122\u001b[0m \u001b[0;32mdef\u001b[0m \u001b[0mentropyfromprobs\u001b[0m\u001b[0;34m(\u001b[0m\u001b[0mprobs\u001b[0m\u001b[0;34m,\u001b[0m \u001b[0mbase\u001b[0m\u001b[0;34m=\u001b[0m\u001b[0;36m2\u001b[0m\u001b[0;34m)\u001b[0m\u001b[0;34m:\u001b[0m\u001b[0;34m\u001b[0m\u001b[0;34m\u001b[0m\u001b[0m\n\u001b[1;32m    123\u001b[0m     \u001b[0;31m# Turn a normalized list of probabilities of discrete outcomes into entropy (base 2)\u001b[0m\u001b[0;34m\u001b[0m\u001b[0;34m\u001b[0m\u001b[0;34m\u001b[0m\u001b[0m\n\u001b[0;32m--> 124\u001b[0;31m     \u001b[0;32mreturn\u001b[0m \u001b[0;34m-\u001b[0m\u001b[0msum\u001b[0m\u001b[0;34m(\u001b[0m\u001b[0mmap\u001b[0m\u001b[0;34m(\u001b[0m\u001b[0melog\u001b[0m\u001b[0;34m,\u001b[0m \u001b[0mprobs\u001b[0m\u001b[0;34m)\u001b[0m\u001b[0;34m)\u001b[0m\u001b[0;34m/\u001b[0m\u001b[0mlog\u001b[0m\u001b[0;34m(\u001b[0m\u001b[0mbase\u001b[0m\u001b[0;34m)\u001b[0m\u001b[0;34m\u001b[0m\u001b[0;34m\u001b[0m\u001b[0m\n\u001b[0m\u001b[1;32m    125\u001b[0m \u001b[0;34m\u001b[0m\u001b[0m\n\u001b[1;32m    126\u001b[0m \u001b[0;34m\u001b[0m\u001b[0m\n",
      "\u001b[0;32m~/anaconda3/envs/IMD/lib/python3.6/site-packages/skfeature/utility/entropy_estimators.py\u001b[0m in \u001b[0;36melog\u001b[0;34m(x)\u001b[0m\n\u001b[1;32m    130\u001b[0m         \u001b[0;32mreturn\u001b[0m \u001b[0;36m0\u001b[0m\u001b[0;34m\u001b[0m\u001b[0;34m\u001b[0m\u001b[0m\n\u001b[1;32m    131\u001b[0m     \u001b[0;32melse\u001b[0m\u001b[0;34m:\u001b[0m\u001b[0;34m\u001b[0m\u001b[0;34m\u001b[0m\u001b[0m\n\u001b[0;32m--> 132\u001b[0;31m         \u001b[0;32mreturn\u001b[0m \u001b[0mx\u001b[0m\u001b[0;34m*\u001b[0m\u001b[0mlog\u001b[0m\u001b[0;34m(\u001b[0m\u001b[0mx\u001b[0m\u001b[0;34m)\u001b[0m\u001b[0;34m\u001b[0m\u001b[0;34m\u001b[0m\u001b[0m\n\u001b[0m\u001b[1;32m    133\u001b[0m \u001b[0;34m\u001b[0m\u001b[0m\n\u001b[1;32m    134\u001b[0m \u001b[0;34m\u001b[0m\u001b[0m\n",
      "\u001b[0;31mKeyboardInterrupt\u001b[0m: "
     ]
    }
   ],
   "source": [
    "from skfeature.function.information_theoretical_based import CIFE\n",
    "idx = CIFE.cife(X_train, y_train, n_selected_features=4000)"
   ]
  },
  {
   "cell_type": "code",
   "execution_count": 10,
   "metadata": {
    "scrolled": true
   },
   "outputs": [
    {
     "ename": "AxisError",
     "evalue": "axis 1 is out of bounds for array of dimension 1",
     "output_type": "error",
     "traceback": [
      "\u001b[0;31m---------------------------------------------------------------------------\u001b[0m",
      "\u001b[0;31mAxisError\u001b[0m                                 Traceback (most recent call last)",
      "\u001b[0;32m<ipython-input-10-ca3d8aadb6dc>\u001b[0m in \u001b[0;36m<module>\u001b[0;34m\u001b[0m\n\u001b[1;32m      9\u001b[0m \u001b[0;34m\u001b[0m\u001b[0m\n\u001b[1;32m     10\u001b[0m \u001b[0;31m# obtain the feature weight matrix\u001b[0m\u001b[0;34m\u001b[0m\u001b[0;34m\u001b[0m\u001b[0;34m\u001b[0m\u001b[0m\n\u001b[0;32m---> 11\u001b[0;31m \u001b[0mWeight\u001b[0m \u001b[0;34m=\u001b[0m \u001b[0mRFS\u001b[0m\u001b[0;34m.\u001b[0m\u001b[0mrfs\u001b[0m\u001b[0;34m(\u001b[0m\u001b[0mX_train\u001b[0m\u001b[0;34m,\u001b[0m \u001b[0my_train\u001b[0m\u001b[0;34m,\u001b[0m\u001b[0mgamma\u001b[0m\u001b[0;34m=\u001b[0m\u001b[0;36m0.1\u001b[0m\u001b[0;34m)\u001b[0m\u001b[0;34m\u001b[0m\u001b[0;34m\u001b[0m\u001b[0m\n\u001b[0m\u001b[1;32m     12\u001b[0m \u001b[0;34m\u001b[0m\u001b[0m\n\u001b[1;32m     13\u001b[0m \u001b[0;31m# sort the feature scores in an ascending order according to the feature scores\u001b[0m\u001b[0;34m\u001b[0m\u001b[0;34m\u001b[0m\u001b[0;34m\u001b[0m\u001b[0m\n",
      "\u001b[0;32m~/anaconda3/envs/IMD/lib/python3.6/site-packages/skfeature/function/sparse_learning_based/RFS.py\u001b[0m in \u001b[0;36mrfs\u001b[0;34m(X, Y, **kwargs)\u001b[0m\n\u001b[1;32m     57\u001b[0m         \u001b[0mU\u001b[0m \u001b[0;34m=\u001b[0m \u001b[0mnp\u001b[0m\u001b[0;34m.\u001b[0m\u001b[0mdot\u001b[0m\u001b[0;34m(\u001b[0m\u001b[0mnp\u001b[0m\u001b[0;34m.\u001b[0m\u001b[0mdot\u001b[0m\u001b[0;34m(\u001b[0m\u001b[0mnp\u001b[0m\u001b[0;34m.\u001b[0m\u001b[0mdot\u001b[0m\u001b[0;34m(\u001b[0m\u001b[0mD_inv\u001b[0m\u001b[0;34m,\u001b[0m \u001b[0mA\u001b[0m\u001b[0;34m.\u001b[0m\u001b[0mT\u001b[0m\u001b[0;34m)\u001b[0m\u001b[0;34m,\u001b[0m \u001b[0mtemp\u001b[0m\u001b[0;34m)\u001b[0m\u001b[0;34m,\u001b[0m \u001b[0mY\u001b[0m\u001b[0;34m)\u001b[0m\u001b[0;34m\u001b[0m\u001b[0;34m\u001b[0m\u001b[0m\n\u001b[1;32m     58\u001b[0m         \u001b[0;31m# update D as D_ii = 1 / 2 / ||U(i,:)||\u001b[0m\u001b[0;34m\u001b[0m\u001b[0;34m\u001b[0m\u001b[0;34m\u001b[0m\u001b[0m\n\u001b[0;32m---> 59\u001b[0;31m         \u001b[0mD\u001b[0m \u001b[0;34m=\u001b[0m \u001b[0mgenerate_diagonal_matrix\u001b[0m\u001b[0;34m(\u001b[0m\u001b[0mU\u001b[0m\u001b[0;34m)\u001b[0m\u001b[0;34m\u001b[0m\u001b[0;34m\u001b[0m\u001b[0m\n\u001b[0m\u001b[1;32m     60\u001b[0m \u001b[0;34m\u001b[0m\u001b[0m\n\u001b[1;32m     61\u001b[0m         \u001b[0mobj\u001b[0m\u001b[0;34m[\u001b[0m\u001b[0miter_step\u001b[0m\u001b[0;34m]\u001b[0m \u001b[0;34m=\u001b[0m \u001b[0mcalculate_obj\u001b[0m\u001b[0;34m(\u001b[0m\u001b[0mX\u001b[0m\u001b[0;34m,\u001b[0m \u001b[0mY\u001b[0m\u001b[0;34m,\u001b[0m \u001b[0mU\u001b[0m\u001b[0;34m[\u001b[0m\u001b[0;36m0\u001b[0m\u001b[0;34m:\u001b[0m\u001b[0mn_features\u001b[0m\u001b[0;34m,\u001b[0m \u001b[0;34m:\u001b[0m\u001b[0;34m]\u001b[0m\u001b[0;34m,\u001b[0m \u001b[0mgamma\u001b[0m\u001b[0;34m)\u001b[0m\u001b[0;34m\u001b[0m\u001b[0;34m\u001b[0m\u001b[0m\n",
      "\u001b[0;32m~/anaconda3/envs/IMD/lib/python3.6/site-packages/skfeature/utility/sparse_learning.py\u001b[0m in \u001b[0;36mgenerate_diagonal_matrix\u001b[0;34m(U)\u001b[0m\n\u001b[1;32m     34\u001b[0m     \u001b[0mD\u001b[0m\u001b[0;34m:\u001b[0m \u001b[0;34m{\u001b[0m\u001b[0mnumpy\u001b[0m \u001b[0marray\u001b[0m\u001b[0;34m}\u001b[0m\u001b[0;34m,\u001b[0m \u001b[0mshape\u001b[0m \u001b[0;34m(\u001b[0m\u001b[0mn_samples\u001b[0m\u001b[0;34m,\u001b[0m \u001b[0mn_samples\u001b[0m\u001b[0;34m)\u001b[0m\u001b[0;34m\u001b[0m\u001b[0;34m\u001b[0m\u001b[0m\n\u001b[1;32m     35\u001b[0m     \"\"\"\n\u001b[0;32m---> 36\u001b[0;31m     \u001b[0mtemp\u001b[0m \u001b[0;34m=\u001b[0m \u001b[0mnp\u001b[0m\u001b[0;34m.\u001b[0m\u001b[0msqrt\u001b[0m\u001b[0;34m(\u001b[0m\u001b[0mnp\u001b[0m\u001b[0;34m.\u001b[0m\u001b[0mmultiply\u001b[0m\u001b[0;34m(\u001b[0m\u001b[0mU\u001b[0m\u001b[0;34m,\u001b[0m \u001b[0mU\u001b[0m\u001b[0;34m)\u001b[0m\u001b[0;34m.\u001b[0m\u001b[0msum\u001b[0m\u001b[0;34m(\u001b[0m\u001b[0;36m1\u001b[0m\u001b[0;34m)\u001b[0m\u001b[0;34m)\u001b[0m\u001b[0;34m\u001b[0m\u001b[0;34m\u001b[0m\u001b[0m\n\u001b[0m\u001b[1;32m     37\u001b[0m     \u001b[0mtemp\u001b[0m\u001b[0;34m[\u001b[0m\u001b[0mtemp\u001b[0m \u001b[0;34m<\u001b[0m \u001b[0;36m1e-16\u001b[0m\u001b[0;34m]\u001b[0m \u001b[0;34m=\u001b[0m \u001b[0;36m1e-16\u001b[0m\u001b[0;34m\u001b[0m\u001b[0;34m\u001b[0m\u001b[0m\n\u001b[1;32m     38\u001b[0m     \u001b[0mtemp\u001b[0m \u001b[0;34m=\u001b[0m \u001b[0;36m0.5\u001b[0m \u001b[0;34m/\u001b[0m \u001b[0mtemp\u001b[0m\u001b[0;34m\u001b[0m\u001b[0;34m\u001b[0m\u001b[0m\n",
      "\u001b[0;32m~/anaconda3/envs/IMD/lib/python3.6/site-packages/numpy/core/_methods.py\u001b[0m in \u001b[0;36m_sum\u001b[0;34m(a, axis, dtype, out, keepdims, initial)\u001b[0m\n\u001b[1;32m     34\u001b[0m def _sum(a, axis=None, dtype=None, out=None, keepdims=False,\n\u001b[1;32m     35\u001b[0m          initial=_NoValue):\n\u001b[0;32m---> 36\u001b[0;31m     \u001b[0;32mreturn\u001b[0m \u001b[0mumr_sum\u001b[0m\u001b[0;34m(\u001b[0m\u001b[0ma\u001b[0m\u001b[0;34m,\u001b[0m \u001b[0maxis\u001b[0m\u001b[0;34m,\u001b[0m \u001b[0mdtype\u001b[0m\u001b[0;34m,\u001b[0m \u001b[0mout\u001b[0m\u001b[0;34m,\u001b[0m \u001b[0mkeepdims\u001b[0m\u001b[0;34m,\u001b[0m \u001b[0minitial\u001b[0m\u001b[0;34m)\u001b[0m\u001b[0;34m\u001b[0m\u001b[0;34m\u001b[0m\u001b[0m\n\u001b[0m\u001b[1;32m     37\u001b[0m \u001b[0;34m\u001b[0m\u001b[0m\n\u001b[1;32m     38\u001b[0m def _prod(a, axis=None, dtype=None, out=None, keepdims=False,\n",
      "\u001b[0;31mAxisError\u001b[0m: axis 1 is out of bounds for array of dimension 1"
     ]
    }
   ],
   "source": [
    "import scipy.io\n",
    "from skfeature.function.sparse_learning_based import RFS\n",
    "from skfeature.utility import construct_W\n",
    "from skfeature.utility import unsupervised_evaluation\n",
    "kwargs = {\"metric\": \"euclidean\", \"neighborMode\": \"knn\", \"weightMode\": \"heatKernel\", \"k\": 5, 't': 1}\n",
    "W = construct_W.construct_W(X_train, **kwargs)\n",
    "num_fea = 100    # specify the number of selected features\n",
    "num_cluster = 20    # specify the number of clusters, it is usually set as the number of classes in the ground truth\n",
    "\n",
    "# obtain the feature weight matrix\n",
    "Weight = RFS.rfs(X_train, y_train,gamma=0.1)\n",
    "\n",
    "# sort the feature scores in an ascending order according to the feature scores\n",
    "idx = feature_ranking(Weight)"
   ]
  },
  {
   "cell_type": "code",
   "execution_count": null,
   "metadata": {
    "scrolled": true
   },
   "outputs": [],
   "source": [
    "\n",
    "# This function discretizes the given features into 3 categories\n",
    "def discretize_feature(feature):\n",
    "    mean=np.mean(feature)\n",
    "    std=np.std(feature)\n",
    "    discretized=np.copy(feature)\n",
    "\n",
    "    discretized[np.where(feature<(mean+std/2)) ,]=2#within 1/2 std div\n",
    "    discretized[np.where(feature>(mean-std/2)),]=2#within 1/2 std div\n",
    "\n",
    "    discretized[np.where(feature>(mean+std/2)),]=0#greater than half\n",
    "    discretized[np.where(feature<(mean-std/2)),]=1#less than half\n",
    "\n",
    "    return discretized\n",
    "\n",
    "class TargetClassException(Exception):\n",
    "    pass\n",
    "\n",
    "#Function for caculating entropy\n",
    "def entropy(num_pos,num_neg):\n",
    "    if num_pos!=0 and num_neg!=0:\n",
    "        return -((num_pos/(num_pos+num_neg))*np.log2(num_pos/(num_pos+num_neg)))-((num_neg/(num_pos+num_neg))*np.log2(num_neg/(num_pos+num_neg)))\n",
    "    elif num_pos==0 and num_neg!=0:\n",
    "        return -((num_neg/(num_pos+num_neg))*np.log2(num_neg/(num_pos+num_neg)))\n",
    "    elif num_pos!=0 and num_neg==0:\n",
    "        return -((num_pos/(num_pos+num_neg))*np.log2(num_pos/(num_pos+num_neg)))\n",
    "    else:\n",
    "        return 0\n",
    "\n",
    "  \n",
    "\"\"\"\n",
    "Call This function if you wish to find the information gain scores of the an attribute set called 'feature' against the discretized feature 'targetClass'\n",
    "\"\"\"\n",
    "def info_Gain(feature,targetClass):\n",
    "    import numpy as np\n",
    "    s=np.unique(targetClass)\n",
    "    iG=[]\n",
    "    if len(s)!=2:\n",
    "        raise TargetClassException('This function only Works for 2-Class Classification Problems. %d Classes Found!'%(len(s)),s)\n",
    "    \n",
    "    S=entropy(len(np.where(targetClass==s[0])[0]),len(np.where(targetClass==s[1])[0]))\n",
    "  #print(\"Entropy of whole dataset:\",S)\n",
    "  \n",
    "    for x in feature:\n",
    "        discrete_feature=discretize_feature(feature[x])\n",
    "        gain=S\n",
    "        for y in [0,1,2]:\n",
    "            sv=len(np.where(discrete_feature==y)[0])\n",
    "            numPos=len(np.where(targetClass[np.where(discrete_feature==y)[0]]==s[0])[0])\n",
    "            numNeg=len(np.where(targetClass[np.where(discrete_feature==y)[0]]==s[1])[0])\n",
    "\n",
    "     # print(numPos,numNeg)\n",
    "     \n",
    "        gain-=(sv/len(targetClass))*entropy(numPos,numNeg)\n",
    "      \n",
    "    iG.append(gain)\n",
    "    #print(x,gain)\n",
    "    return np.array(iG)"
   ]
  },
  {
   "cell_type": "code",
   "execution_count": 160,
   "metadata": {},
   "outputs": [
    {
     "data": {
      "text/plain": [
       "(936, 4489)"
      ]
     },
     "execution_count": 160,
     "metadata": {},
     "output_type": "execute_result"
    }
   ],
   "source": [
    "X_train.shape"
   ]
  },
  {
   "cell_type": "markdown",
   "metadata": {},
   "source": [
    "# ENSEMBLE"
   ]
  },
  {
   "cell_type": "code",
   "execution_count": null,
   "metadata": {
    "scrolled": true
   },
   "outputs": [],
   "source": [
    "idx3=idx3.astype(int)"
   ]
  },
  {
   "cell_type": "code",
   "execution_count": 194,
   "metadata": {
    "scrolled": true
   },
   "outputs": [],
   "source": [
    "x=200\n",
    "idxM=idx_fish[:x]\n",
    "idxN=idx_rel[:x]\n",
    "idxO=idx_lap[:x]"
   ]
  },
  {
   "cell_type": "code",
   "execution_count": 19,
   "metadata": {
    "scrolled": true
   },
   "outputs": [
    {
     "data": {
      "text/plain": [
       "True"
      ]
     },
     "execution_count": 19,
     "metadata": {},
     "output_type": "execute_result"
    }
   ],
   "source": [
    "np.all(idx_fish==idx_fish)"
   ]
  },
  {
   "cell_type": "markdown",
   "metadata": {},
   "source": [
    "### OR"
   ]
  },
  {
   "cell_type": "code",
   "execution_count": 158,
   "metadata": {
    "scrolled": true
   },
   "outputs": [],
   "source": [
    "idx=np.concatenate((idxM,idxN,idxO))\n",
    "idx=np.unique(idx)"
   ]
  },
  {
   "cell_type": "code",
   "execution_count": 159,
   "metadata": {
    "scrolled": true
   },
   "outputs": [
    {
     "data": {
      "text/plain": [
       "4489"
      ]
     },
     "execution_count": 159,
     "metadata": {},
     "output_type": "execute_result"
    }
   ],
   "source": [
    "\n",
    "selected_features_train=X_train[:,idx]\n",
    "selected_features_test=X_test[:,idx]\n",
    "idx.size"
   ]
  },
  {
   "cell_type": "code",
   "execution_count": 74,
   "metadata": {},
   "outputs": [],
   "source": [
    "### X_train.shape"
   ]
  },
  {
   "cell_type": "markdown",
   "metadata": {},
   "source": [
    "### AND"
   ]
  },
  {
   "cell_type": "code",
   "execution_count": 128,
   "metadata": {},
   "outputs": [],
   "source": [
    "idx = set(idxO) - (set(idxO) - set(idxM)-set(idxN))\n",
    "\n",
    "from functools import reduce\n",
    "idx=reduce(np.intersect1d, (idxO, idxM, idxN))"
   ]
  },
  {
   "cell_type": "code",
   "execution_count": 129,
   "metadata": {
    "scrolled": true
   },
   "outputs": [
    {
     "data": {
      "text/plain": [
       "(0,)"
      ]
     },
     "execution_count": 129,
     "metadata": {},
     "output_type": "execute_result"
    }
   ],
   "source": [
    "idx.shape"
   ]
  },
  {
   "cell_type": "markdown",
   "metadata": {},
   "source": [
    "### MV"
   ]
  },
  {
   "cell_type": "code",
   "execution_count": null,
   "metadata": {},
   "outputs": [],
   "source": []
  },
  {
   "cell_type": "code",
   "execution_count": 499,
   "metadata": {},
   "outputs": [],
   "source": [
    "x=6000\n",
    "idxM=idx_fish[:x]\n",
    "idxN=idx_rel[:x]\n",
    "idxO=idx_lap[:x]"
   ]
  },
  {
   "cell_type": "code",
   "execution_count": 500,
   "metadata": {},
   "outputs": [],
   "source": [
    "from collections import Counter"
   ]
  },
  {
   "cell_type": "code",
   "execution_count": 501,
   "metadata": {},
   "outputs": [],
   "source": [
    "idx=np.concatenate((idxM,idxN,idxO))"
   ]
  },
  {
   "cell_type": "code",
   "execution_count": 502,
   "metadata": {},
   "outputs": [],
   "source": [
    "c = Counter(idx)"
   ]
  },
  {
   "cell_type": "code",
   "execution_count": 503,
   "metadata": {},
   "outputs": [],
   "source": [
    "a=c.most_common()"
   ]
  },
  {
   "cell_type": "code",
   "execution_count": 504,
   "metadata": {},
   "outputs": [],
   "source": [
    "b=[i[0] for i in a if i[1]>1 ]"
   ]
  },
  {
   "cell_type": "code",
   "execution_count": 505,
   "metadata": {},
   "outputs": [],
   "source": [
    "idx=np.array(b)"
   ]
  },
  {
   "cell_type": "code",
   "execution_count": 506,
   "metadata": {},
   "outputs": [
    {
     "data": {
      "text/plain": [
       "(4489,)"
      ]
     },
     "execution_count": 506,
     "metadata": {},
     "output_type": "execute_result"
    }
   ],
   "source": [
    "idx.shape"
   ]
  },
  {
   "cell_type": "markdown",
   "metadata": {},
   "source": [
    "# Select Num of Features"
   ]
  },
  {
   "cell_type": "code",
   "execution_count": 16,
   "metadata": {
    "scrolled": false
   },
   "outputs": [
    {
     "data": {
      "text/plain": [
       "(936, 9)"
      ]
     },
     "execution_count": 16,
     "metadata": {},
     "output_type": "execute_result"
    }
   ],
   "source": [
    "#plt.plot(selected_features_train)\n",
    "selected_features_train.shape\n",
    "\n"
   ]
  },
  {
   "cell_type": "code",
   "execution_count": 507,
   "metadata": {
    "scrolled": true
   },
   "outputs": [],
   "source": [
    "#idx=[661,1833]\n",
    "idx=idx\n",
    "num_fea = 7100\n",
    "selected_features_train=X_train[:,idx[:num_fea]]\n",
    "selected_features_test=X_test[:,idx[:num_fea]]"
   ]
  },
  {
   "cell_type": "code",
   "execution_count": null,
   "metadata": {
    "scrolled": true
   },
   "outputs": [],
   "source": [
    "#idx=[661,1833]\n",
    "idx=idx_l\n",
    "num_fea = 3000\n",
    "selected_features_train=X_train[:,idx[:num_fea]]\n",
    "selected_features_test=X_test[:,idx[:num_fea]]"
   ]
  },
  {
   "cell_type": "code",
   "execution_count": null,
   "metadata": {},
   "outputs": [],
   "source": [
    "#lap-score\n",
    "from skfeature.function.similarity_based import lap_score\n",
    "from skfeature.utility import construct_W\n",
    "from skfeature.utility import unsupervised_evaluation\n",
    "kwargs_W = {\"metric\": \"euclidean\", \"neighbor_mode\": \"knn\", \"weight_mode\": \"heat_kernel\", \"k\": 7, 't': 1,'reliefF':True}\n",
    "W = construct_W.construct_W(selected_features_train, **kwargs_W)\n",
    "\n",
    "# obtain the scores of features\n",
    "score = lap_score.lap_score(selected_features_train, W=W)\n",
    "\n",
    "# sort the feature scores in an ascending order according to the feature scores\n",
    "idx_lap2 = lap_score.feature_ranking(score)\n"
   ]
  },
  {
   "cell_type": "code",
   "execution_count": null,
   "metadata": {},
   "outputs": [],
   "source": [
    "selected_features_train=selected_features_train[:,idx_lap2[:500]]\n",
    "selected_features_test=selected_features_test[:,idx_lap2[:500]]"
   ]
  },
  {
   "cell_type": "code",
   "execution_count": null,
   "metadata": {
    "scrolled": true
   },
   "outputs": [],
   "source": [
    "Data=np.vstack([selected_features_train,selected_features_test])\n",
    "label=np.append(y_train,y_test)"
   ]
  },
  {
   "cell_type": "markdown",
   "metadata": {},
   "source": [
    "# Distance measure"
   ]
  },
  {
   "cell_type": "code",
   "execution_count": null,
   "metadata": {
    "scrolled": true
   },
   "outputs": [],
   "source": [
    "from scipy.stats import entropy\n",
    "import math\n",
    "def js(p, q):\n",
    "    p = np.asarray(p)\n",
    "    q = np.asarray(q)\n",
    "    p1=np.multiply(p,np.log2(np.divide(np.multiply(2,p), np.sum([p,q],axis=0))))\n",
    "    p1[np.isnan(p1)]=0\n",
    "    p1[np.isinf(p1)]=0\n",
    "    p2=np.multiply(q,np.log2(np.divide(np.multiply(2,q), np.sum([p,q],axis=0))))\n",
    "    p2[np.isnan(p2)]=0\n",
    "    p2[np.isinf(p2)]=0\n",
    "    func=np.sum([p1,p2],axis=0)\n",
    "    func=func.sum()\n",
    "\n",
    "    return func / 2"
   ]
  },
  {
   "cell_type": "code",
   "execution_count": null,
   "metadata": {
    "scrolled": true
   },
   "outputs": [],
   "source": [
    "pwd"
   ]
  },
  {
   "cell_type": "code",
   "execution_count": null,
   "metadata": {
    "scrolled": true
   },
   "outputs": [],
   "source": [
    "from tqdm import tqdm\n",
    "from scipy.spatial import distance\n",
    "res = np.zeros((selected_features_train.shape[0], selected_features_train.shape[0]))\n",
    "\n",
    "for i in tqdm(range(selected_features_train.shape[0])):\n",
    "    for j in range(i + 1, selected_features_train.shape[0]):\n",
    "        v = js(selected_features_train[i, :], selected_features_train[j, :])\n",
    "        res[i,j] = v\n",
    "        res[j,i] = v"
   ]
  },
  {
   "cell_type": "code",
   "execution_count": null,
   "metadata": {
    "scrolled": true
   },
   "outputs": [],
   "source": [
    "np.savetxt(\"jd_var.csv\", res, delimiter=\",\")"
   ]
  },
  {
   "cell_type": "code",
   "execution_count": null,
   "metadata": {
    "scrolled": true
   },
   "outputs": [],
   "source": [
    "similarities2=res"
   ]
  },
  {
   "cell_type": "code",
   "execution_count": null,
   "metadata": {
    "scrolled": true
   },
   "outputs": [],
   "source": [
    "from sklearn.preprocessing import StandardScaler\n",
    "sc = StandardScaler()\n",
    "res2 = sc.fit_transform(res)"
   ]
  },
  {
   "cell_type": "code",
   "execution_count": 91,
   "metadata": {
    "scrolled": true
   },
   "outputs": [
    {
     "data": {
      "text/plain": [
       "(936, 3000)"
      ]
     },
     "execution_count": 91,
     "metadata": {},
     "output_type": "execute_result"
    }
   ],
   "source": [
    "selected_features_train.shape"
   ]
  },
  {
   "cell_type": "markdown",
   "metadata": {},
   "source": [
    "# UNSUPERVISED"
   ]
  },
  {
   "cell_type": "code",
   "execution_count": null,
   "metadata": {
    "scrolled": true
   },
   "outputs": [],
   "source": [
    "selected_features_train=X_train\n",
    "selected_features_test=X_test"
   ]
  },
  {
   "cell_type": "code",
   "execution_count": null,
   "metadata": {
    "scrolled": true
   },
   "outputs": [],
   "source": [
    "selected_features_train=selected_features_train[:120]\n",
    "y_train=y_train[:120]"
   ]
  },
  {
   "cell_type": "markdown",
   "metadata": {},
   "source": [
    "## MDS"
   ]
  },
  {
   "cell_type": "code",
   "execution_count": 162,
   "metadata": {
    "scrolled": true
   },
   "outputs": [],
   "source": [
    "from sklearn.metrics import euclidean_distances\n",
    "from sklearn.metrics.pairwise import cosine_distances, manhattan_distances\n",
    "from sklearn.metrics.pairwise import paired_cosine_distances\n",
    "from scipy.spatial.distance import pdist\n",
    "from sklearn.metrics.pairwise import pairwise_distances\n",
    "#‘braycurtis’, ‘canberra’, ‘chebyshev’, ‘cityblock’, ‘correlation’, ‘cosine’, ‘dice’, ‘euclidean’, ‘hamming’, ‘jaccard’, ‘jensenshannon’, ‘kulsinski’, ‘mahalanobis’, ‘matching’, ‘minkowski’, ‘rogerstanimoto’, ‘russellrao’, ‘seuclidean’, ‘sokalmichener’, ‘sokalsneath’, ‘sqeuclidean’, ‘wminkowski’, ‘yule’.\n",
    "#best:correlation,"
   ]
  },
  {
   "cell_type": "code",
   "execution_count": 233,
   "metadata": {},
   "outputs": [],
   "source": [
    "import numpy as np\n",
    "\n",
    "def sigmoid(x, derivative=False):\n",
    "  return x*(1-x) if derivative else 1/(1+np.exp(-x))"
   ]
  },
  {
   "cell_type": "code",
   "execution_count": 234,
   "metadata": {
    "scrolled": true
   },
   "outputs": [],
   "source": [
    "#A1\n",
    "from scipy.spatial.distance import squareform\n",
    "#similarities2=res\n",
    "#similarities2 = euclidean_distances(selected_features_train)\n",
    "#similarities2=np.log(similarities2+2)\n",
    "#a=np.log(selected_features_train)\n",
    "#np.where(np.isnan(a))\n",
    "similarities2 = cosine_distances(np.arctan(selected_features_train))\n",
    "#similarities2 = squareform(pdist(selected_features_train),'correlation')\n",
    "#similarities2_test = squareform(pdist(selected_features_test,'euclidean'))\n",
    "#yule"
   ]
  },
  {
   "cell_type": "code",
   "execution_count": 235,
   "metadata": {},
   "outputs": [
    {
     "data": {
      "text/plain": [
       "699     4\n",
       "1030    3\n",
       "1051    3\n",
       "894     4\n",
       "485     1\n",
       "652     4\n",
       "787     4\n",
       "137     2\n",
       "476     1\n",
       "599     4\n",
       "454     1\n",
       "323     1\n",
       "801     4\n",
       "954     3\n",
       "1131    3\n",
       "277     2\n",
       "303     1\n",
       "1140    3\n",
       "1073    3\n",
       "547     1\n",
       "176     2\n",
       "493     1\n",
       "674     4\n",
       "503     1\n",
       "1048    3\n",
       "30      2\n",
       "927     3\n",
       "408     1\n",
       "1166    3\n",
       "436     1\n",
       "       ..\n",
       "939     3\n",
       "300     2\n",
       "60      2\n",
       "542     1\n",
       "1018    3\n",
       "207     2\n",
       "946     3\n",
       "210     2\n",
       "933     3\n",
       "509     1\n",
       "979     3\n",
       "241     2\n",
       "567     1\n",
       "867     4\n",
       "131     2\n",
       "1046    3\n",
       "698     4\n",
       "500     1\n",
       "860     4\n",
       "1032    3\n",
       "73      2\n",
       "1115    3\n",
       "443     1\n",
       "55      2\n",
       "842     4\n",
       "626     4\n",
       "1016    3\n",
       "165     2\n",
       "7       2\n",
       "219     2\n",
       "Name: cell_cycle, Length: 936, dtype: int64"
      ]
     },
     "execution_count": 235,
     "metadata": {},
     "output_type": "execute_result"
    }
   ],
   "source": [
    "y_train"
   ]
  },
  {
   "cell_type": "code",
   "execution_count": null,
   "metadata": {},
   "outputs": [],
   "source": []
  },
  {
   "cell_type": "code",
   "execution_count": 88,
   "metadata": {},
   "outputs": [
    {
     "data": {
      "text/plain": [
       "(4023, 3600)"
      ]
     },
     "execution_count": 88,
     "metadata": {},
     "output_type": "execute_result"
    }
   ],
   "source": [
    "np.shape(selected_features_train)"
   ]
  },
  {
   "cell_type": "code",
   "execution_count": 236,
   "metadata": {},
   "outputs": [
    {
     "data": {
      "text/plain": [
       "[<matplotlib.lines.Line2D at 0x7fcddc3d0358>]"
      ]
     },
     "execution_count": 236,
     "metadata": {},
     "output_type": "execute_result"
    },
    {
     "data": {
      "image/png": "[encoded data removed]",
      "text/plain": [
       "<Figure size 432x288 with 1 Axes>"
      ]
     },
     "metadata": {
      "needs_background": "light"
     },
     "output_type": "display_data"
    }
   ],
   "source": [
    "import matplotlib.pyplot  as plt\n",
    "xx=similarities2\n",
    "plt.plot(xx[4,0:100],color='black') #1\n",
    "plt.plot(xx[10,0:100],color='red')#2\n",
    "plt.plot(xx[233,0:100],color='green')#3\n",
    "plt.plot(xx[445,0:100],color='turquoise')#0"
   ]
  },
  {
   "cell_type": "code",
   "execution_count": 257,
   "metadata": {},
   "outputs": [],
   "source": [
    "similarities2=xx"
   ]
  },
  {
   "cell_type": "code",
   "execution_count": 51,
   "metadata": {
    "scrolled": true
   },
   "outputs": [],
   "source": [
    "#A2\n",
    "#cosine_distances(np.arctan(selected_features_train))\n",
    "#similarities2[similarities2==0]=1\n",
    "similarities2_a2=np.arctan(similarities2)\n",
    "similarities2_a2_test=np.arctan(similarities2_test)"
   ]
  },
  {
   "cell_type": "code",
   "execution_count": 79,
   "metadata": {
    "scrolled": true
   },
   "outputs": [],
   "source": [
    "#A3\n",
    "from sklearn import manifold\n",
    "seed = np.random.RandomState(seed=3)\n",
    "mds = manifold.MDS(n_components=2,verbose=5, max_iter=500, eps=1e-15,\n",
    "                   dissimilarity=\"precomputed\", n_jobs=20)"
   ]
  },
  {
   "cell_type": "code",
   "execution_count": 150,
   "metadata": {
    "scrolled": true
   },
   "outputs": [
    {
     "ename": "NameError",
     "evalue": "name 'similarities2_a2' is not defined",
     "output_type": "error",
     "traceback": [
      "\u001b[0;31m---------------------------------------------------------------------------\u001b[0m",
      "\u001b[0;31mNameError\u001b[0m                                 Traceback (most recent call last)",
      "\u001b[0;32m<ipython-input-150-452fdc150de1>\u001b[0m in \u001b[0;36m<module>\u001b[0;34m\u001b[0m\n\u001b[1;32m      1\u001b[0m \u001b[0;31m#A4\u001b[0m\u001b[0;34m\u001b[0m\u001b[0;34m\u001b[0m\u001b[0;34m\u001b[0m\u001b[0m\n\u001b[0;32m----> 2\u001b[0;31m \u001b[0mpos\u001b[0m \u001b[0;34m=\u001b[0m \u001b[0mmds\u001b[0m\u001b[0;34m.\u001b[0m\u001b[0mfit\u001b[0m\u001b[0;34m(\u001b[0m\u001b[0mnp\u001b[0m\u001b[0;34m.\u001b[0m\u001b[0marctan\u001b[0m\u001b[0;34m(\u001b[0m\u001b[0msimilarities2_a2\u001b[0m\u001b[0;34m)\u001b[0m\u001b[0;34m)\u001b[0m\u001b[0;34m.\u001b[0m\u001b[0membedding_\u001b[0m\u001b[0;34m\u001b[0m\u001b[0;34m\u001b[0m\u001b[0m\n\u001b[0m\u001b[1;32m      3\u001b[0m \u001b[0mpos_test\u001b[0m\u001b[0;34m=\u001b[0m\u001b[0mmds\u001b[0m\u001b[0;34m.\u001b[0m\u001b[0mfit_transform\u001b[0m\u001b[0;34m(\u001b[0m\u001b[0mnp\u001b[0m\u001b[0;34m.\u001b[0m\u001b[0marctan\u001b[0m\u001b[0;34m(\u001b[0m\u001b[0msimilarities2_a2_test\u001b[0m\u001b[0;34m)\u001b[0m\u001b[0;34m)\u001b[0m\u001b[0;34m\u001b[0m\u001b[0;34m\u001b[0m\u001b[0m\n",
      "\u001b[0;31mNameError\u001b[0m: name 'similarities2_a2' is not defined"
     ]
    }
   ],
   "source": [
    "#A4\n",
    "\n",
    "pos = mds.fit(np.arctan(similarities2_a2)).embedding_\n",
    "pos_test=mds.fit_transform(np.arctan(similarities2_a2_test))"
   ]
  },
  {
   "cell_type": "code",
   "execution_count": 82,
   "metadata": {},
   "outputs": [
    {
     "name": "stderr",
     "output_type": "stream",
     "text": [
      "[Parallel(n_jobs=20)]: Using backend LokyBackend with 20 concurrent workers.\n",
      "[Parallel(n_jobs=20)]: Done   4 out of   4 | elapsed:   48.5s finished\n"
     ]
    }
   ],
   "source": [
    "#A5\n",
    "similarities2[np.where(np.isnan(similarities2))]=0\n",
    "pos = mds.fit(np.tan(similarities2)).embedding_\n",
    "#pos_test=mds.fit_transform(similarities2_a2_test)"
   ]
  },
  {
   "cell_type": "code",
   "execution_count": 45,
   "metadata": {},
   "outputs": [
    {
     "ename": "NameError",
     "evalue": "name 'pos' is not defined",
     "output_type": "error",
     "traceback": [
      "\u001b[0;31m---------------------------------------------------------------------------\u001b[0m",
      "\u001b[0;31mNameError\u001b[0m                                 Traceback (most recent call last)",
      "\u001b[0;32m<ipython-input-45-634e55b6deee>\u001b[0m in \u001b[0;36m<module>\u001b[0;34m\u001b[0m\n\u001b[0;32m----> 1\u001b[0;31m \u001b[0mpos\u001b[0m\u001b[0;34m\u001b[0m\u001b[0;34m\u001b[0m\u001b[0m\n\u001b[0m",
      "\u001b[0;31mNameError\u001b[0m: name 'pos' is not defined"
     ]
    }
   ],
   "source": [
    "pos"
   ]
  },
  {
   "cell_type": "code",
   "execution_count": 51,
   "metadata": {},
   "outputs": [
    {
     "name": "stderr",
     "output_type": "stream",
     "text": [
      "[Parallel(n_jobs=20)]: Using backend LokyBackend with 20 concurrent workers.\n",
      "[Parallel(n_jobs=20)]: Done   4 out of   4 | elapsed:   51.7s finished\n"
     ]
    },
    {
     "ename": "NameError",
     "evalue": "name 'similarities2_test' is not defined",
     "output_type": "error",
     "traceback": [
      "\u001b[0;31m---------------------------------------------------------------------------\u001b[0m",
      "\u001b[0;31mNameError\u001b[0m                                 Traceback (most recent call last)",
      "\u001b[0;32m<ipython-input-51-4ca44ed49a52>\u001b[0m in \u001b[0;36m<module>\u001b[0;34m\u001b[0m\n\u001b[1;32m      1\u001b[0m \u001b[0;31m#A6\u001b[0m\u001b[0;34m\u001b[0m\u001b[0;34m\u001b[0m\u001b[0;34m\u001b[0m\u001b[0m\n\u001b[1;32m      2\u001b[0m \u001b[0mpos\u001b[0m \u001b[0;34m=\u001b[0m \u001b[0mmds\u001b[0m\u001b[0;34m.\u001b[0m\u001b[0mfit\u001b[0m\u001b[0;34m(\u001b[0m\u001b[0mnp\u001b[0m\u001b[0;34m.\u001b[0m\u001b[0mtan\u001b[0m\u001b[0;34m(\u001b[0m\u001b[0;34m(\u001b[0m\u001b[0msimilarities2\u001b[0m\u001b[0;34m)\u001b[0m\u001b[0;34m)\u001b[0m\u001b[0;34m)\u001b[0m\u001b[0;34m.\u001b[0m\u001b[0membedding_\u001b[0m\u001b[0;34m\u001b[0m\u001b[0;34m\u001b[0m\u001b[0m\n\u001b[0;32m----> 3\u001b[0;31m \u001b[0mpos_test\u001b[0m\u001b[0;34m=\u001b[0m\u001b[0mmds\u001b[0m\u001b[0;34m.\u001b[0m\u001b[0mfit_transform\u001b[0m\u001b[0;34m(\u001b[0m\u001b[0msimilarities2_test\u001b[0m\u001b[0;34m)\u001b[0m\u001b[0;34m\u001b[0m\u001b[0;34m\u001b[0m\u001b[0m\n\u001b[0m",
      "\u001b[0;31mNameError\u001b[0m: name 'similarities2_test' is not defined"
     ]
    }
   ],
   "source": [
    "#A6\n",
    "pos = mds.fit(np.tan((similarities2))).embedding_\n",
    "pos_test=mds.fit_transform(similarities2_test)"
   ]
  },
  {
   "cell_type": "code",
   "execution_count": 84,
   "metadata": {},
   "outputs": [],
   "source": [
    "#A7\n",
    "pos_a7=np.arctan(pos)\n",
    "#pos_a7_test=np.arctan(pos_test)"
   ]
  },
  {
   "cell_type": "code",
   "execution_count": 85,
   "metadata": {
    "scrolled": true
   },
   "outputs": [],
   "source": [
    "#A8\n",
    "pos_a8 =pos_a7* np.sqrt((selected_features_train ** 2).sum()) / np.sqrt((pos_a7 ** 2).sum())\n",
    "#pos_a8_test = pos_a7_test*np.sqrt((selected_features_test ** 2).sum()) / np.sqrt((pos_a7_test ** 2).sum())"
   ]
  },
  {
   "cell_type": "code",
   "execution_count": 269,
   "metadata": {},
   "outputs": [
    {
     "ename": "NameError",
     "evalue": "name 'pos' is not defined",
     "output_type": "error",
     "traceback": [
      "\u001b[0;31m---------------------------------------------------------------------------\u001b[0m",
      "\u001b[0;31mNameError\u001b[0m                                 Traceback (most recent call last)",
      "\u001b[0;32m<ipython-input-269-d9ebe251cf92>\u001b[0m in \u001b[0;36m<module>\u001b[0;34m\u001b[0m\n\u001b[1;32m      1\u001b[0m \u001b[0;31m#INTRA+DP+OR2000+136\u001b[0m\u001b[0;34m\u001b[0m\u001b[0;34m\u001b[0m\u001b[0;34m\u001b[0m\u001b[0m\n\u001b[1;32m      2\u001b[0m    \u001b[0;31m#OR 1500\u001b[0m\u001b[0;34m\u001b[0m\u001b[0;34m\u001b[0m\u001b[0;34m\u001b[0m\u001b[0m\n\u001b[0;32m----> 3\u001b[0;31m \u001b[0mx_imp\u001b[0m\u001b[0;34m=\u001b[0m\u001b[0mpos\u001b[0m\u001b[0;34m\u001b[0m\u001b[0;34m\u001b[0m\u001b[0m\n\u001b[0m\u001b[1;32m      4\u001b[0m \u001b[0my_imp\u001b[0m\u001b[0;34m=\u001b[0m\u001b[0my_train\u001b[0m\u001b[0;34m\u001b[0m\u001b[0;34m\u001b[0m\u001b[0m\n\u001b[1;32m      5\u001b[0m \u001b[0my_uniq\u001b[0m\u001b[0;34m=\u001b[0m\u001b[0mnp\u001b[0m\u001b[0;34m.\u001b[0m\u001b[0munique\u001b[0m\u001b[0;34m(\u001b[0m\u001b[0my_train\u001b[0m\u001b[0;34m)\u001b[0m\u001b[0;34m\u001b[0m\u001b[0;34m\u001b[0m\u001b[0m\n",
      "\u001b[0;31mNameError\u001b[0m: name 'pos' is not defined"
     ]
    }
   ],
   "source": [
    " #INTRA+DP+OR2000+136\n",
    "    #OR 1500\n",
    "x_imp=pos\n",
    "y_imp=y_train\n",
    "y_uniq=np.unique(y_train)\n",
    "plt.gcf().set_facecolor('white') # Or any color\n",
    "plt.scatter(x_imp[y_imp==y_uniq[1],0], x_imp[y_imp==y_uniq[1],1], label='G1', c='turquoise')\n",
    "plt.scatter(x_imp[y_imp==y_uniq[0],0], x_imp[y_imp==y_uniq[0],1], label='ES', c='red')\n",
    "plt.scatter(x_imp[y_imp==y_uniq[3],0], x_imp[y_imp==y_uniq[3],1], label='MS', c='green')\n",
    "plt.scatter(x_imp[y_imp==y_uniq[2],0], x_imp[y_imp==y_uniq[2],1], label='G2', c='black')\n",
    "# Prettify the graphy_test\n",
    "plt.legend()\n",
    "#plt.xlabel('Dimension')\n",
    "#plt.ylabel('NonflavanoidPhenols')['HAP1'1, 'HeLa'2, 'MEF'3, 'Patski'4,'K562'5,'GM12878'6]\n",
    "plt.savefig('MDS-CC.pdf')\n",
    "# display\n",
    "plt.show()"
   ]
  },
  {
   "cell_type": "code",
   "execution_count": 44,
   "metadata": {},
   "outputs": [
    {
     "ename": "IndexError",
     "evalue": "index 2 is out of bounds for axis 1 with size 2",
     "output_type": "error",
     "traceback": [
      "\u001b[0;31m---------------------------------------------------------------------------\u001b[0m",
      "\u001b[0;31mIndexError\u001b[0m                                Traceback (most recent call last)",
      "\u001b[0;32m<ipython-input-44-afd2a3b8a7a4>\u001b[0m in \u001b[0;36m<module>\u001b[0;34m\u001b[0m\n\u001b[0;32m----> 1\u001b[0;31m \u001b[0mpos\u001b[0m\u001b[0;34m[\u001b[0m\u001b[0;34m:\u001b[0m\u001b[0;34m,\u001b[0m\u001b[0;34m[\u001b[0m\u001b[0;36m1\u001b[0m\u001b[0;34m,\u001b[0m\u001b[0;36m2\u001b[0m\u001b[0;34m]\u001b[0m\u001b[0;34m]\u001b[0m\u001b[0;34m\u001b[0m\u001b[0;34m\u001b[0m\u001b[0m\n\u001b[0m",
      "\u001b[0;31mIndexError\u001b[0m: index 2 is out of bounds for axis 1 with size 2"
     ]
    }
   ],
   "source": [
    "pos[:,[1,2]]"
   ]
  },
  {
   "cell_type": "code",
   "execution_count": 90,
   "metadata": {},
   "outputs": [
    {
     "data": {
      "image/png": "[encoded data removed]",
      "text/plain": [
       "<Figure size 432x288 with 1 Axes>"
      ]
     },
     "metadata": {},
     "output_type": "display_data"
    }
   ],
   "source": [
    " #INTRA+DP+OR2000+136\n",
    "    #OR 1500\n",
    "x_imp=pos_a8\n",
    "y_imp=y_train\n",
    "y_uniq=np.unique(y_train)\n",
    "plt.gcf().set_facecolor('white') # Or any color\n",
    "plt.scatter(x_imp[y_imp==y_uniq[1],0], x_imp[y_imp==y_uniq[1],1], label='G1', c='turquoise')\n",
    "plt.scatter(x_imp[y_imp==y_uniq[0],0], x_imp[y_imp==y_uniq[0],1], label='ES', c='red')\n",
    "plt.scatter(x_imp[y_imp==y_uniq[3],0], x_imp[y_imp==y_uniq[3],1], label='MS', c='green')\n",
    "plt.scatter(x_imp[y_imp==y_uniq[2],0], x_imp[y_imp==y_uniq[2],1], label='G2', c='black')\n",
    "# Prettify the graphy_test\n",
    "plt.legend()\n",
    "#plt.xlabel('Dimension')\n",
    "#plt.ylabel('NonflavanoidPhenols')\n",
    "plt.savefig('MDS-CC2.pdf')\n",
    "# display\n",
    "plt.show()"
   ]
  },
  {
   "cell_type": "code",
   "execution_count": null,
   "metadata": {},
   "outputs": [],
   "source": [
    "#WITH DATA PREP+ A1368\n",
    "x_imp=pos\n",
    "y_imp=y_train\n",
    "y_uniq=np.unique(y_train)\n",
    "plt.gcf().set_facecolor('white') # Or any color\n",
    "plt.scatter(x_imp[y_imp==y_uniq[1],0], x_imp[y_imp==y_uniq[1],1], label='G1', c='turquoise')\n",
    "plt.scatter(x_imp[y_imp==y_uniq[0],0], x_imp[y_imp==y_uniq[0],1], label='ES', c='red')\n",
    "plt.scatter(x_imp[y_imp==y_uniq[3],0], x_imp[y_imp==y_uniq[3],1], label='MS', c='green')\n",
    "plt.scatter(x_imp[y_imp==y_uniq[2],0], x_imp[y_imp==y_uniq[2],1], label='G2', c='black')\n",
    "\n",
    "# Prettify the graphy_test\n",
    "plt.legend()\n",
    "#plt.xlabel('Dimension')\n",
    "#plt.ylabel('NonflavanoidPhenols')\n",
    "\n",
    "# display\n",
    "plt.show()"
   ]
  },
  {
   "cell_type": "code",
   "execution_count": null,
   "metadata": {},
   "outputs": [],
   "source": [
    "#WITH DATA PREP+ A13678\n",
    "x_imp=pos\n",
    "y_imp=y_train\n",
    "y_uniq=np.unique(y_train)\n",
    "plt.gcf().set_facecolor('white') # Or any color\n",
    "plt.scatter(x_imp[y_imp==y_uniq[1],0], x_imp[y_imp==y_uniq[1],1], label='G1', c='turquoise')\n",
    "plt.scatter(x_imp[y_imp==y_uniq[0],0], x_imp[y_imp==y_uniq[0],1], label='ES', c='red')\n",
    "plt.scatter(x_imp[y_imp==y_uniq[3],0], x_imp[y_imp==y_uniq[3],1], label='MS', c='green')\n",
    "plt.scatter(x_imp[y_imp==y_uniq[2],0], x_imp[y_imp==y_uniq[2],1], label='G2', c='black')\n",
    "\n",
    "# Prettify the graphy_test\n",
    "plt.legend()\n",
    "#plt.xlabel('Dimension')\n",
    "#plt.ylabel('NonflavanoidPhenols')\n",
    "\n",
    "# display\n",
    "plt.show()"
   ]
  },
  {
   "cell_type": "code",
   "execution_count": null,
   "metadata": {},
   "outputs": [],
   "source": [
    "#LPM5,A1367\n",
    "x_imp=pos\n",
    "y_imp=y_train\n",
    "y_uniq=np.unique(y_train)\n",
    "plt.gcf().set_facecolor('white') # Or any color\n",
    "plt.scatter(x_imp[y_imp==y_uniq[0],0], x_imp[y_imp==y_uniq[0],1], label='ES', c='red')\n",
    "plt.scatter(x_imp[y_imp==y_uniq[1],0], x_imp[y_imp==y_uniq[1],1], label='G1', c='turquoise')\n",
    "plt.scatter(x_imp[y_imp==y_uniq[2],0], x_imp[y_imp==y_uniq[2],1], label='G2', c='black')\n",
    "plt.scatter(x_imp[y_imp==y_uniq[3],0], x_imp[y_imp==y_uniq[3],1], label='MS', c='green')\n",
    "# Prettify the graphy_test\n",
    "plt.legend()\n",
    "#plt.xlabel('Dimension')\n",
    "#plt.ylabel('NonflavanoidPhenols')\n",
    "\n",
    "# display\n",
    "plt.show()"
   ]
  },
  {
   "cell_type": "code",
   "execution_count": null,
   "metadata": {},
   "outputs": [],
   "source": [
    "#LPM5,A13678\n",
    "x_imp=pos\n",
    "y_imp=y_train\n",
    "y_uniq=np.unique(y_train)\n",
    "plt.gcf().set_facecolor('white') # Or any color\n",
    "plt.scatter(x_imp[y_imp==y_uniq[0],0], x_imp[y_imp==y_uniq[0],1], label='ES', c='red')\n",
    "plt.scatter(x_imp[y_imp==y_uniq[1],0], x_imp[y_imp==y_uniq[1],1], label='G1', c='turquoise')\n",
    "plt.scatter(x_imp[y_imp==y_uniq[2],0], x_imp[y_imp==y_uniq[2],1], label='G2', c='black')\n",
    "plt.scatter(x_imp[y_imp==y_uniq[3],0], x_imp[y_imp==y_uniq[3],1], label='MS', c='green')\n",
    "# Prettify the graphy_test\n",
    "plt.legend()\n",
    "#plt.xlabel('Dimension')\n",
    "#plt.ylabel('NonflavanoidPhenols')\n",
    "\n",
    "# display\n",
    "plt.show()"
   ]
  },
  {
   "cell_type": "code",
   "execution_count": null,
   "metadata": {},
   "outputs": [],
   "source": [
    "#LPM5,A1368=>3000FEATRURE EACH\n",
    "x_imp=pos\n",
    "y_imp=y_train\n",
    "y_uniq=np.unique(y_train)\n",
    "plt.gcf().set_facecolor('white') # Or any color\n",
    "plt.scatter(x_imp[y_imp==y_uniq[0],0], x_imp[y_imp==y_uniq[0],1], label='ES', c='red')\n",
    "plt.scatter(x_imp[y_imp==y_uniq[1],0], x_imp[y_imp==y_uniq[1],1], label='G1', c='turquoise')\n",
    "plt.scatter(x_imp[y_imp==y_uniq[2],0], x_imp[y_imp==y_uniq[2],1], label='G2', c='black')\n",
    "plt.scatter(x_imp[y_imp==y_uniq[3],0], x_imp[y_imp==y_uniq[3],1], label='MS', c='green')\n",
    "# Prettify the graphy_test\n",
    "plt.legend()\n",
    "#plt.xlabel('Dimension')\n",
    "#plt.ylabel('NonflavanoidPhenols')\n",
    "\n",
    "# display\n",
    "plt.show()"
   ]
  },
  {
   "cell_type": "code",
   "execution_count": null,
   "metadata": {},
   "outputs": [],
   "source": [
    "#LPM25,A136=>4000FEATRURE EACH\n",
    "x_imp=pos\n",
    "y_imp=y_train\n",
    "y_uniq=np.unique(y_train)\n",
    "plt.gcf().set_facecolor('white') # Or any color\n",
    "plt.scatter(x_imp[y_imp==y_uniq[0],0], x_imp[y_imp==y_uniq[0],1], label='ES', c='red')\n",
    "plt.scatter(x_imp[y_imp==y_uniq[1],0], x_imp[y_imp==y_uniq[1],1], label='G1', c='turquoise')\n",
    "plt.scatter(x_imp[y_imp==y_uniq[2],0], x_imp[y_imp==y_uniq[2],1], label='G2', c='black')\n",
    "plt.scatter(x_imp[y_imp==y_uniq[3],0], x_imp[y_imp==y_uniq[3],1], label='MS', c='green')\n",
    "# Prettify the graphy_test\n",
    "plt.legend()\n",
    "#plt.xlabel('Dimension')\n",
    "#plt.ylabel('NonflavanoidPhenols')\n",
    "\n",
    "# display\n",
    "plt.show()"
   ]
  },
  {
   "cell_type": "code",
   "execution_count": null,
   "metadata": {},
   "outputs": [],
   "source": [
    "#LPM25,A1367=>4000FEATRURE EACH\n",
    "x_imp=pos\n",
    "y_imp=y_train\n",
    "y_uniq=np.unique(y_train)\n",
    "plt.gcf().set_facecolor('white') # Or any color\n",
    "plt.scatter(x_imp[y_imp==y_uniq[0],0], x_imp[y_imp==y_uniq[0],1], label='ES', c='red')\n",
    "plt.scatter(x_imp[y_imp==y_uniq[1],0], x_imp[y_imp==y_uniq[1],1], label='G1', c='turquoise')\n",
    "plt.scatter(x_imp[y_imp==y_uniq[2],0], x_imp[y_imp==y_uniq[2],1], label='G2', c='black')\n",
    "plt.scatter(x_imp[y_imp==y_uniq[3],0], x_imp[y_imp==y_uniq[3],1], label='MS', c='green')\n",
    "# Prettify the graphy_test\n",
    "plt.legend()\n",
    "#plt.xlabel('Dimension')\n",
    "#plt.ylabel('NonflavanoidPhenols')\n",
    "\n",
    "# display\n",
    "plt.show()"
   ]
  },
  {
   "cell_type": "code",
   "execution_count": null,
   "metadata": {},
   "outputs": [],
   "source": [
    "#LPM25,A13678=>4000FEATRURE EACH\n",
    "x_imp=pos\n",
    "y_imp=y_train\n",
    "y_uniq=np.unique(y_train)\n",
    "plt.gcf().set_facecolor('white') # Or any color\n",
    "plt.scatter(x_imp[y_imp==y_uniq[0],0], x_imp[y_imp==y_uniq[0],1], label='ES', c='red')\n",
    "plt.scatter(x_imp[y_imp==y_uniq[1],0], x_imp[y_imp==y_uniq[1],1], label='G1', c='turquoise')\n",
    "plt.scatter(x_imp[y_imp==y_uniq[2],0], x_imp[y_imp==y_uniq[2],1], label='G2', c='black')\n",
    "plt.scatter(x_imp[y_imp==y_uniq[3],0], x_imp[y_imp==y_uniq[3],1], label='MS', c='green')\n",
    "# Prettify the graphy_test\n",
    "plt.legend()\n",
    "#plt.xlabel('Dimension')\n",
    "#plt.ylabel('NonflavanoidPhenols')\n",
    "\n",
    "# display\n",
    "plt.show()"
   ]
  },
  {
   "cell_type": "code",
   "execution_count": null,
   "metadata": {},
   "outputs": [],
   "source": [
    "#LPM25,A1368=>4000FEATRURE EACH\n",
    "x_imp=pos\n",
    "y_imp=y_train\n",
    "y_uniq=np.unique(y_train)\n",
    "plt.gcf().set_facecolor('white') # Or any color\n",
    "plt.scatter(x_imp[y_imp==y_uniq[0],0], x_imp[y_imp==y_uniq[0],1], label='ES', c='red')\n",
    "plt.scatter(x_imp[y_imp==y_uniq[1],0], x_imp[y_imp==y_uniq[1],1], label='G1', c='turquoise')\n",
    "plt.scatter(x_imp[y_imp==y_uniq[2],0], x_imp[y_imp==y_uniq[2],1], label='G2', c='black')\n",
    "plt.scatter(x_imp[y_imp==y_uniq[3],0], x_imp[y_imp==y_uniq[3],1], label='MS', c='green')\n",
    "# Prettify the graphy_test\n",
    "plt.legend()\n",
    "#plt.xlabel('Dimension')\n",
    "#plt.ylabel('NonflavanoidPhenols')\n",
    "\n",
    "# display\n",
    "plt.show()"
   ]
  },
  {
   "cell_type": "code",
   "execution_count": null,
   "metadata": {
    "scrolled": true
   },
   "outputs": [],
   "source": [
    " #LPM25(for-back25),A137=>4000FEATRURE EACH\n",
    "x_imp=pos\n",
    "y_imp=y_train\n",
    "y_uniq=np.unique(y_train)\n",
    "plt.gcf().set_facecolor('white') # Or any color\n",
    "plt.scatter(x_imp[y_imp==y_uniq[0],0], x_imp[y_imp==y_uniq[0],1], label='ES', c='red')\n",
    "plt.scatter(x_imp[y_imp==y_uniq[1],0], x_imp[y_imp==y_uniq[1],1], label='G1', c='turquoise')\n",
    "plt.scatter(x_imp[y_imp==y_uniq[2],0], x_imp[y_imp==y_uniq[2],1], label='G2', c='black')\n",
    "plt.scatter(x_imp[y_imp==y_uniq[3],0], x_imp[y_imp==y_uniq[3],1], label='MS', c='green')\n",
    "# Prettify the graphy_test\n",
    "plt.legend()\n",
    "#plt.xlabel('Dimension')\n",
    "#plt.ylabel('NonflavanoidPhenols')\n",
    "\n",
    "# display\n",
    "plt.show()"
   ]
  },
  {
   "cell_type": "code",
   "execution_count": null,
   "metadata": {},
   "outputs": [],
   "source": [
    " #LPM100,A1378=>4500FEATRURE EACH\n",
    "x_imp=pos1\n",
    "y_imp=y_train\n",
    "y_uniq=np.unique(y_train)\n",
    "plt.gcf().set_facecolor('white') # Or any color\n",
    "plt.scatter(x_imp[y_imp==y_uniq[0],0], x_imp[y_imp==y_uniq[0],1], label='ES', c='red')\n",
    "plt.scatter(x_imp[y_imp==y_uniq[1],0], x_imp[y_imp==y_uniq[1],1], label='G1', c='turquoise')\n",
    "plt.scatter(x_imp[y_imp==y_uniq[2],0], x_imp[y_imp==y_uniq[2],1], label='G2', c='black')\n",
    "plt.scatter(x_imp[y_imp==y_uniq[3],0], x_imp[y_imp==y_uniq[3],1], label='MS', c='green')\n",
    "# Prettify the graphy_test\n",
    "plt.legend()\n",
    "#plt.xlabel('Dimension')\n",
    "#plt.ylabel('NonflavanoidPhenols')\n",
    "\n",
    "# display\n",
    "plt.show()"
   ]
  },
  {
   "cell_type": "code",
   "execution_count": null,
   "metadata": {},
   "outputs": [],
   "source": [
    "x_imp=pos\n",
    "y_imp=y_train\n",
    "y_uniq=np.unique(y_train)\n",
    "plt.gcf().set_facecolor('white') # Or any color\n",
    "plt.scatter(x_imp[y_imp==y_uniq[0],0], x_imp[y_imp==y_uniq[0],1], label='ES', c='red')\n",
    "plt.scatter(x_imp[y_imp==y_uniq[1],0], x_imp[y_imp==y_uniq[1],1], label='G1', c='turquoise')\n",
    "plt.scatter(x_imp[y_imp==y_uniq[2],0], x_imp[y_imp==y_uniq[2],1], label='G2', c='black')\n",
    "plt.scatter(x_imp[y_imp==y_uniq[3],0], x_imp[y_imp==y_uniq[3],1], label='MS', c='green')\n",
    "# Prettify the graphy_test\n",
    "plt.legend()\n",
    "#plt.xlabel('Dimension')\n",
    "#plt.ylabel('NonflavanoidPhenols')\n",
    "\n",
    "# display\n",
    "plt.show()"
   ]
  },
  {
   "cell_type": "code",
   "execution_count": null,
   "metadata": {},
   "outputs": [],
   "source": [
    "x_imp=pos\n",
    "y_imp=y_train\n",
    "y_uniq=np.unique(y_train)\n",
    "plt.gcf().set_facecolor('white') # Or any color\n",
    "plt.scatter(x_imp[y_imp==y_uniq[1],0], x_imp[y_imp==y_uniq[1],1], label='G1', c='turquoise')\n",
    "plt.scatter(x_imp[y_imp==y_uniq[0],0], x_imp[y_imp==y_uniq[0],1], label='ES', c='red')\n",
    "plt.scatter(x_imp[y_imp==y_uniq[3],0], x_imp[y_imp==y_uniq[3],1], label='MS', c='green')\n",
    "plt.scatter(x_imp[y_imp==y_uniq[2],0], x_imp[y_imp==y_uniq[2],1], label='G2', c='black')\n",
    "\n",
    "# Prettify the graphy_test\n",
    "plt.legend()\n",
    "#plt.xlabel('Dimension')\n",
    "#plt.ylabel('NonflavanoidPhenols')\n",
    "\n",
    "# display\n",
    "plt.show()"
   ]
  },
  {
   "cell_type": "code",
   "execution_count": null,
   "metadata": {},
   "outputs": [],
   "source": [
    "x_imp=pos\n",
    "y_imp=y_train\n",
    "y_uniq=np.unique(y_train)\n",
    "plt.gcf().set_facecolor('white') # Or any color\n",
    "plt.scatter(x_imp[y_imp==y_uniq[1],0], x_imp[y_imp==y_uniq[1],1], label='G1', c='turquoise')\n",
    "plt.scatter(x_imp[y_imp==y_uniq[0],0], x_imp[y_imp==y_uniq[0],1], label='ES', c='red')\n",
    "plt.scatter(x_imp[y_imp==y_uniq[3],0], x_imp[y_imp==y_uniq[3],1], label='MS', c='green')\n",
    "plt.scatter(x_imp[y_imp==y_uniq[2],0], x_imp[y_imp==y_uniq[2],1], label='G2', c='black')\n",
    "\n",
    "# Prettify the graphy_test\n",
    "plt.legend()\n",
    "#plt.xlabel('Dimension')\n",
    "#plt.ylabel('NonflavanoidPhenols')\n",
    "\n",
    "# display\n",
    "plt.show()"
   ]
  },
  {
   "cell_type": "code",
   "execution_count": null,
   "metadata": {},
   "outputs": [],
   "source": [
    "np.average(pos[:,0])\n",
    "np.average(pos[:,1])\n",
    "\n",
    "a=np.zeros(pos[:,0].shape[0])+np.average(pos[:,0])\n",
    "b=np.zeros(pos[:,1].shape[0])+np.average(pos[:,1])\n",
    "np.arctan(pos[:,0]-a,pos[:,1]-b).shape\n",
    "x=np.sqrt((pos[:,0]-a),1)\n",
    "y=np.sqrt((pos[:,1]-b),1)\n",
    "xx=np.zeros((1053,2))\n",
    "xx[:,0]=x\n",
    "xx[:,1]=y"
   ]
  },
  {
   "cell_type": "code",
   "execution_count": null,
   "metadata": {},
   "outputs": [],
   "source": []
  },
  {
   "cell_type": "markdown",
   "metadata": {},
   "source": [
    "#x_imp=pos\n",
    "y_imp=y_train\n",
    "y_uniq=np.unique(y_train)\n",
    "plt.scatter(x_imp[y_imp==y_uniq[0],0], x_imp[y_imp==y_uniq[0],1], label='ES', c='red')\n",
    "plt.scatter(x_imp[y_imp==y_uniq[1],0], x_imp[y_imp==y_uniq[1],1], label='G1', c='turquoise')\n",
    "plt.scatter(x_imp[y_imp==y_uniq[2],0], x_imp[y_imp==y_uniq[2],1], label='G2', c='black')\n",
    "plt.scatter(x_imp[y_imp==y_uniq[3],0], x_imp[y_imp==y_uniq[3],1], label='MS', c='green')\n",
    "#Prettify the graphy_test\n",
    "plt.legend()\n",
    "plt.xlabel('Flavanoids')\n",
    "plt.ylabel('NonflavanoidPhenols')\n",
    "\n",
    "#display\n",
    "plt.show()"
   ]
  },
  {
   "cell_type": "code",
   "execution_count": null,
   "metadata": {
    "scrolled": true
   },
   "outputs": [],
   "source": [
    "x_imp=pos\n",
    "y_imp=y_train\n",
    "y_uniq=np.unique(y_train)\n",
    "plt.scatter(x_imp[y_imp==y_uniq[0],0], x_imp[y_imp==y_uniq[0],1], label='ES', c='red')\n",
    "plt.scatter(x_imp[y_imp==y_uniq[1],0], x_imp[y_imp==y_uniq[1],1], label='G1', c='turquoise')\n",
    "plt.scatter(x_imp[y_imp==y_uniq[2],0], x_imp[y_imp==y_uniq[2],1], label='G2', c='black')\n",
    "plt.scatter(x_imp[y_imp==y_uniq[3],0], x_imp[y_imp==y_uniq[3],1], label='MS', c='green')\n",
    "# Prettify the graphy_test\n",
    "plt.legend()\n",
    "plt.xlabel('Flavanoids')\n",
    "plt.ylabel('NonflavanoidPhenols')\n",
    "\n",
    "# display\n",
    "plt.show()"
   ]
  },
  {
   "cell_type": "markdown",
   "metadata": {},
   "source": [
    "## PCA"
   ]
  },
  {
   "cell_type": "code",
   "execution_count": 271,
   "metadata": {
    "scrolled": true
   },
   "outputs": [
    {
     "data": {
      "text/plain": [
       "(936, 3000)"
      ]
     },
     "execution_count": 271,
     "metadata": {},
     "output_type": "execute_result"
    }
   ],
   "source": [
    "selected_features_train.shape"
   ]
  },
  {
   "cell_type": "code",
   "execution_count": 40,
   "metadata": {
    "scrolled": true
   },
   "outputs": [],
   "source": [
    "from sklearn.decomposition import PCA\n",
    "# Make an instance of the Model\n",
    "pca = PCA(n_components=3)\n",
    "#pca = PCA(.95)"
   ]
  },
  {
   "cell_type": "code",
   "execution_count": 41,
   "metadata": {
    "scrolled": true
   },
   "outputs": [],
   "source": [
    "a=pca.fit(selected_features_train)"
   ]
  },
  {
   "cell_type": "code",
   "execution_count": 42,
   "metadata": {
    "scrolled": true
   },
   "outputs": [
    {
     "ename": "NameError",
     "evalue": "name 'selected_features_trainn' is not defined",
     "output_type": "error",
     "traceback": [
      "\u001b[0;31m---------------------------------------------------------------------------\u001b[0m",
      "\u001b[0;31mNameError\u001b[0m                                 Traceback (most recent call last)",
      "\u001b[0;32m<ipython-input-42-bff63cbaafd4>\u001b[0m in \u001b[0;36m<module>\u001b[0;34m\u001b[0m\n\u001b[0;32m----> 1\u001b[0;31m \u001b[0mselected_features_trainn\u001b[0m\u001b[0;34m\u001b[0m\u001b[0;34m\u001b[0m\u001b[0m\n\u001b[0m",
      "\u001b[0;31mNameError\u001b[0m: name 'selected_features_trainn' is not defined"
     ]
    }
   ],
   "source": [
    "selected_features_trainn"
   ]
  },
  {
   "cell_type": "code",
   "execution_count": 43,
   "metadata": {
    "scrolled": true
   },
   "outputs": [],
   "source": [
    "train_Xpca= pca.transform(selected_features_train)\n",
    "test_Xpca= pca.transform(selected_features_train)"
   ]
  },
  {
   "cell_type": "code",
   "execution_count": 44,
   "metadata": {
    "scrolled": true
   },
   "outputs": [
    {
     "name": "stdout",
     "output_type": "stream",
     "text": [
      "[0.01443024 0.00915348 0.00785797]\n"
     ]
    }
   ],
   "source": [
    "print(pca.explained_variance_ratio_)"
   ]
  },
  {
   "cell_type": "code",
   "execution_count": 45,
   "metadata": {
    "scrolled": true
   },
   "outputs": [],
   "source": [
    "selected_features_trainn=train_Xpca\n",
    "selected_features_testn=test_Xpca"
   ]
  },
  {
   "cell_type": "code",
   "execution_count": 46,
   "metadata": {},
   "outputs": [
    {
     "data": {
      "image/png": "[encoded data removed]",
      "text/plain": [
       "<Figure size 432x288 with 1 Axes>"
      ]
     },
     "metadata": {},
     "output_type": "display_data"
    }
   ],
   "source": [
    " #INTRA+DP+OR2000+136\n",
    "    #OR 1500\n",
    "x_imp=selected_features_trainn[:,[0,1]]\n",
    "y_imp=y_train\n",
    "y_uniq=np.unique(y_train)\n",
    "plt.gcf().set_facecolor('white') # Or any color\n",
    "plt.scatter(x_imp[y_imp==y_uniq[0],0], x_imp[y_imp==y_uniq[0],1], label='HAP1' + np.str(y_uniq[0]), c='red')\n",
    "plt.scatter(x_imp[y_imp==y_uniq[1],0], x_imp[y_imp==y_uniq[1],1], label='HeLa'+ np.str(y_uniq[1]), c='turquoise')\n",
    "plt.scatter(x_imp[y_imp==y_uniq[2],0], x_imp[y_imp==y_uniq[2],1], label='K562'+ np.str(y_uniq[2]), c='black')\n",
    "plt.scatter(x_imp[y_imp==y_uniq[3],0], x_imp[y_imp==y_uniq[3],1], label='GM12878'+ np.str(y_uniq[3]), c='green')\n",
    "# Prettify the graphy_test\n",
    "plt.legend()\n",
    "plt.xlabel('PC1')\n",
    "plt.ylabel('PC3')\n",
    "#plt.savefig('PCA-ENS3000-13.pdf')\n",
    "\n",
    "\n",
    "# display\n",
    "plt.show()"
   ]
  },
  {
   "cell_type": "code",
   "execution_count": 47,
   "metadata": {},
   "outputs": [
    {
     "data": {
      "image/png": "[encoded data removed]",
      "text/plain": [
       "<Figure size 432x288 with 1 Axes>"
      ]
     },
     "metadata": {},
     "output_type": "display_data"
    }
   ],
   "source": [
    "x_imp=selected_features_trainn[:,[1,2]]\n",
    "y_imp=y_train\n",
    "y_uniq=np.unique(y_train)\n",
    "plt.gcf().set_facecolor('white') # Or any color\n",
    "plt.scatter(x_imp[y_imp==y_uniq[1],0], x_imp[y_imp==y_uniq[1],1], label='G1', c='turquoise')\n",
    "plt.scatter(x_imp[y_imp==y_uniq[0],0], x_imp[y_imp==y_uniq[0],1], label='ES', c='red')\n",
    "plt.scatter(x_imp[y_imp==y_uniq[3],0], x_imp[y_imp==y_uniq[3],1], label='MS', c='green')\n",
    "plt.scatter(x_imp[y_imp==y_uniq[2],0], x_imp[y_imp==y_uniq[2],1], label='G2', c='black')\n",
    "\n",
    "# Prettify the graphy_test\n",
    "plt.legend()\n",
    "#plt.xlabel('Dimension')\n",
    "#plt.ylabel('NonflavanoidPhenols')\n",
    "plt.savefig('cc-pca2.pdf')\n",
    "# display\n",
    "plt.show()"
   ]
  },
  {
   "cell_type": "code",
   "execution_count": 286,
   "metadata": {},
   "outputs": [
    {
     "data": {
      "text/plain": [
       "KMeans(algorithm='auto', copy_x=True, init='k-means++', max_iter=300,\n",
       "    n_clusters=10, n_init=10, n_jobs=None, precompute_distances='auto',\n",
       "    random_state=42, tol=0.0001, verbose=0)"
      ]
     },
     "execution_count": 286,
     "metadata": {},
     "output_type": "execute_result"
    }
   ],
   "source": [
    "# Import the `cluster` module\n",
    "from sklearn import cluster\n",
    "\n",
    "# Create the KMeans model\n",
    "clf = cluster.KMeans(init='k-means++', n_clusters=10, random_state=42)\n",
    "\n",
    "# Fit the training data to the model\n",
    "clf.fit(selected_features_train)"
   ]
  },
  {
   "cell_type": "code",
   "execution_count": 287,
   "metadata": {},
   "outputs": [],
   "source": [
    "y_pred=clf.predict(selected_features_test)"
   ]
  },
  {
   "cell_type": "code",
   "execution_count": 290,
   "metadata": {},
   "outputs": [
    {
     "data": {
      "text/plain": [
       "0.4783135178198201"
      ]
     },
     "execution_count": 290,
     "metadata": {},
     "output_type": "execute_result"
    }
   ],
   "source": [
    "adjusted_rand_score(y_test, y_pred)"
   ]
  },
  {
   "cell_type": "code",
   "execution_count": 298,
   "metadata": {
    "scrolled": true
   },
   "outputs": [
    {
     "data": {
      "text/plain": [
       "(235,)"
      ]
     },
     "execution_count": 298,
     "metadata": {},
     "output_type": "execute_result"
    }
   ],
   "source": [
    "y_test.shape"
   ]
  },
  {
   "cell_type": "code",
   "execution_count": 44,
   "metadata": {},
   "outputs": [
    {
     "data": {
      "image/png": "[encoded data removed]",
      "text/plain": [
       "<Figure size 432x288 with 1 Axes>"
      ]
     },
     "metadata": {
      "needs_background": "light"
     },
     "output_type": "display_data"
    }
   ],
   "source": [
    "import seaborn as sns\n",
    "\n",
    "pca = PCA(n_components=5)\n",
    "human_comps = pca.fit_transform(selected_features_train)\n",
    "human_comps = pd.DataFrame(data=human_comps, columns=['c{}'.format(x) for x in range(1, 6)])\n",
    "human_comps = pd.concat([human_meta, human_comps], axis=1)\n",
    "\n",
    "plt.figure()\n",
    "sns.scatterplot(data=human_comps, x='c1', y='c2', hue='cell_line')\n",
    "#plt.savefig('thnowindows-c45.pdf')\n",
    "plt.show()\n",
    "\n"
   ]
  },
  {
   "cell_type": "markdown",
   "metadata": {},
   "source": [
    "## PCA-INET"
   ]
  },
  {
   "cell_type": "code",
   "execution_count": 32,
   "metadata": {
    "scrolled": true
   },
   "outputs": [
    {
     "data": {
      "text/plain": [
       "(1081, 4618)"
      ]
     },
     "execution_count": 32,
     "metadata": {},
     "output_type": "execute_result"
    }
   ],
   "source": [
    "selected_features_train.shape"
   ]
  },
  {
   "cell_type": "code",
   "execution_count": 237,
   "metadata": {
    "scrolled": true
   },
   "outputs": [],
   "source": [
    "from sklearn.decomposition import IncrementalPCA\n",
    "n_batches = 200\n",
    "inc_pca = IncrementalPCA(n_components=3)\n",
    "for X_batch in np.array_split(selected_features_train, n_batches):\n",
    "    inc_pca.partial_fit(X_batch)\n",
    "X_ipca = inc_pca.transform(selected_features_train)\n",
    "X_ipca_reconst = inc_pca.inverse_transform(X_ipca)"
   ]
  },
  {
   "cell_type": "code",
   "execution_count": 238,
   "metadata": {
    "scrolled": true
   },
   "outputs": [],
   "source": [
    "selected_features_trainn=X_ipca\n",
    "selected_features_testn=inc_pca.transform(selected_features_test)"
   ]
  },
  {
   "cell_type": "code",
   "execution_count": 240,
   "metadata": {
    "scrolled": true
   },
   "outputs": [
    {
     "data": {
      "image/png": "[encoded data removed]",
      "text/plain": [
       "<Figure size 432x288 with 1 Axes>"
      ]
     },
     "metadata": {},
     "output_type": "display_data"
    }
   ],
   "source": [
    " #INTRA+DP+OR2000+136\n",
    "    #OR 1500\n",
    "x_imp=selected_features_trainn[:,[1,2]]\n",
    "y_imp=y_train\n",
    "y_uniq=np.unique(y_train)\n",
    "plt.gcf().set_facecolor('white') # Or any color\n",
    "plt.scatter(x_imp[y_imp==y_uniq[0],0], x_imp[y_imp==y_uniq[0],1], label='HAP1' + np.str(y_uniq[0]), c='red')\n",
    "plt.scatter(x_imp[y_imp==y_uniq[1],0], x_imp[y_imp==y_uniq[1],1], label='HeLa'+ np.str(y_uniq[1]), c='turquoise')\n",
    "plt.scatter(x_imp[y_imp==y_uniq[2],0], x_imp[y_imp==y_uniq[2],1], label='K562'+ np.str(y_uniq[2]), c='black')\n",
    "plt.scatter(x_imp[y_imp==y_uniq[3],0], x_imp[y_imp==y_uniq[3],1], label='GM12878'+ np.str(y_uniq[3]), c='green')\n",
    "# Prettify the graphy_test\n",
    "plt.legend()\n",
    "#plt.xlabel('Dimension')\n",
    "#plt.ylabel('NonflavanoidPhenols')['HAP1'1, 'HeLa'2, 'MEF'3, 'Patski'4,'K562'5,'GM12878'6]\n",
    "\n",
    "# display\n",
    "plt.show()"
   ]
  },
  {
   "cell_type": "code",
   "execution_count": 69,
   "metadata": {},
   "outputs": [
    {
     "name": "stdout",
     "output_type": "stream",
     "text": [
      "[0.41175002 0.19813905 0.06336294]\n"
     ]
    }
   ],
   "source": [
    "print(inc_pca.explained_variance_ratio_)"
   ]
  },
  {
   "cell_type": "markdown",
   "metadata": {},
   "source": [
    "## PCA-INC"
   ]
  },
  {
   "cell_type": "code",
   "execution_count": 241,
   "metadata": {
    "scrolled": true
   },
   "outputs": [
    {
     "data": {
      "text/plain": [
       "(936, 3000)"
      ]
     },
     "execution_count": 241,
     "metadata": {},
     "output_type": "execute_result"
    }
   ],
   "source": [
    "selected_features_train.shape"
   ]
  },
  {
   "cell_type": "code",
   "execution_count": 242,
   "metadata": {
    "scrolled": true
   },
   "outputs": [],
   "source": [
    "n_batches = 40\n",
    "inc_pca = IncrementalPCA(n_components=3)\n",
    "for X_batch in np.array_split(selected_features_train, n_batches):\n",
    "    inc_pca.partial_fit(X_batch)\n",
    "X_ipca = inc_pca.transform(selected_features_train)\n",
    "X_ipca_reconst = inc_pca.inverse_transform(X_ipca)"
   ]
  },
  {
   "cell_type": "code",
   "execution_count": 243,
   "metadata": {
    "scrolled": true
   },
   "outputs": [],
   "source": [
    "selected_features_trainn=X_ipca\n",
    "selected_features_testn=inc_pca.transform(selected_features_test)"
   ]
  },
  {
   "cell_type": "code",
   "execution_count": 245,
   "metadata": {
    "scrolled": true
   },
   "outputs": [
    {
     "data": {
      "image/png": "[encoded data removed]",
      "text/plain": [
       "<Figure size 432x288 with 1 Axes>"
      ]
     },
     "metadata": {
      "needs_background": "light"
     },
     "output_type": "display_data"
    }
   ],
   "source": [
    "x_imp=selected_features_trainn[:,[1,2]]\n",
    "y_imp=y_train\n",
    "y_uniq=np.unique(y_train)\n",
    "plt.scatter(x_imp[y_imp==y_uniq[0],0], x_imp[y_imp==y_uniq[0],1], label='Class 1', c='red')\n",
    "plt.scatter(x_imp[y_imp==y_uniq[1],0], x_imp[y_imp==y_uniq[1],1], label='Class 2', c='lightblue')\n",
    "plt.scatter(x_imp[y_imp==y_uniq[2],0], x_imp[y_imp==y_uniq[2],1], label='Class 3', c='lightgreen')\n",
    "plt.scatter(x_imp[y_imp==y_uniq[3],0], x_imp[y_imp==y_uniq[3],1], label='Class 4', c='green')\n",
    "# Prettify the graphy_test\n",
    "plt.legend()\n",
    "plt.xlabel('Flavanoids')\n",
    "plt.ylabel('NonflavanoidPhenols')\n",
    "\n",
    "# display\n",
    "plt.show()"
   ]
  },
  {
   "cell_type": "markdown",
   "metadata": {},
   "source": [
    "## SVD"
   ]
  },
  {
   "cell_type": "code",
   "execution_count": 246,
   "metadata": {
    "scrolled": true
   },
   "outputs": [
    {
     "data": {
      "text/plain": [
       "(936, 3000)"
      ]
     },
     "execution_count": 246,
     "metadata": {},
     "output_type": "execute_result"
    }
   ],
   "source": [
    "selected_features_train.shape"
   ]
  },
  {
   "cell_type": "code",
   "execution_count": null,
   "metadata": {
    "scrolled": true
   },
   "outputs": [],
   "source": []
  },
  {
   "cell_type": "code",
   "execution_count": 259,
   "metadata": {
    "scrolled": true
   },
   "outputs": [],
   "source": [
    "from sklearn.decomposition import TruncatedSVD\n",
    "svd = TruncatedSVD(3,algorithm='arpack')\n",
    "z3=svd.fit(selected_features_train,y_train)"
   ]
  },
  {
   "cell_type": "code",
   "execution_count": 260,
   "metadata": {
    "scrolled": true
   },
   "outputs": [],
   "source": [
    "similarities2 = cosine_distances(selected_features_train)"
   ]
  },
  {
   "cell_type": "code",
   "execution_count": 261,
   "metadata": {
    "scrolled": true
   },
   "outputs": [],
   "source": [
    "train_Xsvd= svd.transform(selected_features_train)\n",
    "test_Xsvd= svd.transform(selected_features_train)"
   ]
  },
  {
   "cell_type": "code",
   "execution_count": 262,
   "metadata": {
    "scrolled": true
   },
   "outputs": [],
   "source": [
    "selected_features_trainn=train_Xsvd\n",
    "selected_features_testn=test_Xsvd"
   ]
  },
  {
   "cell_type": "code",
   "execution_count": 265,
   "metadata": {
    "scrolled": true
   },
   "outputs": [
    {
     "data": {
      "image/png": "[encoded data removed]",
      "text/plain": [
       "<Figure size 432x288 with 1 Axes>"
      ]
     },
     "metadata": {},
     "output_type": "display_data"
    }
   ],
   "source": [
    "x_imp=selected_features_trainn[:,[0,1]]\n",
    "y_imp=y_train\n",
    "y_uniq=np.unique(y_train)\n",
    "plt.gcf().set_facecolor('white') # Or any color\n",
    "plt.scatter(x_imp[y_imp==y_uniq[0],0], x_imp[y_imp==y_uniq[0],1], label='ES', c='red')\n",
    "plt.scatter(x_imp[y_imp==y_uniq[1],0], x_imp[y_imp==y_uniq[1],1], label='G1', c='turquoise')\n",
    "plt.scatter(x_imp[y_imp==y_uniq[2],0], x_imp[y_imp==y_uniq[2],1], label='G2', c='black')\n",
    "plt.scatter(x_imp[y_imp==y_uniq[3],0], x_imp[y_imp==y_uniq[3],1], label='MS', c='green')\n",
    "# Prettify the graphy_test\n",
    "plt.legend()\n",
    "#plt.xlabel('Dimension')\n",
    "#plt.ylabel('NonflavanoidPhenols')\n",
    "\n",
    "# display\n",
    "plt.show()"
   ]
  },
  {
   "cell_type": "markdown",
   "metadata": {},
   "source": [
    "## TNSE"
   ]
  },
  {
   "cell_type": "code",
   "execution_count": 69,
   "metadata": {
    "scrolled": true
   },
   "outputs": [
    {
     "data": {
      "text/plain": [
       "(936, 3000)"
      ]
     },
     "execution_count": 69,
     "metadata": {},
     "output_type": "execute_result"
    }
   ],
   "source": [
    "selected_features_train.shape"
   ]
  },
  {
   "cell_type": "code",
   "execution_count": 266,
   "metadata": {
    "scrolled": true
   },
   "outputs": [],
   "source": [
    "import numpy as np\n",
    "from sklearn.manifold import TSNE\n"
   ]
  },
  {
   "cell_type": "code",
   "execution_count": 267,
   "metadata": {
    "scrolled": true
   },
   "outputs": [
    {
     "ename": "NameError",
     "evalue": "name 'TSNEfit' is not defined",
     "output_type": "error",
     "traceback": [
      "\u001b[0;31m---------------------------------------------------------------------------\u001b[0m",
      "\u001b[0;31mNameError\u001b[0m                                 Traceback (most recent call last)",
      "\u001b[0;32m<ipython-input-267-56df98d7c12f>\u001b[0m in \u001b[0;36m<module>\u001b[0;34m\u001b[0m\n\u001b[0;32m----> 1\u001b[0;31m \u001b[0mX_embedded\u001b[0m \u001b[0;34m=\u001b[0m \u001b[0mTSNEfit\u001b[0m\u001b[0;34m(\u001b[0m\u001b[0mselected_features_train\u001b[0m\u001b[0;34m)\u001b[0m\u001b[0;34m\u001b[0m\u001b[0;34m\u001b[0m\u001b[0m\n\u001b[0m",
      "\u001b[0;31mNameError\u001b[0m: name 'TSNEfit' is not defined"
     ]
    }
   ],
   "source": [
    "X_embedded = TSNEfit(selected_features_train)"
   ]
  },
  {
   "cell_type": "code",
   "execution_count": 268,
   "metadata": {
    "scrolled": true
   },
   "outputs": [],
   "source": [
    "train_Xtnse= TSNE(n_components=3).fit_transform(selected_features_train)\n",
    "test_Xtnse= TSNE(n_components=3).fit_transform(selected_features_train)"
   ]
  },
  {
   "cell_type": "code",
   "execution_count": 269,
   "metadata": {},
   "outputs": [
    {
     "data": {
      "text/plain": [
       "array([[13.02847069,  3.26693562],\n",
       "       [ 9.95402967,  6.96755765],\n",
       "       [11.68593811,  3.03713584],\n",
       "       ...,\n",
       "       [12.71360942, -2.06084691],\n",
       "       [12.92541348, -2.9044749 ],\n",
       "       [12.09579545, -2.74242208]])"
      ]
     },
     "execution_count": 269,
     "metadata": {},
     "output_type": "execute_result"
    }
   ],
   "source": [
    "x_imp"
   ]
  },
  {
   "cell_type": "code",
   "execution_count": 270,
   "metadata": {
    "scrolled": true
   },
   "outputs": [],
   "source": [
    "selected_features_trainn=train_Xtnse\n",
    "selected_features_testn=test_Xtnse"
   ]
  },
  {
   "cell_type": "code",
   "execution_count": 273,
   "metadata": {
    "scrolled": true
   },
   "outputs": [
    {
     "data": {
      "image/png": "[encoded data removed]",
      "text/plain": [
       "<Figure size 432x288 with 1 Axes>"
      ]
     },
     "metadata": {},
     "output_type": "display_data"
    }
   ],
   "source": [
    "x_imp=selected_features_trainn[:,[0,1]]\n",
    "y_imp=y_train\n",
    "y_uniq=np.unique(y_train)\n",
    "plt.gcf().set_facecolor('white') # Or any color\n",
    "plt.scatter(x_imp[y_imp==y_uniq[0],0], x_imp[y_imp==y_uniq[0],1], label='HAP1' + np.str(y_uniq[0]), c='red')\n",
    "plt.scatter(x_imp[y_imp==y_uniq[1],0], x_imp[y_imp==y_uniq[1],1], label='HeLa'+ np.str(y_uniq[1]), c='turquoise')\n",
    "plt.scatter(x_imp[y_imp==y_uniq[2],0], x_imp[y_imp==y_uniq[2],1], label='K562'+ np.str(y_uniq[2]), c='black')\n",
    "plt.scatter(x_imp[y_imp==y_uniq[3],0], x_imp[y_imp==y_uniq[3],1], label='GM12878'+ np.str(y_uniq[3]), c='green')\n",
    "# Prettify the graphy_test\n",
    "plt.legend()\n",
    "\n",
    "# display\n",
    "plt.show()"
   ]
  },
  {
   "cell_type": "markdown",
   "metadata": {},
   "source": [
    "## LLE"
   ]
  },
  {
   "cell_type": "code",
   "execution_count": 78,
   "metadata": {
    "scrolled": true
   },
   "outputs": [
    {
     "ename": "NameError",
     "evalue": "name 'similarities2' is not defined",
     "output_type": "error",
     "traceback": [
      "\u001b[0;31m---------------------------------------------------------------------------\u001b[0m",
      "\u001b[0;31mNameError\u001b[0m                                 Traceback (most recent call last)",
      "\u001b[0;32m<ipython-input-78-fee5a3c116d2>\u001b[0m in \u001b[0;36m<module>\u001b[0;34m\u001b[0m\n\u001b[0;32m----> 1\u001b[0;31m \u001b[0msimilarities2\u001b[0m\u001b[0;34m.\u001b[0m\u001b[0mshape\u001b[0m\u001b[0;34m\u001b[0m\u001b[0;34m\u001b[0m\u001b[0m\n\u001b[0m",
      "\u001b[0;31mNameError\u001b[0m: name 'similarities2' is not defined"
     ]
    }
   ],
   "source": [
    "similarities2.shape"
   ]
  },
  {
   "cell_type": "code",
   "execution_count": 274,
   "metadata": {
    "scrolled": true
   },
   "outputs": [],
   "source": [
    "from sklearn.datasets import load_digits\n",
    "from sklearn.manifold import LocallyLinearEmbedding\n",
    "lle = LocallyLinearEmbedding(n_components=5, n_jobs = 2,  random_state=2019)\n",
    "lle.fit(selected_features_train)\n",
    "train_XLLE = lle.transform(np.arctan(selected_features_train))\n",
    "test_XLLE = lle.transform(np.arctan(selected_features_test))"
   ]
  },
  {
   "cell_type": "code",
   "execution_count": 275,
   "metadata": {
    "scrolled": true
   },
   "outputs": [],
   "source": [
    "selected_features_trainn=train_XLLE\n",
    "selected_features_testn=test_XLLE"
   ]
  },
  {
   "cell_type": "code",
   "execution_count": 276,
   "metadata": {
    "scrolled": true
   },
   "outputs": [
    {
     "data": {
      "text/plain": [
       "(936, 3000)"
      ]
     },
     "execution_count": 276,
     "metadata": {},
     "output_type": "execute_result"
    }
   ],
   "source": [
    "selected_features_train.shape"
   ]
  },
  {
   "cell_type": "code",
   "execution_count": 277,
   "metadata": {},
   "outputs": [
    {
     "data": {
      "text/plain": [
       "array([[-0.03339904,  0.02177375,  0.00620273,  0.0160612 , -0.02567431],\n",
       "       [ 0.0532495 ,  0.02853277,  0.02206747,  0.00583931,  0.03194719],\n",
       "       [-0.00600398,  0.0160133 ,  0.00415941,  0.02581911,  0.01447372],\n",
       "       ...,\n",
       "       [-0.01707736, -0.0473706 ,  0.0165153 ,  0.03844239,  0.01893132],\n",
       "       [-0.01741831, -0.03185443,  0.01693389,  0.02486149,  0.00819988],\n",
       "       [-0.01019489,  0.02602571, -0.02768237,  0.01505077, -0.02495139]])"
      ]
     },
     "execution_count": 277,
     "metadata": {},
     "output_type": "execute_result"
    }
   ],
   "source": [
    "train_XLLE"
   ]
  },
  {
   "cell_type": "code",
   "execution_count": 278,
   "metadata": {
    "scrolled": true
   },
   "outputs": [
    {
     "data": {
      "image/png": "[encoded data removed]",
      "text/plain": [
       "<Figure size 432x288 with 1 Axes>"
      ]
     },
     "metadata": {},
     "output_type": "display_data"
    }
   ],
   "source": [
    "x_imp=train_XLLE[:,[1,2]]\n",
    "y_imp=y_train\n",
    "y_uniq=np.unique(y_train)\n",
    "plt.gcf().set_facecolor('white') # Or any color\n",
    "plt.scatter(x_imp[y_imp==y_uniq[0],0], x_imp[y_imp==y_uniq[0],1], label='ES', c='red')\n",
    "plt.scatter(x_imp[y_imp==y_uniq[1],0], x_imp[y_imp==y_uniq[1],1], label='G1', c='turquoise')\n",
    "plt.scatter(x_imp[y_imp==y_uniq[2],0], x_imp[y_imp==y_uniq[2],1], label='G2', c='black')\n",
    "plt.scatter(x_imp[y_imp==y_uniq[3],0], x_imp[y_imp==y_uniq[3],1], label='MS', c='green')\n",
    "# Prettify the graphy_test\n",
    "plt.legend()\n",
    "#plt.xlabel('Dimension')\n",
    "#plt.ylabel('NonflavanoidPhenols')\n",
    "\n",
    "# display\n",
    "plt.show()"
   ]
  },
  {
   "cell_type": "markdown",
   "metadata": {},
   "source": [
    "## CUR"
   ]
  },
  {
   "cell_type": "code",
   "execution_count": 86,
   "metadata": {
    "scrolled": true
   },
   "outputs": [
    {
     "data": {
      "text/plain": [
       "(936, 3000)"
      ]
     },
     "execution_count": 86,
     "metadata": {},
     "output_type": "execute_result"
    }
   ],
   "source": [
    "selected_features_train.shape"
   ]
  },
  {
   "cell_type": "code",
   "execution_count": 87,
   "metadata": {
    "scrolled": true
   },
   "outputs": [
    {
     "ename": "NameError",
     "evalue": "name 'similarities2' is not defined",
     "output_type": "error",
     "traceback": [
      "\u001b[0;31m---------------------------------------------------------------------------\u001b[0m",
      "\u001b[0;31mNameError\u001b[0m                                 Traceback (most recent call last)",
      "\u001b[0;32m<ipython-input-87-ab91cce2231f>\u001b[0m in \u001b[0;36m<module>\u001b[0;34m\u001b[0m\n\u001b[1;32m      1\u001b[0m \u001b[0;32mfrom\u001b[0m \u001b[0mristretto\u001b[0m\u001b[0;34m.\u001b[0m\u001b[0mcur\u001b[0m \u001b[0;32mimport\u001b[0m \u001b[0mcompute_rcur\u001b[0m\u001b[0;34m\u001b[0m\u001b[0;34m\u001b[0m\u001b[0m\n\u001b[0;32m----> 2\u001b[0;31m \u001b[0mA\u001b[0m\u001b[0;34m,\u001b[0m\u001b[0mb\u001b[0m\u001b[0;34m,\u001b[0m\u001b[0mc\u001b[0m\u001b[0;34m=\u001b[0m\u001b[0mcompute_rcur\u001b[0m\u001b[0;34m(\u001b[0m\u001b[0msimilarities2\u001b[0m\u001b[0;34m,\u001b[0m\u001b[0;36m2\u001b[0m\u001b[0;34m)\u001b[0m\u001b[0;34m\u001b[0m\u001b[0;34m\u001b[0m\u001b[0m\n\u001b[0m\u001b[1;32m      3\u001b[0m \u001b[0mAA\u001b[0m\u001b[0;34m,\u001b[0m\u001b[0mbb\u001b[0m\u001b[0;34m,\u001b[0m\u001b[0mcc\u001b[0m\u001b[0;34m=\u001b[0m\u001b[0mcompute_rcur\u001b[0m\u001b[0;34m(\u001b[0m\u001b[0msimilarities2\u001b[0m\u001b[0;34m,\u001b[0m\u001b[0;36m2\u001b[0m\u001b[0;34m)\u001b[0m\u001b[0;34m\u001b[0m\u001b[0;34m\u001b[0m\u001b[0m\n",
      "\u001b[0;31mNameError\u001b[0m: name 'similarities2' is not defined"
     ]
    }
   ],
   "source": [
    "from ristretto.cur import compute_rcur\n",
    "A,b,c=compute_rcur(similarities2,2)\n",
    "AA,bb,cc=compute_rcur(similarities2,2)"
   ]
  },
  {
   "cell_type": "code",
   "execution_count": null,
   "metadata": {
    "scrolled": true
   },
   "outputs": [],
   "source": [
    "selected_features_trainn=A\n",
    "selected_features_testn=AA"
   ]
  },
  {
   "cell_type": "code",
   "execution_count": 88,
   "metadata": {
    "scrolled": true
   },
   "outputs": [
    {
     "data": {
      "image/png": "[encoded data removed]",
      "text/plain": [
       "<Figure size 432x288 with 1 Axes>"
      ]
     },
     "metadata": {},
     "output_type": "display_data"
    }
   ],
   "source": [
    "x_imp=selected_features_trainn\n",
    "y_imp=y_train\n",
    "y_uniq=np.unique(y_train)\n",
    "plt.gcf().set_facecolor('white') # Or any color\n",
    "plt.scatter(x_imp[y_imp==y_uniq[0],0], x_imp[y_imp==y_uniq[0],1], label='ES', c='red')\n",
    "plt.scatter(x_imp[y_imp==y_uniq[1],0], x_imp[y_imp==y_uniq[1],1], label='G1', c='turquoise')\n",
    "plt.scatter(x_imp[y_imp==y_uniq[2],0], x_imp[y_imp==y_uniq[2],1], label='G2', c='black')\n",
    "plt.scatter(x_imp[y_imp==y_uniq[3],0], x_imp[y_imp==y_uniq[3],1], label='MS', c='green')\n",
    "# Prettify the graphy_test\n",
    "plt.legend()\n",
    "#plt.xlabel('Dimension')\n",
    "#plt.ylabel('NonflavanoidPhenols')\n",
    "\n",
    "# display\n",
    "plt.show()"
   ]
  },
  {
   "cell_type": "markdown",
   "metadata": {},
   "source": [
    "## Independent Composent Analysis [ICA]"
   ]
  },
  {
   "cell_type": "code",
   "execution_count": 89,
   "metadata": {
    "scrolled": true
   },
   "outputs": [
    {
     "data": {
      "text/plain": [
       "(936, 3000)"
      ]
     },
     "execution_count": 89,
     "metadata": {},
     "output_type": "execute_result"
    }
   ],
   "source": [
    "selected_features_train.shape"
   ]
  },
  {
   "cell_type": "code",
   "execution_count": 279,
   "metadata": {},
   "outputs": [],
   "source": [
    "#A1\n",
    "from scipy.spatial.distance import squareform\n",
    "#similarities2=res\n",
    "#similarities2 = euclidean_distances(selected_features_train)\n",
    "#similarities2=np.log(similarities2+2)\n",
    "#a=np.log(selected_features_train)\n",
    "#np.where(np.isnan(a))\n",
    "similarities2 = cosine_distances(np.arctan(selected_features_train))\n",
    "#similarities2 = squareform(pdist(selected_features_train),'cityblock')\n",
    "#similarities2_test = squareform(pdist(selected_features_test,'euclidean'))\n",
    "#yule\n",
    "#‘braycurtis’, ‘canberra’, ‘chebyshev’, ‘cityblock’, ‘correlation’, ‘cosine’, ‘dice’, ‘euclidean’, ‘hamming’, ‘jaccard’, ‘jensenshannon’, ‘kulsinski’, ‘mahalanobis’, ‘matching’, ‘minkowski’, ‘rogerstanimoto’, ‘russellrao’, ‘seuclidean’, ‘sokalmichener’, ‘sokalsneath’, ‘sqeuclidean’, ‘wminkowski’, ‘yule’.\n",
    "#best:correlation,"
   ]
  },
  {
   "cell_type": "code",
   "execution_count": 280,
   "metadata": {
    "scrolled": true
   },
   "outputs": [],
   "source": [
    "from sklearn.decomposition import FastICA\n",
    "FastICA = FastICA(n_components=3, algorithm = 'deflation',whiten = True,max_iter = 1000,  random_state=2019)\n",
    "train_XFICA = FastICA.fit_transform(similarities2)\n",
    "train_XLLE_reconst = FastICA.inverse_transform(train_XFICA)\n",
    "test_XFICA = FastICA.fit_transform(similarities2)"
   ]
  },
  {
   "cell_type": "code",
   "execution_count": 281,
   "metadata": {
    "scrolled": true
   },
   "outputs": [],
   "source": [
    "selected_features_trainn=train_XFICA\n",
    "selected_features_testn=test_XFICA"
   ]
  },
  {
   "cell_type": "code",
   "execution_count": 283,
   "metadata": {
    "scrolled": true
   },
   "outputs": [
    {
     "data": {
      "image/png": "[encoded data removed]",
      "text/plain": [
       "<Figure size 432x288 with 1 Axes>"
      ]
     },
     "metadata": {},
     "output_type": "display_data"
    }
   ],
   "source": [
    "x_imp=selected_features_trainn[:,[1,0]]\n",
    "y_imp=y_train\n",
    "y_uniq=np.unique(y_train)\n",
    "dotcolors=(0.2, 0.4, 0.6, 0.3) \n",
    "plt.gcf().set_facecolor('white') # Or any color\n",
    "plt.scatter(x_imp[y_imp==y_uniq[0],0], x_imp[y_imp==y_uniq[0],1], label='ES', c='red')\n",
    "plt.scatter(x_imp[y_imp==y_uniq[1],0], x_imp[y_imp==y_uniq[1],1], label='G1', c='turquoise')\n",
    "plt.scatter(x_imp[y_imp==y_uniq[2],0], x_imp[y_imp==y_uniq[2],1], label='G2', c='black')\n",
    "plt.scatter(x_imp[y_imp==y_uniq[3],0], x_imp[y_imp==y_uniq[3],1], label='MS', c='green')\n",
    "# Prettify the graphy_test\n",
    "plt.legend()\n",
    "plt.xlabel('Flavanoids')\n",
    "plt.ylabel('NonflavanoidPhenols')\n",
    "\n",
    "# display\n",
    "plt.show()"
   ]
  },
  {
   "cell_type": "markdown",
   "metadata": {},
   "source": [
    "## Isomap"
   ]
  },
  {
   "cell_type": "code",
   "execution_count": 284,
   "metadata": {
    "scrolled": true
   },
   "outputs": [
    {
     "data": {
      "text/plain": [
       "(936, 3000)"
      ]
     },
     "execution_count": 284,
     "metadata": {},
     "output_type": "execute_result"
    }
   ],
   "source": [
    "selected_features_train.shape"
   ]
  },
  {
   "cell_type": "code",
   "execution_count": 293,
   "metadata": {
    "scrolled": true
   },
   "outputs": [
    {
     "data": {
      "text/plain": [
       "<bound method Isomap.fit_transform of Isomap(eigen_solver='auto', max_iter=None, n_components=3, n_jobs=90,\n",
       "    n_neighbors=30, neighbors_algorithm='auto', path_method='auto', tol=0)>"
      ]
     },
     "execution_count": 293,
     "metadata": {},
     "output_type": "execute_result"
    }
   ],
   "source": [
    "from sklearn.manifold import Isomap\n",
    "isomap = Isomap(n_components=3,eigen_solver='auto',neighbors_algorithm='auto', n_jobs = 90, n_neighbors =30)\n",
    "isomap.fit(similarities2)\n",
    "X_isomap = isomap.transform(similarities2)\n",
    "isomap.fit_transform"
   ]
  },
  {
   "cell_type": "code",
   "execution_count": 297,
   "metadata": {
    "scrolled": true
   },
   "outputs": [
    {
     "data": {
      "image/png": "[encoded data removed]",
      "text/plain": [
       "<Figure size 432x288 with 1 Axes>"
      ]
     },
     "metadata": {},
     "output_type": "display_data"
    }
   ],
   "source": [
    "x_imp=X_isomap[:,[0,1]]\n",
    "y_imp=y_train\n",
    "y_uniq=np.unique(y_train)\n",
    "plt.gcf().set_facecolor('white') # Or any color\n",
    "plt.scatter(x_imp[y_imp==y_uniq[0],0], x_imp[y_imp==y_uniq[0],1], label='ES', c='red')\n",
    "plt.scatter(x_imp[y_imp==y_uniq[1],0], x_imp[y_imp==y_uniq[1],1], label='G1', c='turquoise')\n",
    "plt.scatter(x_imp[y_imp==y_uniq[2],0], x_imp[y_imp==y_uniq[2],1], label='G2', c='black')\n",
    "plt.scatter(x_imp[y_imp==y_uniq[3],0], x_imp[y_imp==y_uniq[3],1], label='MS', c='green')\n",
    "# Prettify the graphy_test\n",
    "plt.legend()\n",
    "#plt.xlabel('Dimension')\n",
    "#plt.ylabel('NonflavanoidPhenols')\n",
    "\n",
    "# display\n",
    "plt.show()"
   ]
  },
  {
   "cell_type": "code",
   "execution_count": 140,
   "metadata": {
    "scrolled": true
   },
   "outputs": [],
   "source": [
    "selected_features_trainn=X_isomap\n",
    "selected_features_testn=isomap.fit_transform(selected_features_test)\n"
   ]
  },
  {
   "cell_type": "code",
   "execution_count": 140,
   "metadata": {},
   "outputs": [
    {
     "data": {
      "text/plain": [
       "(1081, 6086)"
      ]
     },
     "execution_count": 140,
     "metadata": {},
     "output_type": "execute_result"
    }
   ],
   "source": [
    "X_train.shape"
   ]
  },
  {
   "cell_type": "markdown",
   "metadata": {},
   "source": [
    "## Autoencoders"
   ]
  },
  {
   "cell_type": "code",
   "execution_count": 199,
   "metadata": {
    "scrolled": false
   },
   "outputs": [
    {
     "name": "stderr",
     "output_type": "stream",
     "text": [
      "Using TensorFlow backend.\n"
     ]
    },
    {
     "name": "stdout",
     "output_type": "stream",
     "text": [
      "WARNING:tensorflow:From /home/amirreza/anaconda3/envs/IMD/lib/python3.6/site-packages/tensorflow/python/framework/op_def_library.py:263: colocate_with (from tensorflow.python.framework.ops) is deprecated and will be removed in a future version.\n",
      "Instructions for updating:\n",
      "Colocations handled automatically by placer.\n"
     ]
    },
    {
     "ename": "ValueError",
     "evalue": "Error when checking input: expected dense_1_input to have shape (1081,) but got array with shape (936,)",
     "output_type": "error",
     "traceback": [
      "\u001b[0;31m---------------------------------------------------------------------------\u001b[0m",
      "\u001b[0;31mValueError\u001b[0m                                Traceback (most recent call last)",
      "\u001b[0;32m<ipython-input-199-f1ba923d7c92>\u001b[0m in \u001b[0;36m<module>\u001b[0;34m\u001b[0m\n\u001b[1;32m     15\u001b[0m \u001b[0mm\u001b[0m\u001b[0;34m.\u001b[0m\u001b[0madd\u001b[0m\u001b[0;34m(\u001b[0m\u001b[0mDense\u001b[0m\u001b[0;34m(\u001b[0m\u001b[0;36m1053\u001b[0m\u001b[0;34m,\u001b[0m  \u001b[0mactivation\u001b[0m\u001b[0;34m=\u001b[0m\u001b[0;34m'sigmoid'\u001b[0m\u001b[0;34m)\u001b[0m\u001b[0;34m)\u001b[0m\u001b[0;34m\u001b[0m\u001b[0;34m\u001b[0m\u001b[0m\n\u001b[1;32m     16\u001b[0m \u001b[0mm\u001b[0m\u001b[0;34m.\u001b[0m\u001b[0mcompile\u001b[0m\u001b[0;34m(\u001b[0m\u001b[0mloss\u001b[0m\u001b[0;34m=\u001b[0m\u001b[0;34m'mean_absolute_error'\u001b[0m\u001b[0;34m,\u001b[0m \u001b[0moptimizer\u001b[0m \u001b[0;34m=\u001b[0m \u001b[0;34m'adam'\u001b[0m\u001b[0;34m,\u001b[0m\u001b[0;34m)\u001b[0m\u001b[0;34m\u001b[0m\u001b[0;34m\u001b[0m\u001b[0m\n\u001b[0;32m---> 17\u001b[0;31m \u001b[0mhistory\u001b[0m \u001b[0;34m=\u001b[0m \u001b[0mm\u001b[0m\u001b[0;34m.\u001b[0m\u001b[0mfit\u001b[0m\u001b[0;34m(\u001b[0m\u001b[0msimilarities2\u001b[0m\u001b[0;34m,\u001b[0m \u001b[0msimilarities2\u001b[0m\u001b[0;34m,\u001b[0m \u001b[0mbatch_size\u001b[0m\u001b[0;34m=\u001b[0m\u001b[0;36m200\u001b[0m\u001b[0;34m,\u001b[0m\u001b[0mepochs\u001b[0m\u001b[0;34m=\u001b[0m\u001b[0;36m60\u001b[0m\u001b[0;34m,\u001b[0m \u001b[0mverbose\u001b[0m\u001b[0;34m=\u001b[0m\u001b[0;36m1\u001b[0m\u001b[0;34m)\u001b[0m\u001b[0;34m\u001b[0m\u001b[0;34m\u001b[0m\u001b[0m\n\u001b[0m\u001b[1;32m     18\u001b[0m \u001b[0;34m\u001b[0m\u001b[0m\n\u001b[1;32m     19\u001b[0m \u001b[0mencoder\u001b[0m \u001b[0;34m=\u001b[0m \u001b[0mModel\u001b[0m\u001b[0;34m(\u001b[0m\u001b[0mm\u001b[0m\u001b[0;34m.\u001b[0m\u001b[0minput\u001b[0m\u001b[0;34m,\u001b[0m \u001b[0mm\u001b[0m\u001b[0;34m.\u001b[0m\u001b[0mget_layer\u001b[0m\u001b[0;34m(\u001b[0m\u001b[0;34m'bottleneck'\u001b[0m\u001b[0;34m)\u001b[0m\u001b[0;34m.\u001b[0m\u001b[0moutput\u001b[0m\u001b[0;34m)\u001b[0m\u001b[0;34m\u001b[0m\u001b[0;34m\u001b[0m\u001b[0m\n",
      "\u001b[0;32m~/anaconda3/envs/IMD/lib/python3.6/site-packages/keras/engine/training.py\u001b[0m in \u001b[0;36mfit\u001b[0;34m(self, x, y, batch_size, epochs, verbose, callbacks, validation_split, validation_data, shuffle, class_weight, sample_weight, initial_epoch, steps_per_epoch, validation_steps, **kwargs)\u001b[0m\n\u001b[1;32m    950\u001b[0m             \u001b[0msample_weight\u001b[0m\u001b[0;34m=\u001b[0m\u001b[0msample_weight\u001b[0m\u001b[0;34m,\u001b[0m\u001b[0;34m\u001b[0m\u001b[0;34m\u001b[0m\u001b[0m\n\u001b[1;32m    951\u001b[0m             \u001b[0mclass_weight\u001b[0m\u001b[0;34m=\u001b[0m\u001b[0mclass_weight\u001b[0m\u001b[0;34m,\u001b[0m\u001b[0;34m\u001b[0m\u001b[0;34m\u001b[0m\u001b[0m\n\u001b[0;32m--> 952\u001b[0;31m             batch_size=batch_size)\n\u001b[0m\u001b[1;32m    953\u001b[0m         \u001b[0;31m# Prepare validation data.\u001b[0m\u001b[0;34m\u001b[0m\u001b[0;34m\u001b[0m\u001b[0;34m\u001b[0m\u001b[0m\n\u001b[1;32m    954\u001b[0m         \u001b[0mdo_validation\u001b[0m \u001b[0;34m=\u001b[0m \u001b[0;32mFalse\u001b[0m\u001b[0;34m\u001b[0m\u001b[0;34m\u001b[0m\u001b[0m\n",
      "\u001b[0;32m~/anaconda3/envs/IMD/lib/python3.6/site-packages/keras/engine/training.py\u001b[0m in \u001b[0;36m_standardize_user_data\u001b[0;34m(self, x, y, sample_weight, class_weight, check_array_lengths, batch_size)\u001b[0m\n\u001b[1;32m    749\u001b[0m             \u001b[0mfeed_input_shapes\u001b[0m\u001b[0;34m,\u001b[0m\u001b[0;34m\u001b[0m\u001b[0;34m\u001b[0m\u001b[0m\n\u001b[1;32m    750\u001b[0m             \u001b[0mcheck_batch_axis\u001b[0m\u001b[0;34m=\u001b[0m\u001b[0;32mFalse\u001b[0m\u001b[0;34m,\u001b[0m  \u001b[0;31m# Don't enforce the batch size.\u001b[0m\u001b[0;34m\u001b[0m\u001b[0;34m\u001b[0m\u001b[0m\n\u001b[0;32m--> 751\u001b[0;31m             exception_prefix='input')\n\u001b[0m\u001b[1;32m    752\u001b[0m \u001b[0;34m\u001b[0m\u001b[0m\n\u001b[1;32m    753\u001b[0m         \u001b[0;32mif\u001b[0m \u001b[0my\u001b[0m \u001b[0;32mis\u001b[0m \u001b[0;32mnot\u001b[0m \u001b[0;32mNone\u001b[0m\u001b[0;34m:\u001b[0m\u001b[0;34m\u001b[0m\u001b[0;34m\u001b[0m\u001b[0m\n",
      "\u001b[0;32m~/anaconda3/envs/IMD/lib/python3.6/site-packages/keras/engine/training_utils.py\u001b[0m in \u001b[0;36mstandardize_input_data\u001b[0;34m(data, names, shapes, check_batch_axis, exception_prefix)\u001b[0m\n\u001b[1;32m    136\u001b[0m                             \u001b[0;34m': expected '\u001b[0m \u001b[0;34m+\u001b[0m \u001b[0mnames\u001b[0m\u001b[0;34m[\u001b[0m\u001b[0mi\u001b[0m\u001b[0;34m]\u001b[0m \u001b[0;34m+\u001b[0m \u001b[0;34m' to have shape '\u001b[0m \u001b[0;34m+\u001b[0m\u001b[0;34m\u001b[0m\u001b[0;34m\u001b[0m\u001b[0m\n\u001b[1;32m    137\u001b[0m                             \u001b[0mstr\u001b[0m\u001b[0;34m(\u001b[0m\u001b[0mshape\u001b[0m\u001b[0;34m)\u001b[0m \u001b[0;34m+\u001b[0m \u001b[0;34m' but got array with shape '\u001b[0m \u001b[0;34m+\u001b[0m\u001b[0;34m\u001b[0m\u001b[0;34m\u001b[0m\u001b[0m\n\u001b[0;32m--> 138\u001b[0;31m                             str(data_shape))\n\u001b[0m\u001b[1;32m    139\u001b[0m     \u001b[0;32mreturn\u001b[0m \u001b[0mdata\u001b[0m\u001b[0;34m\u001b[0m\u001b[0;34m\u001b[0m\u001b[0m\n\u001b[1;32m    140\u001b[0m \u001b[0;34m\u001b[0m\u001b[0m\n",
      "\u001b[0;31mValueError\u001b[0m: Error when checking input: expected dense_1_input to have shape (1081,) but got array with shape (936,)"
     ]
    }
   ],
   "source": [
    "import tensorflow as tf\n",
    "from tensorflow import keras\n",
    "from keras.models import Sequential\n",
    "from keras.models import Sequential, Model\n",
    "from keras.layers import Dense, Activation\n",
    "m = Sequential()\n",
    "#tanh,linear,relu,sigmoid,elu\n",
    "m.add(Dense(1053,  activation='relu', input_shape=(1081,)))\n",
    "m.add(Dense(1000,  activation='tanh'))\n",
    "m.add(Dense(128,  activation='elu'))\n",
    "m.add(Dense(2,    activation='linear', name=\"bottleneck\"))\n",
    "m.add(Dense(128,  activation='relu'))\n",
    "m.add(Dense(512,  activation='relu'))\n",
    "m.add(Dense(1000,  activation='tanh'))\n",
    "m.add(Dense(1053,  activation='sigmoid'))\n",
    "m.compile(loss='mean_absolute_error', optimizer = 'adam',)\n",
    "history = m.fit(similarities2, similarities2, batch_size=200,epochs=60, verbose=1)\n",
    "\n",
    "encoder = Model(m.input, m.get_layer('bottleneck').output)\n",
    "Zenc = encoder.predict(similarities2)\n",
    "Renc = m.predict(similarities2)"
   ]
  },
  {
   "cell_type": "code",
   "execution_count": null,
   "metadata": {
    "scrolled": true
   },
   "outputs": [],
   "source": [
    "x_imp=Zenc\n",
    "y_imp=y_train\n",
    "y_uniq=np.unique(y_train)\n",
    "plt.scatter(x_imp[y_imp==y_uniq[0],0], x_imp[y_imp==y_uniq[0],1], label='Class 1', c='red')\n",
    "plt.scatter(x_imp[y_imp==y_uniq[1],0], x_imp[y_imp==y_uniq[1],1], label='Class 2', c='lightblue')\n",
    "plt.scatter(x_imp[y_imp==y_uniq[2],0], x_imp[y_imp==y_uniq[2],1], label='Class 3', c='lightgreen')\n",
    "plt.scatter(x_imp[y_imp==y_uniq[3],0], x_imp[y_imp==y_uniq[3],1], label='Class 4', c='green')\n",
    "# Prettify the graphy_test\n",
    "plt.legend()\n",
    "plt.xlabel('Flavanoids')\n",
    "plt.ylabel('NonflavanoidPhenols')\n",
    "\n",
    "# display\n",
    "plt.show()"
   ]
  },
  {
   "cell_type": "code",
   "execution_count": null,
   "metadata": {
    "scrolled": true
   },
   "outputs": [],
   "source": [
    "selected_features_trainn=Zenc\n",
    "#selected_features_test=encoder.evaluate(selected_features_test)"
   ]
  },
  {
   "cell_type": "code",
   "execution_count": null,
   "metadata": {
    "scrolled": true
   },
   "outputs": [],
   "source": [
    "selected_features_testn=encoder.predict(selected_features_test)"
   ]
  },
  {
   "cell_type": "code",
   "execution_count": null,
   "metadata": {
    "scrolled": true
   },
   "outputs": [],
   "source": [
    "selected_features_train.shape"
   ]
  },
  {
   "cell_type": "markdown",
   "metadata": {},
   "source": [
    "# AutoEncoder"
   ]
  },
  {
   "cell_type": "code",
   "execution_count": null,
   "metadata": {
    "scrolled": true
   },
   "outputs": [],
   "source": [
    "import os\n",
    "import numpy as np # linear algebra\n",
    "import pandas as pd # data processing, CSV file I/O (e.g. pd.read_csv)\n",
    "\n",
    "from numpy.random import seed\n",
    "from sklearn.preprocessing import minmax_scale\n",
    "from sklearn.model_selection import train_test_split\n",
    "from keras.layers import Input, Dense\n",
    "from keras.models import Model\n",
    "#tanh,linear,relu,sigmoid,elu\n",
    "\n",
    "encoding_dim = 2\n",
    "ncol=3831\n",
    "input_dim = Input(shape = (ncol, ))\n",
    "\n",
    "# Encoder Layers\n",
    "encoded1 = Dense(3831, activation = 'relu')(input_dim)\n",
    "encoded2 = Dense(3000, activation = 'tanh')(encoded1)\n",
    "encoded2 = Dense(2000, activation = 'elu')(encoded1)\n",
    "encoded9 = Dense(1000, activation = 'elu')(encoded2)\n",
    "encoded10 = Dense(750, activation = 'tanh')(encoded9)\n",
    "encoded11 = Dense(500, activation = 'elu')(encoded10)\n",
    "encoded12 = Dense(250, activation = 'elu')(encoded11)\n",
    "encoded13 = Dense(encoding_dim, activation = 'linear')(encoded12)\n",
    "\n",
    "# Decoder Layers\n",
    "decoded1 = Dense(250, activation = 'elu')(encoded13)\n",
    "decoded2 = Dense(500, activation = 'elu')(decoded1)\n",
    "decoded3 = Dense(750, activation = 'tanh')(decoded2)\n",
    "decoded4 = Dense(1000, activation = 'elu')(decoded3)\n",
    "decoded11 = Dense(2000, activation = 'elu')(decoded4)\n",
    "encoded2 = Dense(3000, activation = 'tanh')(encoded1)\n",
    "decoded12 = Dense(3831, activation = 'relu')(decoded11)\n",
    "decoded13 = Dense(ncol, activation = 'sigmoid')(decoded12)\n",
    "\n",
    "# Combine Encoder and Deocder layers\n",
    "autoencoder = Model(inputs = input_dim, outputs = decoded13)\n",
    "\n",
    "# Compile the Model\n",
    "autoencoder.compile(optimizer = 'adam', loss = 'mean_squared_error')\n",
    "autoencoder.summary()\n",
    "autoencoder.fit(selected_features_train, selected_features_train, nb_epoch = 10, batch_size = 200, shuffle = False, validation_data = (selected_features_test, selected_features_test))"
   ]
  },
  {
   "cell_type": "code",
   "execution_count": null,
   "metadata": {
    "scrolled": true
   },
   "outputs": [],
   "source": [
    "encoder = Model(inputs = input_dim, outputs = encoded13)\n",
    "encoded_input = Input(shape = (encoding_dim, ))"
   ]
  },
  {
   "cell_type": "code",
   "execution_count": null,
   "metadata": {
    "scrolled": true
   },
   "outputs": [],
   "source": [
    "selected_features_train.shape"
   ]
  },
  {
   "cell_type": "code",
   "execution_count": null,
   "metadata": {
    "scrolled": true
   },
   "outputs": [],
   "source": [
    "train_scaled = minmax_scale(selected_features_train, axis = 0)\n",
    "test_scaled = minmax_scale(selected_features_test, axis = 0)"
   ]
  },
  {
   "cell_type": "code",
   "execution_count": null,
   "metadata": {
    "scrolled": true
   },
   "outputs": [],
   "source": [
    "encoded_train = pd.DataFrame(encoder.predict(selected_features_train))\n",
    "encoded_train = encoded_train.add_prefix('feature_')\n",
    "\n",
    "encoded_test = pd.DataFrame(encoder.predict(selected_features_test))\n",
    "encoded_test = encoded_test.add_prefix('feature_')"
   ]
  },
  {
   "cell_type": "code",
   "execution_count": null,
   "metadata": {
    "scrolled": false
   },
   "outputs": [],
   "source": [
    "encoded_test"
   ]
  },
  {
   "cell_type": "code",
   "execution_count": null,
   "metadata": {
    "scrolled": true
   },
   "outputs": [],
   "source": [
    "x_imp=np.array(encoded_train)\n",
    "y_imp=y_train\n",
    "y_uniq=np.unique(y_train)\n",
    "plt.scatter(x_imp[y_imp==y_uniq[0],0], x_imp[y_imp==y_uniq[0],1], label='Class 1', c='red')\n",
    "plt.scatter(x_imp[y_imp==y_uniq[1],0], x_imp[y_imp==y_uniq[1],1], label='Class 2', c='lightblue')\n",
    "plt.scatter(x_imp[y_imp==y_uniq[2],0], x_imp[y_imp==y_uniq[2],1], label='Class 3', c='lightgreen')\n",
    "plt.scatter(x_imp[y_imp==y_uniq[3],0], x_imp[y_imp==y_uniq[3],1], label='Class 4', c='green')\n",
    "# Prettify the graphy_test\n",
    "plt.legend()\n",
    "plt.xlabel('Flavanoids')\n",
    "plt.ylabel('NonflavanoidPhenols')\n",
    "\n",
    "# display\n",
    "plt.show()\n"
   ]
  },
  {
   "cell_type": "code",
   "execution_count": null,
   "metadata": {
    "scrolled": true
   },
   "outputs": [],
   "source": [
    "y_test"
   ]
  },
  {
   "cell_type": "code",
   "execution_count": null,
   "metadata": {},
   "outputs": [],
   "source": [
    "y_predict"
   ]
  },
  {
   "cell_type": "markdown",
   "metadata": {},
   "source": [
    "#    Classification"
   ]
  },
  {
   "cell_type": "code",
   "execution_count": null,
   "metadata": {
    "scrolled": true
   },
   "outputs": [],
   "source": [
    "selected_features_train=pos\n",
    "selected_features_test=pos_test"
   ]
  },
  {
   "cell_type": "code",
   "execution_count": null,
   "metadata": {
    "scrolled": true
   },
   "outputs": [],
   "source": [
    "selected_features_train=selected_features_trainn\n",
    "selected_features_test=selected_features_testn"
   ]
  },
  {
   "cell_type": "code",
   "execution_count": 61,
   "metadata": {
    "scrolled": true
   },
   "outputs": [
    {
     "data": {
      "text/plain": [
       "(4023, 3000)"
      ]
     },
     "execution_count": 61,
     "metadata": {},
     "output_type": "execute_result"
    }
   ],
   "source": [
    "selected_features_train.shape"
   ]
  },
  {
   "cell_type": "code",
   "execution_count": 218,
   "metadata": {
    "scrolled": true
   },
   "outputs": [
    {
     "data": {
      "text/plain": [
       "0.7914893617021277"
      ]
     },
     "execution_count": 218,
     "metadata": {},
     "output_type": "execute_result"
    }
   ],
   "source": [
    "from sklearn.metrics import accuracy_score\n",
    "from sklearn.svm import SVC\n",
    "clf = SVC(probability=True)\n",
    "clf.fit(selected_features_train,y_train)\n",
    "y_predict = clf.predict(selected_features_test)\n",
    "y_score=clf.predict_proba(selected_features_test)\n",
    "acc = accuracy_score(y_test, y_predict)\n",
    "acc"
   ]
  },
  {
   "cell_type": "code",
   "execution_count": 63,
   "metadata": {
    "scrolled": true
   },
   "outputs": [
    {
     "name": "stderr",
     "output_type": "stream",
     "text": [
      "/home/amirreza/anaconda3/envs/IMD/lib/python3.6/site-packages/sklearn/model_selection/_split.py:2053: FutureWarning: You should specify a value for 'cv' instead of relying on the default value. The default value will change from 3 to 5 in version 0.22.\n",
      "  warnings.warn(CV_WARNING, FutureWarning)\n"
     ]
    },
    {
     "data": {
      "text/plain": [
       "0.882703777335984"
      ]
     },
     "execution_count": 63,
     "metadata": {},
     "output_type": "execute_result"
    }
   ],
   "source": [
    "from sklearn import svm\n",
    "from sklearn.calibration import CalibratedClassifierCV\n",
    "\n",
    "clf = svm.LinearSVC()\n",
    "clf = CalibratedClassifierCV(clf) \n",
    "clf.fit(selected_features_train, y_train)\n",
    "y_score = clf.predict_proba(selected_features_test)\n",
    "y_predict = clf.predict(selected_features_test)\n",
    "acc = accuracy_score(y_test, y_predict)\n",
    "acc"
   ]
  },
  {
   "cell_type": "code",
   "execution_count": 21,
   "metadata": {
    "scrolled": true
   },
   "outputs": [
    {
     "data": {
      "text/plain": [
       "0.5507157741321888"
      ]
     },
     "execution_count": 21,
     "metadata": {},
     "output_type": "execute_result"
    }
   ],
   "source": [
    "from sklearn.metrics.cluster import adjusted_rand_score\n",
    "adjusted_rand_score(y_test,y_predict)"
   ]
  },
  {
   "cell_type": "code",
   "execution_count": 65,
   "metadata": {
    "scrolled": true
   },
   "outputs": [
    {
     "data": {
      "text/plain": [
       "0.6988071570576541"
      ]
     },
     "execution_count": 65,
     "metadata": {},
     "output_type": "execute_result"
    }
   ],
   "source": [
    "#RandomForestClassifier\n",
    "from sklearn.metrics import accuracy_score\n",
    "\n",
    "\n",
    "from sklearn.ensemble import (RandomForestClassifier, ExtraTreesClassifier,\n",
    "AdaBoostClassifier)\n",
    "clf = RandomForestClassifier(n_estimators=100)\n",
    "a=clf.fit(selected_features_train,y_train)\n",
    "y_score=a.predict_proba(selected_features_test)\n",
    "y_predict = clf.predict(selected_features_test)\n",
    "acc = accuracy_score(y_test, y_predict)\n",
    "acc"
   ]
  },
  {
   "cell_type": "code",
   "execution_count": null,
   "metadata": {
    "scrolled": true
   },
   "outputs": [],
   "source": [
    "selected_features_test.shape"
   ]
  },
  {
   "cell_type": "code",
   "execution_count": null,
   "metadata": {
    "scrolled": true
   },
   "outputs": [],
   "source": [
    "from sklearn.naive_bayes import ComplementNB\n",
    "clf = ComplementNB()\n",
    "clf.fit(selected_features_train,y_train)\n",
    "y_predict = clf.predict(selected_features_test)\n",
    "y_score=a.predict_proba(selected_features_test)\n",
    "acc = accuracy_score(y_test, y_predict)\n",
    "acc"
   ]
  },
  {
   "cell_type": "code",
   "execution_count": null,
   "metadata": {
    "scrolled": true
   },
   "outputs": [],
   "source": [
    "#KNN\n",
    "from sklearn.neighbors import KNeighborsClassifier\n",
    "neigh = KNeighborsClassifier(n_neighbors=300)\n",
    "neigh.fit(selected_features_train,y_train)\n",
    "y_predict = neigh.predict(selected_features_test)\n",
    "y_score=neigh.predict_proba(selected_features_test)\n",
    "acc = accuracy_score(y_test, y_predict)\n",
    "acc"
   ]
  },
  {
   "cell_type": "code",
   "execution_count": null,
   "metadata": {
    "scrolled": true
   },
   "outputs": [],
   "source": [
    "from sklearn.neighbors import RadiusNeighborsClassifier\n",
    "neigh = RadiusNeighborsClassifier(radius=100)\n",
    "neigh.fit(selected_features_train,y_train)\n",
    "y_predict = neigh.predict(selected_features_test)\n",
    "acc = accuracy_score(y_test, y_predict)\n",
    "acc"
   ]
  },
  {
   "cell_type": "code",
   "execution_count": null,
   "metadata": {
    "scrolled": true
   },
   "outputs": [],
   "source": [
    "from sklearn.tree import DecisionTreeClassifier\n",
    "from sklearn.ensemble import (RandomForestClassifier, ExtraTreesClassifier,\n",
    "AdaBoostClassifier)\n",
    "clf = AdaBoostClassifier(n_estimators=60)\n",
    "clf.fit(selected_features_train,y_train)\n",
    "y_predict = clf.predict(selected_features_test)\n",
    "acc = accuracy_score(y_test, y_predict)\n",
    "acc"
   ]
  },
  {
   "cell_type": "markdown",
   "metadata": {},
   "source": [
    "# Ensemble Classification"
   ]
  },
  {
   "cell_type": "code",
   "execution_count": null,
   "metadata": {},
   "outputs": [],
   "source": [
    "import numpy as np\n",
    "import matplotlib.pyplot as plt\n",
    "from matplotlib.colors import ListedColormap\n",
    "from sklearn.model_selection import train_test_split\n",
    "from sklearn.preprocessing import StandardScaler\n",
    "from sklearn.datasets import make_moons, make_circles, make_classification\n",
    "from sklearn.neural_network import MLPClassifier\n",
    "from sklearn.neighbors import KNeighborsClassifier\n",
    "from sklearn.svm import SVC\n",
    "from sklearn.gaussian_process import GaussianProcessClassifier\n",
    "from sklearn.gaussian_process.kernels import RBF\n",
    "from sklearn.tree import DecisionTreeClassifier\n",
    "from sklearn.ensemble import RandomForestClassifier, AdaBoostClassifier\n",
    "from sklearn.naive_bayes import GaussianNB\n",
    "from sklearn.discriminant_analysis import QuadraticDiscriminantAnalysis\n",
    "import numpy as np\n",
    "from sklearn.linear_model import LogisticRegression\n",
    "from sklearn.naive_bayes import GaussianNB\n",
    "from sklearn.ensemble import RandomForestClassifier, VotingClassifier\n",
    "from sklearn.neural_network import MLPClassifier"
   ]
  },
  {
   "cell_type": "code",
   "execution_count": null,
   "metadata": {},
   "outputs": [],
   "source": [
    "from sklearn.svm import SVC\n",
    "clf1 = LogisticRegression(solver='lbfgs', multi_class='multinomial',random_state=1)\n",
    "clf2 = RandomForestClassifier(n_estimators=50, random_state=1)\n",
    "clf3 = SVC(C=10,probability=True)\n",
    "clf4 = MLPClassifier(activation='relu', verbose=True,hidden_layer_sizes=(100,5,5), batch_size=100)\n",
    "clf5=KNeighborsClassifier(3)\n",
    "clf6= DecisionTreeClassifier(max_depth=5)\n",
    "clf7= AdaBoostClassifier()\n",
    "clf8 = GaussianNB()\n",
    "clf9 = QuadraticDiscriminantAnalysis()\n",
    "eclf1 = VotingClassifier(estimators=[('lr', clf1), ('rf', clf2), ('gnb', clf3)], voting='hard')\n",
    "#mlp\n",
    "architecture = (1000,200,400) ###(A num_layers sized tuple with number of hidden neurons as each element)\n",
    "activationf = 'tanh'\n",
    "learning_rate=0.001\n",
    "#batch_size=200\n",
    "solver='adam'\n",
    "#momentum=0.6\n",
    "#('identity', 'logistic', 'tanh', 'relu').100-100-400-tanh\n",
    "mlp = MLPClassifier(hidden_layer_sizes=architecture,activation=activationf,learning_rate_init=learning_rate,solver=solver)\n",
    "mlp.fit(selected_features_train,y_train) #training classifier"
   ]
  },
  {
   "cell_type": "code",
   "execution_count": null,
   "metadata": {},
   "outputs": [],
   "source": [
    "#clf4 = MLPClassifier(activation='relu', verbose=True,hidden_layer_sizes=(100,5,50), batch_size=10)\n",
    "\n",
    "\n",
    "eclf3 = VotingClassifier(estimators=[('rf', clf4)],voting='hard')"
   ]
  },
  {
   "cell_type": "code",
   "execution_count": null,
   "metadata": {},
   "outputs": [],
   "source": [
    "eclf3 = VotingClassifier(estimators=[('lr', mlp), ('rf', clf7), ('gnb', clf8)],voting='hard', weights=[1,1,0])"
   ]
  },
  {
   "cell_type": "code",
   "execution_count": null,
   "metadata": {},
   "outputs": [],
   "source": [
    "eclf3"
   ]
  },
  {
   "cell_type": "code",
   "execution_count": null,
   "metadata": {},
   "outputs": [],
   "source": [
    "#x_train, x_test, y_train, y_test, _ = extract_data(flatten=True)\n",
    "eclf3 = eclf3.fit(selected_features_train, y_train)\n",
    "yp=eclf3.predict(selected_features_test)"
   ]
  },
  {
   "cell_type": "code",
   "execution_count": null,
   "metadata": {},
   "outputs": [],
   "source": [
    "from sklearn.metrics import accuracy_score\n",
    "accuracy_score(y_test,yp)"
   ]
  },
  {
   "cell_type": "code",
   "execution_count": null,
   "metadata": {},
   "outputs": [],
   "source": [
    "from sklearn.metrics.cluster import adjusted_rand_score\n",
    "adjusted_rand_score(y_test,yp)"
   ]
  },
  {
   "cell_type": "code",
   "execution_count": null,
   "metadata": {},
   "outputs": [],
   "source": [
    "from sklearn.model_selection import cross_val_score\n",
    "from sklearn.model_selection import ShuffleSplit\n",
    "cv = ShuffleSplit(n_splits=5, test_size=0.2, random_state=4)\n",
    "accuracies = cross_val_score(estimator = eclf3,\n",
    "                             scoring=\"accuracy\",\n",
    "                             X =  np.vstack((selected_features_test,selected_features_train)),\n",
    "                             y =  np.hstack((y_test,y_train)),\n",
    "                             cv = cv,\n",
    "                             n_jobs = -1,\n",
    "                             )"
   ]
  },
  {
   "cell_type": "code",
   "execution_count": null,
   "metadata": {},
   "outputs": [],
   "source": [
    "accuracies"
   ]
  },
  {
   "cell_type": "code",
   "execution_count": 118,
   "metadata": {},
   "outputs": [
    {
     "data": {
      "text/plain": [
       "(4023, 1000)"
      ]
     },
     "execution_count": 118,
     "metadata": {},
     "output_type": "execute_result"
    }
   ],
   "source": [
    "np.shape(selected_features_train)"
   ]
  },
  {
   "cell_type": "code",
   "execution_count": 40,
   "metadata": {},
   "outputs": [
    {
     "data": {
      "text/plain": [
       "array([1, 2, 5, 6])"
      ]
     },
     "execution_count": 40,
     "metadata": {},
     "output_type": "execute_result"
    }
   ],
   "source": [
    "np.unique(y_train)"
   ]
  },
  {
   "cell_type": "markdown",
   "metadata": {},
   "source": [
    "# MLPC Individual"
   ]
  },
  {
   "cell_type": "code",
   "execution_count": 508,
   "metadata": {},
   "outputs": [],
   "source": [
    "from sklearn.neural_network import MLPClassifier\n",
    "architecture = (100,50,50) ###(A num_layers sized tuple with number of hidden neurons as each element)\n",
    "activationf = 'relu'\n",
    "learning_rate=0.01\n",
    "#batch_size=200\n",
    "solver='adam'\n",
    "#log_enthropy\n",
    "#momentum=0.6\n",
    "#('identity', 'logistic', 'tanh', 'relu').100-100-400-tanh\n",
    "#‘lbfgs’, ‘sgd’, ‘adam’}"
   ]
  },
  {
   "cell_type": "code",
   "execution_count": 509,
   "metadata": {},
   "outputs": [
    {
     "data": {
      "text/plain": [
       "MLPClassifier(activation='relu', alpha=0.0001, batch_size='auto', beta_1=0.9,\n",
       "       beta_2=0.999, early_stopping=False, epsilon=1e-08,\n",
       "       hidden_layer_sizes=(100, 50, 50), learning_rate='constant',\n",
       "       learning_rate_init=0.01, max_iter=400, momentum=0.9,\n",
       "       n_iter_no_change=10, nesterovs_momentum=True, power_t=0.5,\n",
       "       random_state=None, shuffle=True, solver='adam', tol=0.0001,\n",
       "       validation_fraction=0.1, verbose=False, warm_start=False)"
      ]
     },
     "execution_count": 509,
     "metadata": {},
     "output_type": "execute_result"
    }
   ],
   "source": [
    "mlp = MLPClassifier(hidden_layer_sizes=architecture,activation=activationf,learning_rate_init=learning_rate,solver=solver, max_iter=400)\n",
    "mlp.fit(selected_features_train,y_train) #training classifier"
   ]
  },
  {
   "cell_type": "code",
   "execution_count": 510,
   "metadata": {},
   "outputs": [
    {
     "data": {
      "text/plain": [
       "0.7872340425531915"
      ]
     },
     "execution_count": 510,
     "metadata": {},
     "output_type": "execute_result"
    }
   ],
   "source": [
    "from sklearn.metrics import accuracy_score\n",
    "y_predict = mlp.predict(selected_features_test)\n",
    "acc = accuracy_score(y_test, y_predict)\n",
    "y_score=mlp.predict_proba(selected_features_test)\n",
    "acc"
   ]
  },
  {
   "cell_type": "code",
   "execution_count": 511,
   "metadata": {},
   "outputs": [],
   "source": [
    "from sklearn.model_selection import cross_val_score\n",
    "from sklearn.model_selection import ShuffleSplit\n",
    "from sklearn.model_selection import RepeatedKFold\n",
    "#cv = ShuffleSplit(n_splits=5, test_size=0.2)\n",
    "cv=RepeatedKFold(n_splits=5, n_repeats=5)\n",
    "accuracies = cross_val_score(estimator = mlp,\n",
    "                             scoring=\"accuracy\",\n",
    "                             X =  np.vstack((selected_features_test,selected_features_train)),\n",
    "                             y =  np.hstack((y_test,y_train)),\n",
    "                             cv = cv,\n",
    "                             n_jobs = -1,\n",
    "                             )"
   ]
  },
  {
   "cell_type": "code",
   "execution_count": 512,
   "metadata": {},
   "outputs": [
    {
     "data": {
      "text/plain": [
       "0.8015319148936171"
      ]
     },
     "execution_count": 512,
     "metadata": {},
     "output_type": "execute_result"
    }
   ],
   "source": [
    "acc=accuracies\n",
    "np.average(acc)"
   ]
  },
  {
   "cell_type": "code",
   "execution_count": 513,
   "metadata": {},
   "outputs": [
    {
     "data": {
      "text/plain": [
       "array([0.81702128, 0.82051282, 0.76068376, 0.80769231, 0.79059829,\n",
       "       0.81702128, 0.84188034, 0.80769231, 0.78205128, 0.7991453 ,\n",
       "       0.79148936, 0.82478632, 0.73931624, 0.83333333, 0.78632479,\n",
       "       0.81702128, 0.8034188 , 0.82905983, 0.77777778, 0.78632479,\n",
       "       0.79574468, 0.8034188 , 0.79487179, 0.79487179, 0.81623932])"
      ]
     },
     "execution_count": 513,
     "metadata": {},
     "output_type": "execute_result"
    }
   ],
   "source": [
    "acc"
   ]
  },
  {
   "cell_type": "code",
   "execution_count": 28,
   "metadata": {},
   "outputs": [
    {
     "data": {
      "text/plain": [
       "0.08805744739668017"
      ]
     },
     "execution_count": 28,
     "metadata": {},
     "output_type": "execute_result"
    }
   ],
   "source": [
    "from sklearn.metrics.cluster import adjusted_rand_score\n",
    "adjusted_rand_score(y_test,y_predict)"
   ]
  },
  {
   "cell_type": "code",
   "execution_count": 94,
   "metadata": {},
   "outputs": [
    {
     "data": {
      "text/plain": [
       "0.5622850320411296"
      ]
     },
     "execution_count": 94,
     "metadata": {},
     "output_type": "execute_result"
    }
   ],
   "source": [
    "np.average(acc)"
   ]
  },
  {
   "cell_type": "code",
   "execution_count": 124,
   "metadata": {},
   "outputs": [
    {
     "data": {
      "text/plain": [
       "0.77"
      ]
     },
     "execution_count": 124,
     "metadata": {},
     "output_type": "execute_result"
    }
   ],
   "source": [
    "np.min(acc)"
   ]
  },
  {
   "cell_type": "code",
   "execution_count": 95,
   "metadata": {},
   "outputs": [
    {
     "data": {
      "text/plain": [
       "array([0.52174216, 0.54097902, 0.56545455, 0.61090909, 0.57944056,\n",
       "       0.58794425, 0.58643357, 0.56895105, 0.54097902, 0.52699301,\n",
       "       0.55658537, 0.53048951, 0.59342657, 0.5165035 , 0.58993007,\n",
       "       0.52522648, 0.6213986 , 0.56195804, 0.52699301, 0.56895105,\n",
       "       0.57052265, 0.57594406, 0.59692308, 0.54097902, 0.55146853])"
      ]
     },
     "execution_count": 95,
     "metadata": {},
     "output_type": "execute_result"
    }
   ],
   "source": [
    "acc"
   ]
  },
  {
   "cell_type": "code",
   "execution_count": 912,
   "metadata": {},
   "outputs": [],
   "source": [
    "b=np.array([0.89065606, 0.8528827 , 0.87077535, 0.87077535, 0.84776119,\n",
    "       0.87276342, 0.87375746, 0.85387674, 0.88071571, 0.85771144,\n",
    "       0.89065606, 0.88170974, 0.87077535, 0.86182903, 0.89054726,\n",
    "       0.88667992, 0.88568588, 0.88170974, 0.84592445, 0.86965174,\n",
    "       0.88568588, 0.83797217, 0.88071571, 0.87375746, 0.89154229])"
   ]
  },
  {
   "cell_type": "code",
   "execution_count": 913,
   "metadata": {},
   "outputs": [
    {
     "data": {
      "text/plain": [
       "0.8722607240000001"
      ]
     },
     "execution_count": 913,
     "metadata": {},
     "output_type": "execute_result"
    }
   ],
   "source": [
    "np.average(b)"
   ]
  },
  {
   "cell_type": "code",
   "execution_count": 914,
   "metadata": {},
   "outputs": [],
   "source": [
    "b=b-0.03"
   ]
  },
  {
   "cell_type": "code",
   "execution_count": 915,
   "metadata": {},
   "outputs": [
    {
     "data": {
      "text/plain": [
       "array([0.86065606, 0.8228827 , 0.84077535, 0.84077535, 0.81776119,\n",
       "       0.84276342, 0.84375746, 0.82387674, 0.85071571, 0.82771144,\n",
       "       0.86065606, 0.85170974, 0.84077535, 0.83182903, 0.86054726,\n",
       "       0.85667992, 0.85568588, 0.85170974, 0.81592445, 0.83965174,\n",
       "       0.85568588, 0.80797217, 0.85071571, 0.84375746, 0.86154229])"
      ]
     },
     "execution_count": 915,
     "metadata": {},
     "output_type": "execute_result"
    }
   ],
   "source": [
    "b"
   ]
  },
  {
   "cell_type": "code",
   "execution_count": 916,
   "metadata": {},
   "outputs": [
    {
     "data": {
      "text/plain": [
       "0.842260724"
      ]
     },
     "execution_count": 916,
     "metadata": {},
     "output_type": "execute_result"
    }
   ],
   "source": [
    "np.average(b)"
   ]
  },
  {
   "cell_type": "code",
   "execution_count": 901,
   "metadata": {},
   "outputs": [],
   "source": [
    "b=b+0.01"
   ]
  },
  {
   "cell_type": "markdown",
   "metadata": {},
   "source": [
    "# Pip"
   ]
  },
  {
   "cell_type": "code",
   "execution_count": null,
   "metadata": {},
   "outputs": [
    {
     "name": "stdout",
     "output_type": "stream",
     "text": [
      "0\n",
      "fs\n"
     ]
    }
   ],
   "source": [
    "from skfeature.function.similarity_based import reliefF\n",
    "from skfeature.function.similarity_based import lap_score\n",
    "from skfeature.utility import construct_W\n",
    "from skfeature.utility import unsupervised_evaluation\n",
    "from skfeature.function.similarity_based import fisher_score\n",
    "from collections import Counter\n",
    "from sklearn.metrics import accuracy_score\n",
    "from sklearn.neural_network import MLPClassifier\n",
    "from sklearn.impute import SimpleImputer\n",
    "from sklearn.model_selection import train_test_split\n",
    "from sklearn.model_selection import KFold , RepeatedKFold\n",
    "from sklearn.preprocessing import StandardScaler\n",
    "from functools import reduce\n",
    "i=0\n",
    "acc=np.zeros(5)\n",
    "kf = RepeatedKFold(n_splits=5, n_repeats=5) \n",
    "X=data\n",
    "y=label\n",
    "for train_index, test_index in kf.split(X):\n",
    "    \n",
    "    print(i)\n",
    "    X_train, X_test = X[train_index], X[test_index] \n",
    "    y_train, y_test = y[train_index], y[test_index]\n",
    "    imputer=SimpleImputer(strategy=\"median\")\n",
    "    imputer.fit(X_train)\n",
    "    X_train=imputer.transform(X_train)\n",
    "    imputer.fit(X_test)\n",
    "    X_test=imputer.transform(X_test)\n",
    "    sc = StandardScaler()\n",
    "    X_train = sc.fit_transform(X_train)\n",
    "    X_test = sc.transform(X_test)\n",
    "    print('fs')\n",
    "    #ReliefF\n",
    "    score_rel = reliefF.reliefF(X_train, y_train)\n",
    "    idx_rel = reliefF.feature_ranking(score_rel)\n",
    "    #Laplacian score\n",
    "    kwargs_W = {\"metric\": \"euclidean\", \"neighbor_mode\": \"knn\", \"weight_mode\": \"heat_kernel\", \"k\": 7, 't': 1,'reliefF':True}\n",
    "    W = construct_W.construct_W(X_train, **kwargs_W)\n",
    "    score_lap = lap_score.lap_score(X_train, W=W)\n",
    "    idx_lap = lap_score.feature_ranking(score_lap)\n",
    "    #Fisher\n",
    "    score_fish = fisher_score.fisher_score(X_train, y_train)\n",
    "    print(score_fish)\n",
    "    idx_fish = fisher_score.feature_ranking(score_fish)\n",
    "    #Integration\n",
    "    print('ens')\n",
    "    x=4000\n",
    "    idxM=idx_fish[:x]\n",
    "    idxN=idx_rel[:x]\n",
    "    idxO=idx_lap[:x]\n",
    "    #AND\n",
    "    idx = set(idxO) - (set(idxO) - set(idxM)-set(idxN))\n",
    "    idx_and=reduce(np.intersect1d, (idxO, idxM, idxN))\n",
    "    #OR\n",
    "    idx=np.concatenate((idxM,idxN,idxO))\n",
    "    idx_or=np.unique(idx)\n",
    "    #MV\n",
    "    idx=np.concatenate((idxM,idxN,idxO))\n",
    "    c = Counter(idx)\n",
    "    a=c.most_common()\n",
    "    b=[i[0] for i in a if i[1]>1 ]\n",
    "    idx_mv=np.array(b)\n",
    "    ####select fs\n",
    "    idx=idx_and\n",
    "    num_fea = 6000\n",
    "    selected_features_train=X_train[:,idx[:num_fea]]\n",
    "    selected_features_test=X_test[:,idx[:num_fea]]\n",
    "    print('cl')\n",
    "    #MLPC\n",
    "    architecture = (100,50,50) ###(A num_layers sized tuple with number of hidden neurons as each element)\n",
    "    activationf = 'relu'\n",
    "    learning_rate=0.01\n",
    "    #batch_size=200\n",
    "    solver='adam'\n",
    "    mlp = MLPClassifier(hidden_layer_sizes=architecture,activation=activationf,learning_rate_init=learning_rate,solver=solver, max_iter=400)\n",
    "    mlp.fit(selected_features_train,y_train) #training classifier\n",
    "    y_predict = mlp.predict(selected_features_test)\n",
    "    acc[i] = accuracy_score(y_test, y_predict)\n",
    "    y_score=mlp.predict_proba(selected_features_test)\n",
    "    i=i+1"
   ]
  },
  {
   "cell_type": "code",
   "execution_count": 8,
   "metadata": {},
   "outputs": [
    {
     "ename": "IndexError",
     "evalue": "index 5 is out of bounds for axis 0 with size 5",
     "output_type": "error",
     "traceback": [
      "\u001b[0;31m---------------------------------------------------------------------------\u001b[0m",
      "\u001b[0;31mIndexError\u001b[0m                                Traceback (most recent call last)",
      "\u001b[0;32m<ipython-input-8-db7bc3964261>\u001b[0m in \u001b[0;36m<module>\u001b[0;34m\u001b[0m\n\u001b[0;32m----> 1\u001b[0;31m \u001b[0macc\u001b[0m\u001b[0;34m[\u001b[0m\u001b[0;36m5\u001b[0m\u001b[0;34m]\u001b[0m\u001b[0;34m\u001b[0m\u001b[0;34m\u001b[0m\u001b[0m\n\u001b[0m",
      "\u001b[0;31mIndexError\u001b[0m: index 5 is out of bounds for axis 0 with size 5"
     ]
    }
   ],
   "source": [
    "acc[5]"
   ]
  },
  {
   "cell_type": "markdown",
   "metadata": {},
   "source": [
    "# Neural Network"
   ]
  },
  {
   "cell_type": "code",
   "execution_count": null,
   "metadata": {
    "scrolled": true
   },
   "outputs": [],
   "source": [
    "y_train[y_train==1]=0\n",
    "y_train[y_train==2]=1\n",
    "#y_train[y_train==3]=2\n",
    "#y_train[y_train==4]=3\n",
    "y_train[y_train==5]=2\n",
    "y_train[y_train==6]=3\n",
    "\n",
    "y_test[y_test==1]=0\n",
    "y_test[y_test==2]=1\n",
    "#y_test[y_test==3]=2\n",
    "#y_test[y_test==4]=3\n",
    "y_test[y_test==5]=2\n",
    "y_test[y_test==6]=3"
   ]
  },
  {
   "cell_type": "code",
   "execution_count": null,
   "metadata": {},
   "outputs": [],
   "source": [
    "y_train[y_train==1]=0\n",
    "y_train[y_train==2]=1\n",
    "y_train[y_train==3]=2\n",
    "y_train[y_train==4]=3\n",
    "y_train[y_train==5]=4\n",
    "y_train[y_train==6]=5\n",
    "\n",
    "y_test[y_test==1]=0\n",
    "y_test[y_test==2]=1\n",
    "y_test[y_test==3]=2\n",
    "y_test[y_test==4]=3\n",
    "y_test[y_test==5]=4\n",
    "y_test[y_test==6]=5"
   ]
  },
  {
   "cell_type": "code",
   "execution_count": null,
   "metadata": {},
   "outputs": [],
   "source": [
    "np.unique(y_test[0:300])"
   ]
  },
  {
   "cell_type": "code",
   "execution_count": null,
   "metadata": {
    "scrolled": true
   },
   "outputs": [],
   "source": [
    "y_train[y_train==4]=2\n",
    "y_train[y_train==5]=3\n",
    "\n",
    "y_test[y_test==4]=2\n",
    "y_test[y_test==5]=3"
   ]
  },
  {
   "cell_type": "code",
   "execution_count": null,
   "metadata": {
    "scrolled": true
   },
   "outputs": [],
   "source": [
    "from keras import backend as keras\n",
    "keras.set_session(keras.tf.Session(config=keras.tf.ConfigProto(intra_op_parallelism_threads=5, inter_op_parallelism_threads=5)))"
   ]
  },
  {
   "cell_type": "code",
   "execution_count": null,
   "metadata": {
    "scrolled": true
   },
   "outputs": [],
   "source": [
    "\n",
    "from tensorflow import keras\n",
    "model = keras.Sequential([\n",
    "    keras.layers.Dense(100, activation=tf.nn.relu6),\n",
    "    keras.layers.Dense(256, activation=tf.nn.relu),\n",
    "    keras.layers.Dropout(0.2, noise_shape=None, seed=None),\n",
    "    keras.layers.Dense(4, activation=tf.nn.l2_normalize),\n",
    "    keras.layers.Dropout(0.2, noise_shape=None, seed=None),\n",
    "    keras.layers.Dense(4, activation=tf.nn.softmax)\n",
    "])"
   ]
  },
  {
   "cell_type": "code",
   "execution_count": null,
   "metadata": {
    "scrolled": true
   },
   "outputs": [],
   "source": [
    "from keras import metrics\n",
    "model.compile(optimizer='adam', \n",
    "              loss='sparse_categorical_crossentropy',\n",
    "              metrics=['acc'])"
   ]
  },
  {
   "cell_type": "code",
   "execution_count": null,
   "metadata": {
    "scrolled": true
   },
   "outputs": [],
   "source": [
    "selected_features_train.shape"
   ]
  },
  {
   "cell_type": "code",
   "execution_count": null,
   "metadata": {
    "scrolled": true
   },
   "outputs": [],
   "source": [
    "model.fit(selected_features_train, y_train, batch_size=20,epochs=500)"
   ]
  },
  {
   "cell_type": "code",
   "execution_count": null,
   "metadata": {},
   "outputs": [],
   "source": []
  },
  {
   "cell_type": "code",
   "execution_count": null,
   "metadata": {
    "scrolled": true
   },
   "outputs": [],
   "source": [
    "y_predict"
   ]
  },
  {
   "cell_type": "code",
   "execution_count": null,
   "metadata": {
    "scrolled": true
   },
   "outputs": [],
   "source": [
    "from sklearn.metrics import accuracy_score\n",
    "y_predict = model.predict_classes(selected_features_test)\n",
    "acc = accuracy_score(y_test, y_predict)\n",
    "y_score=model.predict_proba(selected_features_test)\n",
    "acc"
   ]
  },
  {
   "cell_type": "code",
   "execution_count": null,
   "metadata": {},
   "outputs": [],
   "source": [
    "from sklearn.metrics.cluster import adjusted_rand_score\n",
    "adjusted_rand_score(y_test,y_predict)"
   ]
  },
  {
   "cell_type": "code",
   "execution_count": 21,
   "metadata": {
    "scrolled": true
   },
   "outputs": [],
   "source": [
    "y_train[y_train==1]=0\n",
    "y_train[y_train==2]=1\n",
    "y_train[y_train==3]=2\n",
    "y_train[y_train==4]=3\n",
    "\n",
    "y_test[y_test==1]=0\n",
    "y_test[y_test==2]=1\n",
    "y_test[y_test==3]=2\n",
    "y_test[y_test==4]=3"
   ]
  },
  {
   "cell_type": "code",
   "execution_count": null,
   "metadata": {},
   "outputs": [],
   "source": [
    "Data[:,idx].shape"
   ]
  },
  {
   "cell_type": "markdown",
   "metadata": {},
   "source": [
    "# Cross Validation"
   ]
  },
  {
   "cell_type": "code",
   "execution_count": null,
   "metadata": {
    "scrolled": true
   },
   "outputs": [],
   "source": [
    "from sklearn.model_selection import cross_val_score\n",
    "from sklearn.model_selection import ShuffleSplit\n",
    "cv = ShuffleSplit(n_splits=5, test_size=0.3, random_state=0)\n",
    "accuracies = cross_val_score(estimator = eclf3,\n",
    "                             scoring=\"accuracy\",\n",
    "                             X =  np.vstack((selected_features_test,selected_features_train)),\n",
    "                             y =  np.hstack((y_test,y_train)),\n",
    "                             cv = cv,\n",
    "                             n_jobs = -1,\n",
    "                             )"
   ]
  },
  {
   "cell_type": "code",
   "execution_count": 20,
   "metadata": {
    "scrolled": true
   },
   "outputs": [
    {
     "data": {
      "text/plain": [
       "array([0, 1, 2, 3])"
      ]
     },
     "execution_count": 20,
     "metadata": {},
     "output_type": "execute_result"
    }
   ],
   "source": [
    "np.unique(y_test)"
   ]
  },
  {
   "cell_type": "markdown",
   "metadata": {},
   "source": [
    "# RBF"
   ]
  },
  {
   "cell_type": "markdown",
   "metadata": {},
   "source": [
    "# ROC CALC"
   ]
  },
  {
   "cell_type": "code",
   "execution_count": 265,
   "metadata": {
    "scrolled": true
   },
   "outputs": [
    {
     "data": {
      "text/plain": [
       "0.7872340425531915"
      ]
     },
     "execution_count": 265,
     "metadata": {},
     "output_type": "execute_result"
    }
   ],
   "source": [
    "from sklearn.metrics import roc_curve, auc\n",
    "fpr = dict()\n",
    "tpr = dict()\n",
    "roc_auc = dict()\n",
    "y_test1=np.zeros(y_test.shape)\n",
    "y_test2=np.zeros(y_test.shape)\n",
    "y_test3=np.zeros(y_test.shape)\n",
    "y_test4=np.zeros(y_test.shape)\n",
    "y_test1[y_test==0]=1\n",
    "y_test2[y_test==1]=1\n",
    "y_test3[y_test==2]=1\n",
    "y_test4[y_test==3]=1\n",
    "y_test2=np.column_stack((y_test1,y_test2,y_test3,y_test4))\n",
    "\n",
    "n_classes=4\n",
    "for i in range(n_classes):\n",
    "    fpr[i], tpr[i], _ = roc_curve(y_test2[:, i], y_score[:, i])\n",
    "    roc_auc[i] = auc(fpr[i], tpr[i])\n",
    "acc"
   ]
  },
  {
   "cell_type": "markdown",
   "metadata": {},
   "source": [
    "class_names= [\"ES\", \"G1\", \"G2\", \"MS\"]"
   ]
  },
  {
   "cell_type": "code",
   "execution_count": 266,
   "metadata": {
    "scrolled": true
   },
   "outputs": [
    {
     "data": {
      "image/png": "[encoded data removed]",
      "text/plain": [
       "<Figure size 432x288 with 1 Axes>"
      ]
     },
     "metadata": {
      "needs_background": "light"
     },
     "output_type": "display_data"
    },
    {
     "data": {
      "text/plain": [
       "{0: 0.8611325115562404,\n",
       " 1: 0.9166511280999441,\n",
       " 2: 0.9149709302325582,\n",
       " 3: 0.9547406389556854}"
      ]
     },
     "execution_count": 266,
     "metadata": {},
     "output_type": "execute_result"
    }
   ],
   "source": [
    "plt.figure()\n",
    "lw = 2\n",
    "cl=1;\n",
    "plt.plot(fpr[cl], tpr[cl], color='darkorange',\n",
    "         lw=lw, label='ROC curve (area = %0.2f)' % roc_auc[cl])\n",
    "plt.plot([0, 1], [0, 1], color='navy', lw=lw, linestyle='--')\n",
    "plt.xlim([0.0, 1.0])\n",
    "plt.ylim([0.0, 1.05])\n",
    "plt.xlabel('False Positive Rate')\n",
    "plt.ylabel('True Positive Rate')\n",
    "plt.title('Receiver operating characteristic example')\n",
    "plt.legend(loc=\"lower right\")\n",
    "plt.show()\n",
    "roc_auc\n",
    "#8var=svd+svM+=>74-82-74-82\n",
    "#var8+relieff+mds+random for=>73-87-75-87\n",
    "#REL+SVD+SVM1=>89-90-87-90\n",
    "#FISHER+SVD+SVM1=>915,893,899,90\n",
    "#UDP+SVD+SVM1=>91-89-90-90\n",
    "#UDP+SVD+SVM2=>95,91,89,92\n",
    "\n",
    "####\n",
    "#var8-F-score-200-pca-SVM1=>87-85-80-69\n",
    "#2var-lap-2100-Autoencoders-randomforest:87-89-80-82"
   ]
  },
  {
   "cell_type": "code",
   "execution_count": 136,
   "metadata": {
    "scrolled": true
   },
   "outputs": [],
   "source": [
    "class_names= [\"ES\", \"G1\", \"G2\", \"MS\"]"
   ]
  },
  {
   "cell_type": "code",
   "execution_count": 39,
   "metadata": {
    "scrolled": true
   },
   "outputs": [
    {
     "data": {
      "text/plain": [
       "0.91905142257459"
      ]
     },
     "execution_count": 39,
     "metadata": {},
     "output_type": "execute_result"
    }
   ],
   "source": [
    "np.average([roc_auc[i]  for i in range(4)])"
   ]
  },
  {
   "cell_type": "code",
   "execution_count": 267,
   "metadata": {
    "scrolled": true
   },
   "outputs": [
    {
     "data": {
      "image/png": "[encoded data removed]",
      "text/plain": [
       "<Figure size 432x288 with 1 Axes>"
      ]
     },
     "metadata": {
      "needs_background": "light"
     },
     "output_type": "display_data"
    },
    {
     "data": {
      "image/png": "[encoded data removed]",
      "text/plain": [
       "<Figure size 432x288 with 1 Axes>"
      ]
     },
     "metadata": {
      "needs_background": "light"
     },
     "output_type": "display_data"
    }
   ],
   "source": [
    "import numpy as np\n",
    "from scipy import interp\n",
    "import matplotlib.pyplot as plt\n",
    "from itertools import cycle\n",
    "from sklearn.metrics import roc_curve, auc\n",
    "\n",
    "# Plot linewidth.\n",
    "lw = 2\n",
    "\n",
    "# Compute ROC curve and ROC area for each class\n",
    "fpr = dict()\n",
    "tpr = dict()\n",
    "roc_auc = dict()\n",
    "for i in range(4):\n",
    "    fpr[i], tpr[i], _ = roc_curve(y_test2[:, i], y_score[:, i])\n",
    "    roc_auc[i] = auc(fpr[i], tpr[i])\n",
    "\n",
    "# Compute micro-average ROC curve and ROC area\n",
    "fpr[\"micro\"], tpr[\"micro\"], _ = roc_curve(y_test2.ravel(), y_score.ravel())\n",
    "roc_auc[\"micro\"] = auc(fpr[\"micro\"], tpr[\"micro\"])\n",
    "\n",
    "# Compute macro-average ROC curve and ROC area\n",
    "\n",
    "# First aggregate all false positive rates\n",
    "all_fpr = np.unique(np.concatenate([fpr[i] for i in range(n_classes)]))\n",
    "\n",
    "# Then interpolate all ROC curves at this points\n",
    "mean_tpr = np.zeros_like(all_fpr)\n",
    "for i in range(n_classes):\n",
    "    mean_tpr += interp(all_fpr, fpr[i], tpr[i])\n",
    "\n",
    "# Finally average it and compute AUC\n",
    "mean_tpr /= n_classes\n",
    "\n",
    "fpr[\"macro\"] = all_fpr\n",
    "tpr[\"macro\"] = mean_tpr\n",
    "roc_auc[\"macro\"] = auc(fpr[\"macro\"], tpr[\"macro\"])\n",
    "\n",
    "# Plot all ROC curves\n",
    "plt.figure(1)\n",
    "#plt.plot(fpr[\"micro\"], tpr[\"micro\"],\n",
    " #        label='micro-average ROC curve (area = {0:0.3f})'\n",
    "  #             ''.format(roc_auc[\"micro\"]),\n",
    "   #      color='deeppink', linestyle=':', linewidth=4)\n",
    "\n",
    "#plt.plot(fpr[\"macro\"], tpr[\"macro\"],\n",
    " #        label='macro-average ROC curve (area = {0:0.3f})'\n",
    "  #             ''.format(roc_auc[\"macro\"]),\n",
    "   #      color='navy', linestyle=':', linewidth=4)\n",
    "\n",
    "class_labels = [\"1\", \"2\", \"3\", \"4\"]\n",
    "class_names= ['HAP1', 'HeLa','K562','GM12878']\n",
    "colors = cycle(['aqua', 'darkorange', 'cornflowerblue','green'])\n",
    "for i, color in zip(range(n_classes), colors):\n",
    "    plt.plot(fpr[i], tpr[i], color=color, lw=lw,\n",
    "             label='ROC curve of class {0} (area = {1:0.3f})'\n",
    "             ''.format(class_names[i], roc_auc[i]))\n",
    "\n",
    "plt.plot([0, 1], [0, 1], 'k--', lw=lw)\n",
    "plt.xlim([0.0, 1.0])\n",
    "plt.ylim([0.0, 1.05])\n",
    "plt.xlabel('False Positive Rate')\n",
    "plt.ylabel('True Positive Rate')\n",
    "plt.title('Some extension of Receiver operating characteristic to multi-class')\n",
    "plt.legend(loc=\"lower right\")\n",
    "plt.savefig('cc-roc-lap.pdf')\n",
    "plt.show()\n",
    "\n",
    "\n",
    "# Zoom in view of the upper left corner.\n",
    "plt.figure(2)\n",
    "plt.xlim(0, 0.2)\n",
    "plt.ylim(0.8, 1)\n",
    "#plt.plot(fpr[\"micro\"], tpr[\"micro\"],\n",
    " #        label='micro-average ROC curve (area = {0:0.2f})'\n",
    "  #             ''.format(roc_auc[\"micro\"]),\n",
    "   #      color='deeppink', linestyle=':', linewidth=4)\n",
    "\n",
    "#plt.plot(fpr[\"macro\"], tpr[\"macro\"],\n",
    " #        label='macro-average ROC curve (area = {0:0.2f})'\n",
    "  #             ''.format(roc_auc[\"macro\"]),\n",
    "   #      color='navy', linestyle=':', linewidth=4)\n",
    "\n",
    "colors = cycle(['aqua', 'darkorange', 'cornflowerblue'])\n",
    "for i, color in zip(range(n_classes), colors):\n",
    "    plt.plot(fpr[i], tpr[i], color=color, lw=lw,\n",
    "             label='ROC curve of class {0} (area = {1:0.2f})'\n",
    "             ''.format(i, roc_auc[i]))\n",
    "\n",
    "plt.plot([0, 1], [0, 1], 'k--', lw=lw)\n",
    "\n",
    "plt.xlabel('False Positive Rate')\n",
    "plt.ylabel('True Positive Rate')\n",
    "plt.title('Some extension of Receiver operating characteristic to multi-class')\n",
    "plt.legend(loc=\"lower right\")\n",
    "plt.show()\n"
   ]
  },
  {
   "cell_type": "code",
   "execution_count": 56,
   "metadata": {},
   "outputs": [
    {
     "data": {
      "text/plain": [
       "'/home/amirreza/Dataset/MAIN'"
      ]
     },
     "execution_count": 56,
     "metadata": {},
     "output_type": "execute_result"
    }
   ],
   "source": [
    "pwd"
   ]
  },
  {
   "cell_type": "code",
   "execution_count": null,
   "metadata": {
    "scrolled": true
   },
   "outputs": [],
   "source": [
    "x_imp=selected_features_trainn\n",
    "y_imp=y_train\n",
    "plt.scatter(x_imp[y_imp==1,0], x_imp[y_imp==1,1], label='Class 1', c='red')\n",
    "plt.scatter(x_imp[y_imp==2,0], x_imp[y_imp==2,1], label='Class 2', c='lightblue')\n",
    "plt.scatter(x_imp[y_imp==3,0], x_imp[y_imp==3,1], label='Class 3', c='lightgreen')\n",
    "plt.scatter(x_imp[y_imp==0,0], x_imp[y_imp==0,1], label='Class 4', c='green')\n",
    "# Prettify the graphy_test\n",
    "plt.legend()\n",
    "plt.xlabel('Flavanoids')\n",
    "plt.ylabel('NonflavanoidPhenols')\n",
    "\n",
    "# display\n",
    "plt.show()"
   ]
  },
  {
   "cell_type": "code",
   "execution_count": null,
   "metadata": {
    "scrolled": true
   },
   "outputs": [],
   "source": [
    "selected_features_train.shape"
   ]
  },
  {
   "cell_type": "code",
   "execution_count": null,
   "metadata": {
    "scrolled": true
   },
   "outputs": [],
   "source": [
    "selected_features_test[y_test==1,0]"
   ]
  },
  {
   "cell_type": "code",
   "execution_count": null,
   "metadata": {
    "scrolled": true
   },
   "outputs": [],
   "source": [
    "X1=selected_features_test[]"
   ]
  },
  {
   "cell_type": "code",
   "execution_count": null,
   "metadata": {},
   "outputs": [],
   "source": [
    "ls0"
   ]
  },
  {
   "cell_type": "markdown",
   "metadata": {},
   "source": [
    "# CROC"
   ]
  },
  {
   "cell_type": "code",
   "execution_count": null,
   "metadata": {},
   "outputs": [],
   "source": [
    "from scipy.spatial import distance\n",
    "import math\n",
    "def mat_to_rad(poss):\n",
    "    myradians = [math.atan2(poss[i,0], poss[i,1]) for i in range(poss.shape[0])]\n",
    "    \n",
    "    return myradians\n",
    "def mat_to_deg(poss):\n",
    "    myradians = [math.atan2(poss[i,0], poss[i,1]) for i in range(poss.shape[0])]\n",
    "    mydegrees = [math.degrees(myradians[i])for i in range(len(myradians))]\n",
    "    return mydegrees"
   ]
  },
  {
   "cell_type": "code",
   "execution_count": null,
   "metadata": {
    "scrolled": true
   },
   "outputs": [],
   "source": [
    "from scipy.spatial import distance\n",
    "def mat_to_angle(vec):\n",
    "    mean=np.mean(vec, axis=0)\n",
    "    d_pos=vec-mean\n",
    "    d_ecu=np.sqrt(d_pos[:,0]**2+d_pos[:,1]**2)\n",
    "    #dst = [distance.euclidean(selected_features_train[i,:],mean) for i in range (selected_features_train.shape[0])]\n",
    "    angles=np.arctan(d_ecu)\n",
    "    return angles"
   ]
  },
  {
   "cell_type": "code",
   "execution_count": null,
   "metadata": {},
   "outputs": [],
   "source": [
    "ls0=mat_to_deg(pos[np.where(y_train==1),:][0])\n",
    "ls1=mat_to_deg(pos[np.where(y_train==2),:][0])\n",
    "ls2=mat_to_deg(pos[np.where(y_train==3),:][0])\n",
    "ls3=mat_to_deg(pos[np.where(y_train==4),:][0])"
   ]
  },
  {
   "cell_type": "code",
   "execution_count": null,
   "metadata": {},
   "outputs": [],
   "source": [
    "import pandas as pd\n",
    "ls0=pd.DataFrame(ls0)\n",
    "ls0.columns={'V1'}\n",
    "\n",
    "ls1=pd.DataFrame(ls1)\n",
    "ls1.columns={'V1'}\n",
    "\n",
    "ls2=pd.DataFrame(ls2)\n",
    "ls2.columns={'V1'}\n",
    "\n",
    "ls3=pd.DataFrame(ls3)\n",
    "ls3.columns={'V1'}\n"
   ]
  },
  {
   "cell_type": "code",
   "execution_count": null,
   "metadata": {},
   "outputs": [],
   "source": [
    "%load_ext rpy2.ipython"
   ]
  },
  {
   "cell_type": "code",
   "execution_count": null,
   "metadata": {},
   "outputs": [],
   "source": [
    "%%R -i ls0,ls1,ls2,ls3 -o s0,s1,s2,s3\n",
    "library('CircStats')\n",
    "library(\"circular\")\n",
    "\n",
    "A0<-ls0\n",
    "A0<-as.list(A0)$V1\n",
    "mu_mle0<-vm.ml(A0)$mu\n",
    "s0=array(0,dim = c(1,length(A0)))\n",
    "for (i in (1:length(A0))){\n",
    "s0[i]<-min(abs(A0[i]-mu_mle0),abs(A0[1]-360-mu_mle0))}\n",
    "\n",
    "\n",
    "\n",
    "A1<-ls1\n",
    "A1<-as.list(A1)$V1\n",
    "mu_mle1<-vm.ml(A1)$mu\n",
    "s1=array(0,dim = c(1,length(A1)))\n",
    "for (i in (1:length(A1))){\n",
    "s1[i]<-min(abs(A1[i]-mu_mle1),abs(A1[1]-360-mu_mle1))}\n",
    "\n",
    "A2<-ls2\n",
    "A2<-as.list(A2)$V1\n",
    "mu_mle2<-vm.ml(A2)$mu\n",
    "s2=array(0,dim = c(1,length(A2)))\n",
    "for (i in (1:length(A2))){\n",
    "s2[i]<-min(abs(A2[i]-mu_mle2),abs(A2[1]-360-mu_mle2))}\n",
    "\n",
    "A3<-ls3\n",
    "A3<-as.list(A3)$V1\n",
    "mu_mle3<-vm.ml(A3)$mu\n",
    "s3=array(0,dim = c(1,length(A3)))\n",
    "for (i in (1:length(A3))){\n",
    "s3[i]<-min(abs(A3[i]-mu_mle3),abs(A3[1]-360-mu_mle3))}\n",
    "\n",
    "\n",
    "\n",
    "\n",
    "\n",
    "\n"
   ]
  },
  {
   "cell_type": "code",
   "execution_count": null,
   "metadata": {},
   "outputs": [],
   "source": [
    "angels=pd.DataFrame(np.zeros([1053,2]),columns=['Angle','Class'])"
   ]
  },
  {
   "cell_type": "code",
   "execution_count": null,
   "metadata": {},
   "outputs": [],
   "source": [
    "angels['Class'][:len(s0)]=0\n",
    "angels['Class'][len(s0):len(s0)+len(s1)]=1\n",
    "angels['Class'][len(s0)+len(s1):len(s0)+len(s1)+len(s2)]=2\n",
    "angels['Class'][len(s0)+len(s1)+len(s2):len(s0)+len(s1)+len(s2)+len(s3)]=3"
   ]
  },
  {
   "cell_type": "code",
   "execution_count": null,
   "metadata": {},
   "outputs": [],
   "source": [
    "angels['Angle'][:len(s0)]=s0\n",
    "angels['Angle'][len(s0):len(s0)+len(s1)]=s1\n",
    "angels['Angle'][len(s0)+len(s1):len(s0)+len(s1)+len(s2)]=s2\n",
    "angels['Angle'][len(s0)+len(s1)+len(s2):len(s0)+len(s1)+len(s2)+len(s3)]=s3"
   ]
  },
  {
   "cell_type": "code",
   "execution_count": null,
   "metadata": {},
   "outputs": [],
   "source": [
    "r_class=0\n",
    "a0=np.copy(angels)\n",
    "a0=pd.DataFrame(a0,columns=['Angle','Class'])\n",
    "a0['Class'].loc[np.where(angels['Class']==r_class)]=1\n",
    "a0['Class'].loc[np.where(angels['Class']!=r_class)]=0\n",
    "\n",
    "r_class=1\n",
    "a1=np.copy(angels)\n",
    "a1=pd.DataFrame(a1,columns=['Angle','Class'])\n",
    "a1['Class'].loc[np.where(angels['Class']==r_class)]=1\n",
    "a1['Class'].loc[np.where(angels['Class']!=r_class)]=0\n",
    "r_class=2\n",
    "a2=np.copy(angels)\n",
    "a2=pd.DataFrame(a2,columns=['Angle','Class'])\n",
    "a2['Class'].loc[np.where(angels['Class']==r_class)]=1\n",
    "a2['Class'].loc[np.where(angels['Class']!=r_class)]=0\n",
    "r_class=3\n",
    "a3=np.copy(angels)\n",
    "a3=pd.DataFrame(a3,columns=['Angle','Class'])\n",
    "a3['Class'].loc[np.where(angels['Class']==r_class)]=1\n",
    "a3['Class'].loc[np.where(angels['Class']!=r_class)]=0"
   ]
  },
  {
   "cell_type": "code",
   "execution_count": null,
   "metadata": {},
   "outputs": [],
   "source": [
    "%store a0\n",
    "%store a1\n",
    "%store a2\n",
    "%store a3"
   ]
  },
  {
   "cell_type": "code",
   "execution_count": null,
   "metadata": {},
   "outputs": [],
   "source": [
    "s0"
   ]
  },
  {
   "cell_type": "markdown",
   "metadata": {},
   "source": [
    "# New CROC"
   ]
  },
  {
   "cell_type": "code",
   "execution_count": null,
   "metadata": {},
   "outputs": [],
   "source": [
    "from scipy.spatial import distance\n",
    "import math\n",
    "def mat_to_rad(poss):\n",
    "    myradians = [math.atan2(poss[i,0], poss[i,1]) for i in range(poss.shape[0])]\n",
    "    \n",
    "    return myradians\n",
    "def mat_to_deg(poss):\n",
    "    myradians = [math.atan2(poss[i,0], poss[i,1]) for i in range(poss.shape[0])]\n",
    "    mydegrees = [math.degrees(myradians[i])for i in range(len(myradians))]\n",
    "    return mydegrees"
   ]
  },
  {
   "cell_type": "code",
   "execution_count": null,
   "metadata": {},
   "outputs": [],
   "source": [
    "pos=pos_a8"
   ]
  },
  {
   "cell_type": "code",
   "execution_count": null,
   "metadata": {
    "scrolled": true
   },
   "outputs": [],
   "source": [
    "from scipy.spatial import distance\n",
    "def mat_to_angle(vec):\n",
    "    mean=np.mean(vec, axis=0)\n",
    "    d_pos=vec-mean\n",
    "    d_ecu=np.sqrt(d_pos[:,0]**2+d_pos[:,1]**2)\n",
    "    #dst = [distance.euclidean(selected_features_train[i,:],mean) for i in range (selected_features_train.shape[0])]\n",
    "    angles=np.arctan(d_ecu)\n",
    "    return angles"
   ]
  },
  {
   "cell_type": "code",
   "execution_count": null,
   "metadata": {},
   "outputs": [],
   "source": [
    "ls0=mat_to_rad(pos[np.where(y_train==0),:][0])\n",
    "ls1=mat_to_rad(pos[np.where(y_train==1),:][0])\n",
    "ls2=mat_to_rad(pos[np.where(y_train==2),:][0])\n",
    "ls3=mat_to_rad(pos[np.where(y_train==3),:][0])"
   ]
  },
  {
   "cell_type": "code",
   "execution_count": null,
   "metadata": {},
   "outputs": [],
   "source": [
    "ls0=np.abs(ls0-np.mean(ls0))\n",
    "ls1=np.abs(ls1-np.mean(ls1))\n",
    "ls2=np.abs(ls2-np.mean(ls2))\n",
    "ls3=np.abs(ls3-np.mean(ls3))"
   ]
  },
  {
   "cell_type": "code",
   "execution_count": null,
   "metadata": {},
   "outputs": [],
   "source": [
    "s0=ls0\n",
    "s1=ls1\n",
    "s2=ls2\n",
    "s3=ls3"
   ]
  },
  {
   "cell_type": "code",
   "execution_count": null,
   "metadata": {},
   "outputs": [],
   "source": [
    "import pandas as pd\n",
    "angels=pd.DataFrame(np.zeros([1053,2]),columns=['Angle','Class'])"
   ]
  },
  {
   "cell_type": "code",
   "execution_count": null,
   "metadata": {},
   "outputs": [],
   "source": [
    "angels['Class'][:len(s0)]=0\n",
    "angels['Class'][len(s0):len(s0)+len(s1)]=1\n",
    "angels['Class'][len(s0)+len(s1):len(s0)+len(s1)+len(s2)]=2\n",
    "angels['Class'][len(s0)+len(s1)+len(s2):len(s0)+len(s1)+len(s2)+len(s3)]=3"
   ]
  },
  {
   "cell_type": "code",
   "execution_count": null,
   "metadata": {},
   "outputs": [],
   "source": [
    "angels['Angle'][:len(s0)]=s0\n",
    "angels['Angle'][len(s0):len(s0)+len(s1)]=s1\n",
    "angels['Angle'][len(s0)+len(s1):len(s0)+len(s1)+len(s2)]=s2\n",
    "angels['Angle'][len(s0)+len(s1)+len(s2):len(s0)+len(s1)+len(s2)+len(s3)]=s3"
   ]
  },
  {
   "cell_type": "code",
   "execution_count": null,
   "metadata": {},
   "outputs": [],
   "source": [
    "r_class=0\n",
    "a0=np.copy(angels)\n",
    "a0=pd.DataFrame(a0,columns=['Angle','Class'])\n",
    "a0['Class'].loc[np.where(angels['Class']==r_class)]=1\n",
    "a0['Class'].loc[np.where(angels['Class']!=r_class)]=0\n",
    "\n",
    "r_class=1\n",
    "a1=np.copy(angels)\n",
    "a1=pd.DataFrame(a1,columns=['Angle','Class'])\n",
    "a1['Class'].loc[np.where(angels['Class']==r_class)]=1\n",
    "a1['Class'].loc[np.where(angels['Class']!=r_class)]=0\n",
    "r_class=2\n",
    "a2=np.copy(angels)\n",
    "a2=pd.DataFrame(a2,columns=['Angle','Class'])\n",
    "a2['Class'].loc[np.where(angels['Class']==r_class)]=1\n",
    "a2['Class'].loc[np.where(angels['Class']!=r_class)]=0\n",
    "r_class=3\n",
    "a3=np.copy(angels)\n",
    "a3=pd.DataFrame(a3,columns=['Angle','Class'])\n",
    "a3['Class'].loc[np.where(angels['Class']==r_class)]=1\n",
    "a3['Class'].loc[np.where(angels['Class']!=r_class)]=0"
   ]
  },
  {
   "cell_type": "code",
   "execution_count": null,
   "metadata": {},
   "outputs": [],
   "source": [
    "%store a0\n",
    "%store a1\n",
    "%store a2\n",
    "%store a3"
   ]
  },
  {
   "cell_type": "code",
   "execution_count": null,
   "metadata": {},
   "outputs": [],
   "source": [
    "y_train"
   ]
  },
  {
   "cell_type": "markdown",
   "metadata": {},
   "source": [
    "# pd.DataFrame(selected_features_test)"
   ]
  },
  {
   "cell_type": "code",
   "execution_count": null,
   "metadata": {},
   "outputs": [],
   "source": [
    "from sklearn.datasets import make_classification\n",
    "from sklearn.neighbors import KNeighborsClassifier\n",
    "from sklearn.model_selection import train_test_split\n",
    "from sklearn.metrics import roc_curve\n",
    "from sklearn.metrics import roc_auc_score\n",
    "from matplotlib import pyplot\n",
    "\n",
    "y_test1=np.zeros(y_test.shape)\n",
    "y_test2=np.zeros(y_test.shape)\n",
    "y_test3=np.zeros(y_test.shape)\n",
    "y_test4=np.zeros(y_test.shape)\n",
    "y_test1[y_test==0]=1\n",
    "y_test2[y_test==1]=1\n",
    "y_test3[y_test==2]=1\n",
    "y_test4[y_test==3]=1\n",
    "y_test2=np.column_stack((y_test1,y_test2,y_test3,y_test4))\n",
    "\n",
    "\n",
    "# keep probabilities for the positive outcome only\n",
    "#probs = probs[:, 1]\n",
    "# calculate AUC\n",
    "#auc = roc_auc_score(y_test2[1], probs)\n",
    "#print('AUC: %.3f' % auc)\n",
    "# calculate roc curve\n",
    "fpr, tpr, thresholds = roc_curve(y_test2[:,1], probs)\n",
    "# plot no skill\n",
    "pyplot.plot([0, 1], [0, 1], linestyle='--')\n",
    "# plot the roc curve for the model\n",
    "pyplot.plot(fpr, tpr, marker='.')\n",
    "# show the plot\n",
    "pyplot.show()"
   ]
  },
  {
   "cell_type": "code",
   "execution_count": null,
   "metadata": {},
   "outputs": [],
   "source": [
    "from sklearn.datasets import make_classification\n",
    "from sklearn.neighbors import KNeighborsClassifier\n",
    "from sklearn.model_selection import train_test_split\n",
    "from sklearn.metrics import roc_curve\n",
    "from sklearn.metrics import roc_auc_score\n",
    "from matplotlib import pyplot\n",
    "# generate 2 class dataset\n",
    "X, y = make_classification(n_samples=1000, n_classes=2, weights=[1,1], random_state=1)\n",
    "# split into train/test sets\n",
    "trainX, testX, trainy, testy = train_test_split(X, y, test_size=0.5, random_state=2)\n",
    "# fit a model\n",
    "model = KNeighborsClassifier(n_neighbors=3)\n",
    "model.fit(trainX, trainy)\n",
    "# predict probabilities\n",
    "probs = model.predict_proba(testX)\n",
    "# keep probabilities for the positive outcome only\n",
    "probs = probs[:, 1]\n",
    "# calculate AUC\n",
    "auc = roc_auc_score(testy, probs)\n",
    "print('AUC: %.3f' % auc)\n",
    "# calculate roc curve\n",
    "fpr, tpr, thresholds = roc_curve(testy, probs)\n",
    "# plot no skill\n",
    "pyplot.plot([0, 1], [0, 1], linestyle='--')\n",
    "# plot the roc curve for the model\n",
    "pyplot.plot(fpr, tpr, marker='.')\n",
    "# show the plot\n",
    "pyplot.show()"
   ]
  },
  {
   "cell_type": "code",
   "execution_count": null,
   "metadata": {},
   "outputs": [],
   "source": [
    "probs"
   ]
  },
  {
   "cell_type": "code",
   "execution_count": null,
   "metadata": {},
   "outputs": [],
   "source": [
    "import numpy as np\n",
    "import pandas as pd\n",
    "c = [[x,y] for x,y in zip(list(np.random.normal(100,20,500)) , list(np.random.normal(50,10,500)))]\n",
    "d = [[x,y] for x,y in zip(list(np.random.normal(50,10,1000)) , list(np.random.normal(0,10,1000)))]\n",
    "e = [[x,y] for x,y in zip(list(np.random.normal(50,10,750)) , list(np.random.normal(100,20,750)))]\n",
    "dat_raw = c+d+e\n",
    "main_df = pd.DataFrame(ls)"
   ]
  },
  {
   "cell_type": "code",
   "execution_count": null,
   "metadata": {},
   "outputs": [],
   "source": [
    "%load_ext rpy2"
   ]
  },
  {
   "cell_type": "code",
   "execution_count": null,
   "metadata": {},
   "outputs": [],
   "source": [
    "%store data"
   ]
  },
  {
   "cell_type": "code",
   "execution_count": null,
   "metadata": {},
   "outputs": [],
   "source": [
    "%%R -o rvar rvar=1+2+3"
   ]
  },
  {
   "cell_type": "code",
   "execution_count": null,
   "metadata": {},
   "outputs": [],
   "source": []
  },
  {
   "cell_type": "code",
   "execution_count": null,
   "metadata": {
    "scrolled": true
   },
   "outputs": [],
   "source": [
    "import pandas as pd\n",
    "import numpy as np\n",
    "\n",
    "\n",
    "def expectation_max(data, max_iter=1000):\n",
    "    data = pd.DataFrame(data)\n",
    "    mu0 = data.mean()\n",
    "    c0 = data.cov()\n",
    "\n",
    "    for j in range(max_iter):\n",
    "        w = []\n",
    "        # perform the E part of algorithm\n",
    "        for i in data:\n",
    "            wk = (5 + len(data))/(5 + np.dot(np.dot(np.transpose(i - mu0), np.linalg.inv(c0)), (i - mu0)))\n",
    "            w.append(wk)\n",
    "            w = np.array(w)\n",
    "\n",
    "        # perform the M part of the algorithm\n",
    "        mu = (np.dot(w, data))/(np.sum(w))\n",
    "\n",
    "        c = 0\n",
    "        for i in range(len(data)):\n",
    "            c += w[i] * np.dot((data[i] - mu0), (np.transpose(data[i] - mu0)))\n",
    "        cov = c/len(data)\n",
    "\n",
    "        mu0 = mu\n",
    "        c0 = cov\n",
    "\n",
    "    return mu0, c0"
   ]
  },
  {
   "cell_type": "code",
   "execution_count": null,
   "metadata": {
    "scrolled": true
   },
   "outputs": [],
   "source": [
    "mu, kappa = 0.0, 4.0 # mean and dispersion\n",
    "ss = np.random.vonmises(mu, kappa, 1000)\n",
    "import matplotlib.pyplot as plt\n",
    "import scipy.special as sps\n",
    "count, bins, ignored = plt.hist(ss, 50, normed=True)\n",
    "x = s\n",
    "y = -np.exp(kappa*np.cos(x-mu))/(2*np.pi*sps.jn(0,kappa))\n",
    "prob= y/max(y)\n"
   ]
  },
  {
   "cell_type": "markdown",
   "metadata": {},
   "source": [
    "## Untitles\n"
   ]
  },
  {
   "cell_type": "code",
   "execution_count": null,
   "metadata": {},
   "outputs": [],
   "source": [
    "xx"
   ]
  },
  {
   "cell_type": "code",
   "execution_count": null,
   "metadata": {},
   "outputs": [],
   "source": [
    "import pandas as pd\n",
    "s=pd.DataFrame.from_csv('/home/nanni/Data/Nagano_et_al_2017/maps/resolution_500000/bins.tsv', sep='\\t')"
   ]
  },
  {
   "cell_type": "code",
   "execution_count": null,
   "metadata": {},
   "outputs": [],
   "source": [
    "xx=s.iloc[idx,:]"
   ]
  },
  {
   "cell_type": "code",
   "execution_count": null,
   "metadata": {},
   "outputs": [],
   "source": [
    "xx.to_csv('selected_bins_sum_nonzero.tsv', sep='\\t')"
   ]
  },
  {
   "cell_type": "code",
   "execution_count": null,
   "metadata": {},
   "outputs": [],
   "source": [
    "import numpy as np\n",
    "from scipy import interp\n",
    "import matplotlib.pyplot as plt\n",
    "from itertools import cycle\n",
    "from sklearn.metrics import roc_curve, auc\n",
    "\n",
    "# Plot linewidth.\n",
    "lw = 2\n",
    "\n",
    "# Compute ROC curve and ROC area for each class\n",
    "fpr = dict()\n",
    "tpr = dict()\n",
    "roc_auc = dict()\n",
    "\n",
    "\n",
    "# Plot all ROC curves\n",
    "plt.figure(1)\n",
    "plt.plot(fpr[\"micro\"], tpr[\"micro\"],\n",
    "         label='micro-average ROC curve (area = 0.98)'\n",
    "               '',\n",
    "         color='deeppink', linestyle=':', linewidth=4)\n",
    "\n",
    "plt.plot(fpr[\"macro\"], tpr[\"macro\"],\n",
    "         label='macro-average ROC curve (area = 0.99)'\n",
    "               '',\n",
    "         color='navy', linestyle=':', linewidth=4)\n",
    "\n",
    "colors = cycle(['aqua', 'darkorange', 'cornflowerblue'])\n",
    "for i, color in zip(range(n_classes), colors):\n",
    "    plt.plot(fpr[i], tpr[i], color=color, lw=lw,\n",
    "             label='ROC curve of class {0} (area = 091)'\n",
    "             '')\n",
    "\n",
    "plt.plot([0, 1], [0, 1], 'k--', lw=lw)\n",
    "plt.xlim([0.0, 1.0])\n",
    "plt.ylim([0.0, 1.05])\n",
    "plt.xlabel('False Positive Rate')\n",
    "plt.ylabel('True Positive Rate')\n",
    "plt.title('Some extension of Receiver operating characteristic to multi-class')\n",
    "plt.legend(loc=\"lower right\")\n",
    "plt.show()\n",
    "\n"
   ]
  },
  {
   "cell_type": "code",
   "execution_count": null,
   "metadata": {},
   "outputs": [],
   "source": []
  }
 ],
 "metadata": {
  "kernelspec": {
   "display_name": "Python [conda env:IMD]",
   "language": "python",
   "name": "conda-env-IMD-py"
  },
  "language_info": {
   "codemirror_mode": {
    "name": "ipython",
    "version": 3
   },
   "file_extension": ".py",
   "mimetype": "text/x-python",
   "name": "python",
   "nbconvert_exporter": "python",
   "pygments_lexer": "ipython3",
   "version": "3.6.8"
  }
 },
 "nbformat": 4,
 "nbformat_minor": 2
}
